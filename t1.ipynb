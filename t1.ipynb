{
 "cells": [
  {
   "cell_type": "markdown",
   "metadata": {},
   "source": [
    "# Projeto 1 - Ciência dos Dados"
   ]
  },
  {
   "cell_type": "markdown",
   "metadata": {},
   "source": [
    "Nome: Barbara Martins Damasceno\n",
    "\n",
    "Nome: Daniel Delattre"
   ]
  },
  {
   "cell_type": "markdown",
   "metadata": {},
   "source": [
    "Atenção: Serão permitidos grupos de três pessoas, mas com uma rubrica mais exigente. Grupos deste tamanho precisarão fazer um questionário de avaliação de trabalho em equipe"
   ]
  },
  {
   "cell_type": "markdown",
   "metadata": {},
   "source": [
    "___\n",
    "Carregando algumas bibliotecas:"
   ]
  },
  {
   "cell_type": "code",
   "execution_count": 10,
   "metadata": {},
   "outputs": [],
   "source": [
    "%matplotlib inline\n",
    "import pandas as pd\n",
    "import matplotlib.pyplot as plt\n",
    "import numpy as np\n",
    "import os\n",
    "import string\n"
   ]
  },
  {
   "cell_type": "code",
   "execution_count": 11,
   "metadata": {
    "scrolled": false
   },
   "outputs": [
    {
     "name": "stdout",
     "output_type": "stream",
     "text": [
      "Esperamos trabalhar no diretório\n",
      "C:\\Users\\User\\Documents\\2 Semestre ENG\\Ciência dos Dados\\cdadosproj1\n"
     ]
    }
   ],
   "source": [
    "print('Esperamos trabalhar no diretório')\n",
    "print(os.getcwd())"
   ]
  },
  {
   "cell_type": "markdown",
   "metadata": {},
   "source": [
    "Carregando a base de dados com os tweets classificados como relevantes e não relevantes:"
   ]
  },
  {
   "cell_type": "code",
   "execution_count": 12,
   "metadata": {},
   "outputs": [],
   "source": [
    "dados = pd.read_excel('t1.xlsx')\n"
   ]
  },
  {
   "cell_type": "code",
   "execution_count": 13,
   "metadata": {},
   "outputs": [
    {
     "name": "stdout",
     "output_type": "stream",
     "text": [
      "<class 'pandas.core.frame.DataFrame'>\n",
      "RangeIndex: 300 entries, 0 to 299\n",
      "Data columns (total 2 columns):\n",
      "Treinamento    300 non-null object\n",
      "relevância     300 non-null int64\n",
      "dtypes: int64(1), object(1)\n",
      "memory usage: 4.8+ KB\n"
     ]
    }
   ],
   "source": [
    "dados.info()"
   ]
  },
  {
   "cell_type": "markdown",
   "metadata": {},
   "source": [
    "___\n",
    "## Classificador automático de sentimento\n"
   ]
  },
  {
   "cell_type": "markdown",
   "metadata": {},
   "source": [
    "Faça aqui uma descrição do seu produto e o que considerou como relevante ou não relevante na classificação dos tweets.\n",
    "\n",
    "ESCREVA AQUI..."
   ]
  },
  {
   "cell_type": "markdown",
   "metadata": {},
   "source": [
    "___\n",
    "### Montando um Classificador Naive-Bayes\n",
    "\n",
    "Considerando apenas as mensagens da planilha Treinamento, ensine  seu classificador."
   ]
  },
  {
   "cell_type": "code",
   "execution_count": 58,
   "metadata": {},
   "outputs": [
    {
     "data": {
      "text/html": [
       "<div>\n",
       "<style scoped>\n",
       "    .dataframe tbody tr th:only-of-type {\n",
       "        vertical-align: middle;\n",
       "    }\n",
       "\n",
       "    .dataframe tbody tr th {\n",
       "        vertical-align: top;\n",
       "    }\n",
       "\n",
       "    .dataframe thead th {\n",
       "        text-align: right;\n",
       "    }\n",
       "</style>\n",
       "<table border=\"1\" class=\"dataframe\">\n",
       "  <thead>\n",
       "    <tr style=\"text-align: right;\">\n",
       "      <th></th>\n",
       "      <th>Treinamento</th>\n",
       "      <th>relevância</th>\n",
       "      <th>tcl</th>\n",
       "      <th>aaa</th>\n",
       "    </tr>\n",
       "  </thead>\n",
       "  <tbody>\n",
       "    <tr>\n",
       "      <th>0</th>\n",
       "      <td>nunca vi um mercado tão cheio</td>\n",
       "      <td>Irrelevante</td>\n",
       "      <td>nunca vi um mercado tão cheio</td>\n",
       "      <td>nunca vi um mercado tão cheio</td>\n",
       "    </tr>\n",
       "    <tr>\n",
       "      <th>1</th>\n",
       "      <td>rt @folha: guedes diz que vai acionar stf cont...</td>\n",
       "      <td>Relevante</td>\n",
       "      <td>rt folha guedes diz que vai acionar stf contra...</td>\n",
       "      <td>rt folha guedes diz que vai acionar stf contra...</td>\n",
       "    </tr>\n",
       "    <tr>\n",
       "      <th>2</th>\n",
       "      <td>deixando tudo mais barato:\\ncupom ifood (app) ...</td>\n",
       "      <td>Irrelevante</td>\n",
       "      <td>deixando tudo mais barato cupom ifood app gt e...</td>\n",
       "      <td>deixando tudo mais barato cupom ifood app gt e...</td>\n",
       "    </tr>\n",
       "    <tr>\n",
       "      <th>3</th>\n",
       "      <td>rt @reporterlacerda: inovação no grenal\\n\\npre...</td>\n",
       "      <td>Irrelevante</td>\n",
       "      <td>rt reporterlacerda inovação no grenal prefeitu...</td>\n",
       "      <td>rt reporterlacerda inovação no grenal prefeitu...</td>\n",
       "    </tr>\n",
       "    <tr>\n",
       "      <th>4</th>\n",
       "      <td>@ericat_lol mercado a vista vai ficar parado p...</td>\n",
       "      <td>Relevante</td>\n",
       "      <td>ericatlol mercado a vista vai ficar parado por...</td>\n",
       "      <td>ericatlol mercado a vista vai ficar parado por...</td>\n",
       "    </tr>\n",
       "  </tbody>\n",
       "</table>\n",
       "</div>"
      ],
      "text/plain": [
       "                                         Treinamento   relevância  \\\n",
       "0                      nunca vi um mercado tão cheio  Irrelevante   \n",
       "1  rt @folha: guedes diz que vai acionar stf cont...    Relevante   \n",
       "2  deixando tudo mais barato:\\ncupom ifood (app) ...  Irrelevante   \n",
       "3  rt @reporterlacerda: inovação no grenal\\n\\npre...  Irrelevante   \n",
       "4  @ericat_lol mercado a vista vai ficar parado p...    Relevante   \n",
       "\n",
       "                                                 tcl  \\\n",
       "0                      nunca vi um mercado tão cheio   \n",
       "1  rt folha guedes diz que vai acionar stf contra...   \n",
       "2  deixando tudo mais barato cupom ifood app gt e...   \n",
       "3  rt reporterlacerda inovação no grenal prefeitu...   \n",
       "4  ericatlol mercado a vista vai ficar parado por...   \n",
       "\n",
       "                                                 aaa  \n",
       "0                      nunca vi um mercado tão cheio  \n",
       "1  rt folha guedes diz que vai acionar stf contra...  \n",
       "2  deixando tudo mais barato cupom ifood app gt e...  \n",
       "3  rt reporterlacerda inovação no grenal prefeitu...  \n",
       "4  ericatlol mercado a vista vai ficar parado por...  "
      ]
     },
     "execution_count": 58,
     "metadata": {},
     "output_type": "execute_result"
    }
   ],
   "source": [
    "import re \n",
    "def cleanup(text):\n",
    "    \"\"\"\n",
    "        Função de limpeza muito simples que troca alguns sinais básicos por espaços\n",
    "    \"\"\"\n",
    "    #import string\n",
    "    punctuation = '[!-.:?;@/…|]' # Note que os sinais [] são delimitadores de um conjunto.\n",
    "    pattern = re.compile(punctuation)\n",
    "    text_subbed = re.sub(pattern, ' ', text)\n",
    "    return text_subbed\n",
    "\n",
    "#limpa aqui \n",
    "\n",
    "def remove_punct(text):\n",
    "    text  = \"\".join([char for char in text if char not in string.punctuation])\n",
    "    text = re.sub('[0-9]+', '', text)\n",
    "    text = re.split('\\W+', text)\n",
    "    str1 = ' '.join(text)\n",
    "    return str1\n",
    "\n",
    "\n",
    "\n",
    "dados['tcl'] = dados['Treinamento'].apply(lambda x: remove_punct(x))\n",
    "dados['aaa'] = dados.tcl\n",
    "dados.head()"
   ]
  },
  {
   "cell_type": "code",
   "execution_count": 59,
   "metadata": {},
   "outputs": [],
   "source": [
    "tira = ['rt', '', '°' ,'http', 'httpstcokqpnqaxfv', 'httpstcovrihhbnul', 'httpstcogmobfrofwm', 'httpstcolpqyzpipv', 'httpstcoyhzejspd', 'httpstcolpqyzpipv', 'httpstcobrphzrfyd', 'httpstcotbsootjxe', 'httpstcokyrjivho', 'httpstcobhdwadk', 'httpstcocufqpbil', 'httpstcopjnrwoksr', 'httpstcohujspweh', 'httpstcorzsjgqk', 'httpstcopwlkspjpo', 'httpstcocuxjhfb', 'httpstcocxlzubldy', 'httpstcopwlkspjpo', 'httpstcooshuhxfj', 'httpstcofmnrqc', 'httpstcobsozomjbi', 'httpstcodqbmdeql', 'httpstcowskqbqncv', 'httpstco', 'httpstcocilmcin', 'httpstcozexyuuq', 'httpstcocjiddyril', 'httpstcogmieukicfb', 'httpstcogwhuhnw', 'httpstcooaxhcrnm', 'httpstcofochejxydx', 'httpstcoiyrlwhlky', 'httpstcoufogazu', 'httpstcowpxgjsh', 'httpstcoonxnxceb', 'httpstcogmieukicfb', 'httpstcovkrqnitiyf', 'httpstcomlwbdcxghh', 'httpstcoatnhkcwhy', 'httpstcolpqyzpipv', 'httpstcoseyezbhg', 'httpstcopgsoaqkqe', 'httpstcogeaaybfhi', 'httpstcoxrvwovyhti', 'httpstcoegatfkkzrl', 'httpstcofdutityxz', 'httpstcolobnwfjor', 'httpstcoohwyjgsq', 'httpstcoludlcyul', 'httpstcoqcadahjt', 'httpstcopvcmnkgdw', 'httpstcokqpnqaxfv', 'httpstcoxrvwovyhti', 'httpstcomunvvs', 'httpstcoylaqoyfwd', 'httpstcoapytzybg', 'httpstcovajjxjvdb', 'httpstcoerwnmppgu', 'httpstcobzqhwfln', 'httpstcorhrrojnzz', 'httpstcoonwmibew', 'httpstcoixliacyf', 'httpstcobuphdmga', 'httpstc', 'httpstcofuwvmhjhu', 'httpstcohumattcmzd', 'httpstcozfhomprp', 'httpstcodwznksm', 'httpstcohbnysldvyy', 'httpstcopjnrwoksr', 'httpstcodevccnsu', 'httpstcopfsnmqhni', 'httpstcooynqqsy', 'httpstcoexummhebp', 'httpstcogqweqboo', 'httpstcodrsejiqian', 'httpstcogxeabgvo', 'httpstcoklubwxp', 'httpstcofdutityxz', 'httpstcoabcyrnki', 'httpstcosyzetiler', 'httpstcowyvwpo', 'httpstcofochejxydx', 'httpstcogwhuhnw']\n",
    "#tira = ['rt']"
   ]
  },
  {
   "cell_type": "code",
   "execution_count": 60,
   "metadata": {},
   "outputs": [],
   "source": [
    "for lista in dados['tcl']:\n",
    "    for i in lista:\n",
    "        if i in tira:\n",
    "            lista.remove(i)"
   ]
  },
  {
   "cell_type": "code",
   "execution_count": 61,
   "metadata": {},
   "outputs": [],
   "source": [
    "for lista in dados['tcl']:\n",
    "    for i in lista:\n",
    "        if i[:4] == 'http':\n",
    "            tira.append(i)"
   ]
  },
  {
   "cell_type": "code",
   "execution_count": 62,
   "metadata": {},
   "outputs": [
    {
     "name": "stdout",
     "output_type": "stream",
     "text": [
      "nunca vi um mercado tão cheio\n",
      "rt folha guedes diz que vai acionar stf contra votação que eleva gasto em r bilhões httpstcokqpnqaxfv\n",
      "deixando tudo mais barato cupom ifood app gt eehzal código rappi gt q uber gt rjefc r picpay gt hjswz gt sbdga desconto uber eats gt eatsrjefc ofertas da amazon airbnb recargapay mercado livre e pagseguro no nosso perfil httpstcovrihhbnul\n",
      "rt reporterlacerda inovação no grenal prefeitura vai disponibilizar dois ônibus exclusivos para o transporte das mulheres até arena saí \n",
      "ericatlol mercado a vista vai ficar parado por h agora depois volta mas se atingir queda de vai parar e não tem previsão de volta\n",
      "vou passar no mercado dps do trampo pra fazer a mão das geladas pro grenal \n",
      "cabe a mão invisível do mercado pagar meu almoço e me fazer carinho\n",
      "circuit breaker acionado pela terceira vez na semana e dólar acima de r pelo visto além do donald trump o pessoal do mercado financeiro também não leu o artigo do bernardo küster\n",
      "rt bitencourtbas guedes chamou o mercado para brigar nos dólar mercado socou r na frente dele e fez o que ele dizia querer infel \n",
      "fui ao mercado comprar algo pra fazer almoço e chegando lá desisti poxa é pedir mto pedir pra ter uma cabeça normal\n",
      "é bizarro porque eu já trabalho em casa e só saio umas duas vezes por semana pra ir no mercado já fazia quarentena antes de ser modinha hipsterdaquarentena\n",
      "afirmamos com tranquilidade o melhor lixocar em tnt do mercado é da naimatec corte preciso e elegante solda ultrasônica perfeita tnt de qualidade biodegradável e cores incríveis faça um teste entre em contato pelo whatsapp httpstcogmobfrofwm\n",
      "rt alessandromolon o governo se recusa a reconhecer a gravidade do coronavírus momentos de seriedade exigem autoridades responsáveis e m \n",
      "pronto pessoal mais novo no mercado que está fazendo curso intensivo de cb já tem história pra contar \n",
      "rt farialimaelevat estagiários filhos do bullmarket bem vindos ao mercado financeiro\n",
      "role na italia agr é ir no mercado\n",
      "o bolsonarismo é antes de tudo uma mistura de burrice com desonestidade httpstcolpqyzpipv httpstcoyhzejspd\n",
      "na verdade o mercado já está sofrendo tivemos o circuit breaker em semana o dólar ultrapassou os r e o euro chegou acima dos r \n",
      "é difícil dizer isso mas eu preciso a agradecer o bolsonaro em menos de dois anos eu aprendi mais como funciona o judiciário o legislativo e agora o mercado financeiro nunca imaginei que a burrice do presidente fosse me fazer estudar e aprender coisas novas fora da minha área\n",
      "anapaulavolei realmente httpstcolpqyzpipv\n",
      "rt ironfall minha maior preocupação não é nem a queda do ab que aparentemente pode vir a ocorrer e não seria absurda time não evolui m \n",
      "rt leandroruschel no mundo inteiro o mercado desaba mas a culpa é do bolsonaro como é poderoso esse presidente consegue derrubar o me \n",
      "rt mariaquinolucas vem cá rapidinho vcs precisam parar de achar q a gente fica montada h se vc me ver no mercado padaria madureira \n",
      "rt ecantanhede procurase alguém para explicar por que o presidente decidiu tumultuar ainda mais o ambiente com a história de fraude nas \n",
      "bolsa brasileira cai mais de e aciona º circuit breaker do dia httpstcobrphzrfyd\n",
      "acionado segundo circuit breaker do dia no mercado à vista agora o pregão é paralisado por hora\n",
      "o maior buy and hold do mercado se chama clearcorretora você não consegue fazer trade nem se quiser\n",
      "cleidim guilhermepiu pessoal vocês parecem que não entendem a situação do clube não tiago nunes é outro patamar de técnico no país mesmo se for demitido do corinthians tem mercado em times de ponta do país tranquilamente acordem\n",
      "iphone gb rose seminovo valor r à vista ou x r via mercado livre acompanha caixa carregador e cabo usb bateria com garantia de meses nunca sofreu manutenção possui somente marcas de httpstcotbsootjxe\n",
      "imagina o tanto de cocaina que esses malucos do mercado financeiro não tão usando hoje\n",
      "rt glaucos dolar reais é prova final do fracasso do golpe contra dilma e o pt que tipos como rodrigo constantino da escola \n",
      "seokjinsface o preço do dólar é feito por aquela coisa de ofertademanda quando a procura pelo dólar é alta mas tem pouca moeda circulando no mercado o valor sobe quando a oferta é alta mas tem muita moeda circulando o valor da moeda abaixa\n",
      "o mercado pernambucano de dubladores nunca esteve tão perdido quanto neste trabalho httpstcokyrjivho httpstcobhdwadk catchback\n",
      "rt arrigo entrei no mercado as prateleiras vazias produtos esgotados sujeira abandono cara de saqueado pensei poxa o corona vírus \n",
      "rt bchartsnet após feat com o coronavírus dólar lança a shallow da carreira atinge um novo ápice e ultrapassa a marca dos r pela \n",
      "fcnfreire um bom vira lata caramelo é mais confiável que o mercado financeiro\n",
      "rt renatorovai escrevi isso ontem só reafirmando o pior ainda não chegou os analistas de mercado não estão informando os riscos tão \n",
      "rt guimaraespt o dólar está chegando na casa dos r o mercado está impaciente com o bolsonaro perceberam o caminho errado que es \n",
      "fui no mercado q calor do crl\n",
      "rt rammpl conexaopolitica recessão local transformada em recessão mundial planejada e executada com sucesso qdo a economia chinesa apr \n",
      "rt favchump look das noah go solo já tá pronto no mercado livre httpstcocufqpbil\n",
      "albertocalmeida o triste é ver o mercado financeiro se aproveitando da situação e tocando lenha na especulação putin aproveitando criando uma lei que o consolida eternamente no poder pergunta que faço cadê a a áfrica ninguém fala \n",
      "no dia que o nubank virar corretora eu migro os investimentos pra lá sei que vão fazer o home broker funcional do mercado\n",
      "veramagalhaes quero ver agora vocês falarem menos estado mais mercado quando a coisa aperta é sempre o estado que fica na linha de frente ou será que os hospitais privados vão oferecer leitos gratuitos para o povo\n",
      "allicymaria o dólar subiu tanto porque é uma moeda que não tem tanto risco de cair como não sabem se o mercado vai movimentar estão investindo em dólares pois não tem quase nenhum risco de perder esse dinheiro e não se sabe quando esse surto será sanado\n",
      "não consigo tankar com esses homi estranho q fica me encarando como se fossem vender meus órgão no mercado negro\n",
      "rt folha bolsa abre em alta de e bate r httpstcopjnrwoksr\n",
      "to melhorando de uma gripe ainda to com uma leve tosse eu comecei a tossir no mercado mais uma vez não ficou uma pessoa na mesma sessão que eu mas não é corona não irmãos amém\n",
      "bolsa brasileira cai mais de e aciona º circuit breaker do dia httpstcohujspweh\n",
      "a mão invisível do mercado na bunda dos yuppie mequetrefe\n",
      "baileyhug olá dewa como entrou na página mercado libre vamos te direcionar para nossa equipe do mercado pago brasil para oferecer a melhor experiência para você pedimos que acesse httpstcorzsjgqk selecione o motivo para contato e nos conte a sua dúvida\n",
      "rt eutheux o jovem tuiteiro no mercado de trabalho e o impacto dos memes kkk o gênero merece ser estudado meus parceiros\n",
      "highwindrigo eu concordo é justamente por isso que estão surgindo mais e mais novos estúdios pequenos pra desenvolver jogos deles problema é que precisa de financiamento né são bem poucas as empresas que conseguem ficar no mercado depois do primeiro jogo\n",
      "michellegf amiga sabe o que eu fiz com dólares hj comprei café e pão de queijo na cantina legumes e temperos no mercado tá baratinho o dólar \n",
      "o mercado de viagens foi de longe o mais afetado com viagens de lazer e negócios canceladas\n",
      "rt edupanzi problema do cruzeiro não se resume a joão lucas adilson batista ou ocimar tá muito claro pra mim q é uma soma disso e mui \n",
      "brunnoh esse corona vírus veio pra fuder meio mundo afetou em grande partes a china que é o maior país em atividade no mercado financeiro consequentemente afetou a todos estão comprando pouco e assim a moeda dólar se valorizou mas creio em deus que tudo vai voltar ao normal \n",
      "rt pastormalafaia é só o mercado perceber que existe possibilidade de impeachment o dólar cai e bolsa sobedilma ñ possui nenhuma possib \n",
      "a bolsa rompeu e tá pra nascer o filho que o mercado n queria ter kkkkkkkkkkkkkkkkkk httpstcopwlkspjpo\n",
      "o auge foi minha mãe ter comprado o mercado inteiro aqui pra casa ta parecendo filme do fim do mundo o carro dela tava tão lotado q quando a gente abria a porta as coisas caía kkkk\n",
      "rt driccos primeiro grenal de libertadores o mercado financeiro vindo abaixo colapso na saúde mundial tudo sendo cancelado adiado po \n",
      "a mulher do mercado eu vou é beber álcool em gel pra proteger do corona eu passei do lado tossido e bem ouvi ela falando mainha falou que a bixa me olhou como se fosse me exterminar\n",
      "no ano em que eu entro a fundo no mercado financeiro já acontece circuit breaker crl irmão\n",
      "rt markomello cadê o menas estado agora cês tem que rezar pro deus mercado se autorregular bando de cu de ampola httpstcocuxjhfb \n",
      "rt dicasdocartola mercado da bola começou agitado via uolesporte httpstcocxlzubldy\n",
      "rt letciaanselmo atenção ai precisando fazer frete alexandre fretes querendo instalar um som maneiro completo no carro ou alarme pra \n",
      "rt mariosbessa e o dólar chegou a r juros futuros já começam a sinalizar altas na selic dia muito tenso no mercado global\n",
      "rt oofaka bolsas continuam caindo hje com projeções de níveis ainda piores pela frente algumas projeções dão conta de níveis entre \n",
      "é muito engraçado essa galera avaliando o governo através do valor do dólar kkkkkk n entendem um alfinete sobre o mercado \n",
      "rt escotilha livro do escritor ian mcewan máquinas como eu cialetras discute as consequências da inserção da inteligência art \n",
      "o mercado global tá fdd nada de negócios ok vão fazer merda vão ah foi o corona foi o cacete quer um brasil mais qualificado e desenvolvido investe e retrai sabemos que aqui só tá um caos pela gestão a gente ainda nem foi atingido em cheio\n",
      "e o barata voa no governo segue firme me encanta a candise de alguns risiliente no mercado\n",
      "dólar a reais e circuit breaker desligamento das operações na bolsa em uma semana isso ocorre para amortecer os movimentos atípico no mercado ou seja para tentar conter a queda livre das ações em outras palavras a bolsa quebrou vezes só nessa semana\n",
      "mano tesouro tá suspenso segundo circuito breaker com h de mercado aberto kkkkkk o brasil vai quebrar\n",
      "a frase da moda agora é circuit breaker a bolsa de valores de são paulo nunca em toda na história usou tanto esse dispositivo para se proteger da volatividade do mercado financeiro parabéns aos envolvidos guedesbolsonaro\n",
      "quase derrubei a prateleira do mercado com o carrinho agr\n",
      "rt movimentopoema a bolsa rompeu e tá pra nascer o filho que o mercado n queria ter kkkkkkkkkkkkkkkkkk httpstcopwlkspjpo\n",
      "como eu explico pros meus amigos que querem ser fotógrafos em maceió que desde que eu comecei a acompanhar o mercado criativo por quem ganhou dinheiro até agora foi quem fotografou casamento e formatura\n",
      "rt samiabomfim estão quebrando a petrobrás httpstcooshuhxfj\n",
      "bcbigode dudamel tá livre no mercado \n",
      "twitter com story é isso mesmo kkkk daqui a pouco até mercado livrenetflix vai ter story kkk\n",
      "rt pablospyer o cenário mudou em anos de mercado nunca vi dar tanto circuit breaker aqui e mundo afora comentou pablo spyer di \n",
      "fascista n sabes o q significapapagaio de pirata tds minhas posições politicas são exatamente opostas ao fascismo defendo estado mínimo desburocratizaçãomercado livre menos poder nas mãos do estado tudo q o governo defende mas os esquerdiotas boicotam cala a boca burro httpstcofmnrqc\n",
      "em meio a última thread a bolsa atingiu um novo patamar negativo ao atingir o circuit breaker foi novamente ativado suspendendo o mercado de ações o dia vai ser longo httpstcobsozomjbi\n",
      "rt folha bolsa brasileira pode ter terceiro circuit breaker na semana httpstcodqbmdeql\n",
      "rt lookingforale hm quer dizer que os liberais tão pedindo uma mãozinho do estado pra conter a alta do dolar pq aparentemente a mão invis \n",
      "prefmossoro que igual medida seja adotada no centro da cidade especialmente no entorno da pça do codócel gurgel mercado central vias estas onde concentram maior núm de ambulantes afinal os ambulantes ñ podem determinar medidasregras e desorganizar o tráfego ficaadica\n",
      "rt zehdeabreu congresso impõe derrota ao governo e eleva gasto de benefício assistencial em r bi por ano httpstcowskqbqncv\n",
      "o mercado brasileiro enxerga as verdades não com ceticismo mas com o olho do c a medida do trump tem haver com características únicas dos eua a china parou mas a maior caraterística da economia da china é o poder de recuperação mas o brasileiro prefere gritar no twitter\n",
      "falei q queria comer hambúrguer minha mãe agr foi no mercado comprou carne e tá fazendo pra mim \n",
      "sallummig que ibov até onde eu sei o mercado nem abriu hoje \n",
      "imroger o problema que o mercado que mais percebo é nba msm kkk ou seja fodeu\n",
      "rt folha dólar nas alturas moeda americana abre em alta e bate r acompanhe a movimentação do mercado financeiro httpstco \n",
      "rt canalmynews urgente quintafeira de pânico no mercado com dois momentos de circuitbreaker na boficial às h o ibovespa apr \n",
      "belpetit é quando a bolsa brasileira cai aí as negociações param por minutos para ver se o mercado de acalma caso volte e a queda alcance ocorre um novo cb por h se o mercado no desespero cair no dia aí para por tempo indeterminado para tomar uma água\n",
      "o estado que tem que cuidar do dinheiro o mercado capitalista não consegue mama essa então estadista httpstcocilmcin\n",
      "pdruxo jairbolsonaro cara o governo é ridículo abaixo da crítica mas há de haver justiça inclusive qdo criticamos o dólar a cinco hoje não tem nada a ver com política econômica do guedes neste momento infelizmente independe de quem tá no ministério da economia é só ver o mercado no exterior\n",
      "nclhdd beetlemoney essa cotação do ouro caindo é só do financeiro não entendo de mercado\n",
      "a mão do mercado te bateu uma punhetinha\n",
      "titanicsrising isso é coisa de rihanna que eu sei a fanty falindo e agr ela quer entrar no mercado do álcool em gel por causa do corona vírus marqueteira\n",
      "rt braian é bizarro porque eu já trabalho em casa e só saio umas duas vezes por semana pra ir no mercado já fazia quarentena antes de se \n",
      "rt jlbraga você não vai acertar o fundo do mercado com essa do trump declaro hoje oficialmente que entramos no modo pânico na live co \n",
      "rt sunoresearch o mercado reage a novas medidas para conter o avanço do coronavírus com o novo circuit breaker o pregão fica suspenso p \n",
      "meu maior medo era de estar num mercado de trabalho que não fosse minha cara mas sinceramente olha essa sala cheio de egirl e povo de humanas legalize httpstcozexyuuq\n",
      "rt andersonrosavaz ecantanhede camposmello não seria o caso de essas manifestações do dia serem contra a bolsa talvez contra o merc \n",
      "saiba como funciona o circuit breaker na bolsa de valores httpstcocjiddyril\n",
      "a bolsa de valores dando circuit breaker duas vezes antes do meio dia é a mão invisível do mercado todinha socada no seu cu\n",
      "fui dormir ontem e acordei agora atrasado pra ir no mercado\n",
      "sugestão para o mercado financeiro férias coletivas voltem daqui a dias\n",
      " circuit breaker bixo pegando hora de mercado paralisado httpstcogmieukicfb\n",
      "guedes diz que vai acionar stf contra votação que eleva gasto em r bilhões httpstcogwhuhnw\n",
      "eu amo acordar cedo meu deus ja lavei louça fui pro mercado e ainda sao \n",
      "confira nossa executiva gisselle ruiz lanza falando sobre diversidade e inclusão iamintel httpstcooaxhcrnm\n",
      "rt danielcarvalho bolsa brasileira cai mais de e aciona º circuit breaker do dia httpstcofochejxydx\n",
      "saudades da minha cidade comer uma tapioquinha no mercado central bem cedinho com mainha httpstcoiyrlwhlky\n",
      "rt maryogurte bolsominion culpando o dólar tá r por conta de pandemia é o auge quando o real foi a moeda que mais desvalorizou no \n",
      "tabomraphael uoleconomia uol é o mercado a funcionar\n",
      "jakethemagee abriu o mercado de futuros as h em cb não voltou até agora daí as h abriu o mercado à vista e logo entrou em cb deu meia hora de pausa e voltou agora atingiu o segundo cb do dia no mercado à vista\n",
      "dolarbipolar é nem sextou e varou os o mercado tá oficialmente em pânico httpstcoufogazu\n",
      "mano eu tava de boas comendo miojo uma comida que eu não como faz um tempo e tava mó feliz sabe sem me sentir uma merda ambulante ai vem o meu pai ai a moça do mercado falou que é pra você parar de comer miojo ela disse que já parou porque tava engordando falou pra para\n",
      "vou correr no mercado pra comprar cerveja\n",
      "tesouronacional e tesourodireto expectativa para abertura do mercado\n",
      "eu odeio esse mercado httpstcowpxgjsh\n",
      "véi eu odeio vim no mercado\n",
      "queria converter cada circuit breaker que o mercado tá tendo essa semana por uma pessoa me massageando até o presente momento preciso de voluntários\n",
      "arrombaram o cu do brasilzao por anos coronavirus mercado tá uma merda vamos ignorar tudo isso e fazer piada com o bonoro\n",
      " você sabia que tem muita gente ganhando dinheiro de forma online usando um laptop ou até mesmo um celular com conexão à internet faço minhas operações no mercado de capitais sem sair de casa e já estou ganhando dinheiro quer saber como se inscreva httpstcoonxnxceb\n",
      "a mão invisível do mercado inteiramente enfiada no \n",
      "rt bmvmercados apertura de mercado bmv samppbmv ipc dólar spot \n",
      "rt thiagonigro circuit breaker bixo pegando hora de mercado paralisado httpstcogmieukicfb\n",
      "vou mete o loco e entrar no mercado de ações é isso fodase\n",
      "pandemia dólar em quase reais mercado de ações derretendo tempos difíceis estão por vir e alguns ainda eufóricos achando que as ações estão em liquidação será mesmo\n",
      "leitadasln corona pra mim preço bem abaixo do mercado pro resto do mundo e viva ao coelhinho da páscoa china está se recuperando agora justamente quando os preços no mundo inteiro estão desabando tudo muito coincidente\n",
      "belém debaixo dágua corona vírus matando todo mundo mercado financeiro em colapso \n",
      "tô indo no mercado vamos ver como tá a situação\n",
      "o mercado farmacêutico adora também sto errada e por quê httpstcovkrqnitiyf\n",
      "ecantanhede camposmello não seria o caso de essas manifestações do dia serem contra a bolsa talvez contra o mercado todo mundo com cartaz fora dólar \n",
      "isto é o que todos os que estão com autoridade estão pensando não deixe que uma boa crise seja desperdiçada haverá muitas mudanças e elas serão principalmente para beneficiar os que estão no poder folhamercado gi elonmusk\n",
      "galera do mercado financeiro hoje tá mais ocupado que tabelião da herança do gugu\n",
      "não vivo sem descontinhos cupom ifood app gt eehzal código rappi gt q uber gt rjefc r picpay gt hjswz gt sbdga desconto uber eats gt eatsrjefc ofertas da amazon airbnb recargapay mercado livre e pagseguro visite o nosso perfil httpstcomlwbdcxghh\n",
      "seja esperto e coma com o descontinho cupom ifood app gt eehzal código rappi gt q uber gt rjefc r picpay gt hjswz gt sbdga desconto uber eats gt eatsrjefc ofertas amazon airbnb recargapay mercado livre pagseguro lá no perfil httpstcoatnhkcwhy\n",
      "felipejsch fernandoulrich o mais provavel é que vá ser jogado pra cima mesmo inclusive o mercado está precificado dessa forma basta ver a expectativa de juros futuros de títulos do tesouro\n",
      "gfiuzaoficial chupa seu burro httpstcolpqyzpipv\n",
      "o mercado financeiro todo desabando por causa do corona virus e a culpa é do paulo guedes tem maluco que força demais\n",
      "rt profeborto que tal os manipuladores de mercado conseguiram espalhar o pânico seus bolsos ficaram abarrotados pânico com coronavír \n",
      "ivanmanrique mercadoingles aweonao\n",
      "seokjinsface e também tem fatores internos e externos q influenciam no valor do dólar por exemplo o pib o pib do brasil não está rendendo ou seja o não está interessante para os investidores com issoj os investidores pulam fora do mercado e faz com que tenha menos moeda circulando\n",
      "peagavargas valorinveste jairbolsonaro tá vendo você é um fanático político e não um analista de mercado tu só faz ataques e não analisa o real cenário do que tá acontecendo\n",
      "iguinhosiillva kkkkk fui no mercado e falei p mulher do caixa to esquecendo alguma coisa já já vou voltar mas só lembrei hr da manhã kkk\n",
      "rt rcasara a reação dos governos neoliberais ao coronavírus levará à eliminação das pessoas que menos interessam ao mercado pobres e ido \n",
      "o povo anda no mercado como se o mundo fosse acabar uma senhora até veio me dizer que isso era uma guerra kkk\n",
      "rt anarcobs º circuit breaker da semana pede música mercado financeiro httpstcoseyezbhg\n",
      "queda brusca no mercado de ações prejudica trabalhadores contratados sob o regime stock options httpstcopgsoaqkqe\n",
      "eu falei mae vamo no mercado estocar comida e ela nao me levou a serio\n",
      "rt ironfall antes de sugerirem um nome pesquisem o histórico e verão que o mercado está escasso apostar em técnico jovem também é um t \n",
      "não tem por aí uma migalhinha de mercado livre httpstcogeaaybfhi\n",
      "tive que comprar no mercado alguma coisa pra acabar com um leite que tinha aqui comprei sucrilhos meu paladar infantil me obriga\n",
      "e hj q em apenas minutos de o mercado ter aberto caiu suficiente para fazer com q o mercado fechace por minutos isto aconteceu umas vezes em anos e so está semana aconteceu vezes\n",
      "dia bolsa brasileira cai mais de e aciona º circuit breaker do dia httpstcoxrvwovyhti\n",
      "giordannonader lauraabcarvalho e não encontrará o neoliberalismo econômico propõe ações minimas do estado a lógica de mercado não consegue lidar com pandemias pois se pressupõe que o mercado sozinho é capaz de se auto organizar é um tipo de seleção natural que os mais fortes sobrevivam ao virus\n",
      "eu acho q se minha mãe pudesse ela morava no mercado todo dia cr kkk\n",
      "balletjovemminasgerais forma dançarinos para o mercado de trabalho e prepara jovens com de anos p ciasdedança e também para a vida o batepapo tá no geracaoalmg deste sáb h na tvalmg vejahttpstcodsammevy agenda minas souminasdemais culturamg httpstcoegatfkkzrl\n",
      "brendharaf para que possamos te ajudar pedimos que inicie uma reclamação se sua compra foi no mercado livre acesse compras gt compras gt três pontinhos gt preciso de ajuda se sua compra foi no mercado pago acesse atividades e na negociação correspondente em preciso de ajuda\n",
      "enfrentar a fila do mercado hj já tô vendo o estresse\n",
      "rt camaradacae vou tirar uma soneca antiquado faz vc parecer preguiçoso todo mundo usa entrarei em circuit break mostra que está \n",
      "rt folha bolsa brasileira abre cai e paralisa negócios httpstcofdutityxz\n",
      " pesquisa sobre o dia vermelho no mercado de criptomoedas e btc quanto você acha que o bitcoin estará valendo até o final do dia de negociação dê sua razão em um comentário e compartilhe a enquete\n",
      "corneteirobfr albuquerqueaf vale o minério de ferro teve alta recorde no mercado internacional e isto vai repercutir nos lucros da empresa\n",
      "e impressao minha ou tá rolando um movimento linguístico de mimetizar no no mercado o efeito do vírus nas pessoas para que fiquemos com mais medo do efeito deste no mercado do que nas pessoas\n",
      "não é por nada não mas avisei mercado não aceita desaforo ou arrogância httpstcolobnwfjor\n",
      "ayecompay felippehermes na atual situação para o bem do mercado interno faça como os europeus jogue a batata quente para a responsa de outro assim seus atos falhos vão ser só uma cortina esquecida era covid e do nada booom crise do petróleo o mundo vai além do nosso umbigo br\n",
      "santosrejes albuquerquedavy conexaopolitica quem falou em pt amigo já olhou o índice sampp hoje nem o mercado anda otimista mais se acha que discurso político não gera nada nem conversa dica semiótica e no brasil não é o corona mas a falta de articulação pt e corona tchau colega\n",
      "rt gtmacalossi circuit breaker acionado pela terceira vez na semana e dólar acima de r pelo visto além do donald trump o pessoal \n",
      "o circuit breaker do dia meu deus o mercado financeiro não está para amadores\n",
      "rt acorinthians fala fiel no dia a casa do povo recebe discussão sobre o aumento do interesse do futebol feminino a adesão de m \n",
      "dolar chegando á terceiro circuit breakerparalização do mercadobolsa pela terceira vez em uma semana dois elementos que nunca aconteceram na historia desse país pânico no mercado e não tem um pingo de comida aqui em casa tô começando a ficar desesperada sim\n",
      "e eu que briguei com uma mulher no mercado e meu namorado dizendo depois isso mesmo amor dale kkkkkk\n",
      "maria me deu um prejuízo no mercado kkkkkkk nunca mais levo\n",
      "o mercado está totalmente histérico já dizia o poeta o mercado é maníaco depressivo tem empresa sendo negociada de graça httpstcoohwyjgsq\n",
      "jeep renegade já vendeu mil unidades no brasil httpstcoludlcyul httpstcoqcadahjt\n",
      "guuksugad joonielay eu quero estudar sobre mercado de ações e investimentos acho muito interessante\n",
      "socialdembr fascista n sabes o q significapapagaio de pirata tds minhas posições politicas são exatamente opostas ao fascismo defendo estado mínimo desburocratizaçãomercado livre menos poder nas mãos do estado tudo q o governo defende mas os esquerdiotas boicotam cala a boca burro\n",
      "acho divertido ver o caos no mercado financeiro\n",
      "a smpedsp participou da plenária da câmara paulista para inclusão da pessoa com deficiência no mercado de trabalho formal a pauta foi sobre o índice de funcionalidade brasileiro modificado e resultados da pesquisa realizada pelo mptibope sobre os trabalhadores com deficiência httpstcopvcmnkgdw\n",
      "a mão invisível do mercado vai até o circuit breaker\n",
      "guedes diz que vai acionar stf contra votação que eleva gasto em r bilhões httpstcokqpnqaxfv\n",
      "zattarrafael razão em um momento em que a insensatez predomina no mercado você vem me falar em racionalidade\n",
      "rt diariodanovaera dia bolsa brasileira cai mais de e aciona º circuit breaker do dia httpstcoxrvwovyhti\n",
      "rt boficial b aciona circuit breaker novamente mecanismo que protege os investidores nos momentos de volatilidade excessiva nos merca \n",
      "mds o ticket alimentação da minha mae eh todinho p eu comprar salgado no mercado todo dia eu indo lá e gastando reais em coxinha vo morre\n",
      "rt rodp novolauropro docevicio por isso também que os eua estão putos com o sucesso das armas russas no mercado como os s o sis \n",
      "atenção ai precisando fazer frete alexandre fretes querendo instalar um som maneiro completo no carro ou alarme pra se proteger dos bandido leonardo som querendo comprar comida pra encher o buchinho mercado dois amigos obg pela atenção \n",
      "rt pforquesato o mercado aloca bens eficientemente no sentido de alocálos a quem tem maior disposição a pagar mas o problema é que e \n",
      "folha deem uma olhada nas criptomoedas pra ver como a turma ta chorando mais ainda das empresas perderam valor de mercado\n",
      "segundo circuit breaker do dia o mercado tá ficando previsível ou eu tô muito boa nas apostas e vamos de terceiro circuit breaker do dia no período da tarde vigia\n",
      "arrigo o único dia que fui que parecia um mercado decente arrumado tudo com preço bonitinho foi na mooca perto da faculdade de resto parece mercado de filme de zumbi\n",
      "fmunizb pior de tudo é que a netflix realmente tá indo na contramão do mercado ação subiu mais de tá acima de trezentos dólares ficar em casa tá valorizado fia kkkkkk\n",
      "acho que vou andando lá no públic compra um chocolate lá é mais barato q nos mercado aqui da avenida\n",
      "guedes diz que vai acionar stf contra votação que eleva gasto em r bilhões httpstcomunvvs\n",
      "alefp to no mercado agora e olha isso aqui httpstcoylaqoyfwd\n",
      "é óbvio que existe um limite de produção de vacinas em cuba na china se salvaram mil e quinhentos a itália já demanda imagina se cuba cobrar pelo preço de mercado a china comunista cobraria só que cuba é socialista salve a revolução cubana cubalibre cá gotohomeyanke\n",
      "consumo onthego reciclagem e economia circular são tendências para embalagens de proteína animal httpstcoapytzybg lácteos mercado laticínios cooperativas indústria comércio queijo marketing httpstcovajjxjvdb\n",
      "visando sempre disponibilizar diagnóstico de qualidade ao mercado brasileiro o teste malária pfpan eco teste da eco diagnóstica foi recentemente préqualificado pela oms através do fornecedor de matériaprima confira na notícia httpstcoerwnmppgu httpstcobzqhwfln\n",
      "httpstcorhrrojnzz facebook marão mercado imobiliário skype marão mercado imobiliário youtube josé ricardo marão vivo oi fixo teto q norte rua ne lt galeria victoria palmas to vídeos e produções httpstcoonwmibew\n",
      "rt catbrasa a yolanda tati a fazer stories a dizer ao pessoal pra não ser louco e correr pro supermercado enquanto mostra a sua lista de \n",
      "lucasit como a cvm não faz nada incrivel um cara desses ainda estar no mercado\n",
      "investidor xiure faveladoinvest mas ele sabia disso antes do mercado fechar pq ele ia comprar e lembrou q ia cair mais mas o ponto não eh esse enfim a noite o mundo todo sabia já\n",
      "terceiro circuit breaker agora é só aguardar o pior momento do mercado pra ir às compras \n",
      "uolesporte mercado tá sem opção\n",
      "novolauropro docevicio por isso também que os eua estão putos com o sucesso das armas russas no mercado como os s o sistema pantsir os tanques t e até os velhos e conhecidos kalashnikovs\n",
      "raphaelfaraco o mercado está ajudando quem precisa por este preço quem precisa ainda tem chance de comprar o problema é o povo que quando viu comprou de uma vez zerando os estoques nos próximos meses monitore o lixo da comcap e entenderá o que estou falando\n",
      "vanessitabsb o fato das escolhas de alguns ministro do bolsonaro ele é um bom nome ele é melhor que levy por exemplo é um cara de mercado que parecia mexer com as expectativas positivas do empresário dar um choque liberal positivo aumentar competitividade\n",
      "filipep peixeafogado jairbolsonaro monicabergamo o dólar hoje passa de reais porque o mercado que já estava especulando por conta do coronavírus hoje vislumbra que o governo não vai respeitar o teto de gastos ou seja são uns irresponsáveis\n",
      "é fácil presidente é só taxar os rendimentos do mercado financeiro que é isento de impostos os bancos tiveram um lucro de bilhões em e não pagaram tostão sequer de imposto por que só o pobre paga a conta o senhor acha isso justo httpstcoixliacyf\n",
      "catarinajabs eu acho que é uma parada muito nova no mercado e ainda não tem muito informações sobre ele algumas pessoas se dão bem outras não eu achei que o meu cicatrizou bem com ele minha pele aceitou de boas mas na hora de tirar foi foda\n",
      "bovespa fecha novamente pela terceira vez essa semana mercado mundial em pânico httpstcobuphdmga\n",
      "rt pablovillaca são anticiência estão acostumados à ideia de que apenas os mais pobres se fodem e não entenderam que o coronavir \n",
      "rt folha bolsa brasileira cai mais de e aciona º circuit breaker do dia acompanhe a movimentação do mercado financeiro httpstc \n",
      "rt bikedebigode é agora que eu falo pra me segui no insta neh eu vendo produtinhos sex shop com preços abaixo do mercado segue lá te \n",
      "a mão invisível do mercado tá metendo o dedo no cu te todo mundo e de uma forma não prazerosa\n",
      "para mais informações sobre o mercado cambial e cotação acesse o nosso boletim diário em httpstcofuwvmhjhu httpstcohumattcmzd\n",
      "você conhece o cada um por si da sociedade quando o mercado ta lotado e as prateleiras vazias\n",
      "off semana q vem vou mexer nas coisas dela e procurar fotos das viagens egito grécia havaí cuba mais de x na frança fazia mercado de mês em buenos aires ugh\n",
      "apanhando da mão invisível do mercado\n",
      "lollapalooza brasil será adiado por causa de coronavírus via propmark httpstcozfhomprp\n",
      "eu ainda não to operando por falta de tempo trabalho e estudo quando o mercado ta aberto mas quando eu chego em casa e faço minhas análises eu fico com um quentinho no coração de ver que to acertando\n",
      "mas hoje aconteceu pela primeira vez na história o dólar chegou à cotação de r reais as reformas enfraquecem a economia brasileira enfraquecem o seu mercado interno e desestimulam a entrada de investimentos produtivos de longo prazo\n",
      "rt bibigamino acionado segundo circuit breaker do dia no mercado à vista agora o pregão é paralisado por hora\n",
      "que o mercado financeiro exploda que a bolsa de valores despenque e que esses mega empresários entrem na falência vamos roubar o dinheiro roubado da burguesia \n",
      "ivensnt elecefab felipeufo ingridvianac o problema aqui começou no mercado financeiro um cara da xp voltou da itália e foi direto pra uma reunião depois disso um saiu contaminando o outro na empresa onde trabalho estamos fazendo home office até não sei quando há três casos confirmados\n",
      "rt rrvasco colombiano jogou no boca jnrs fez jogos no porto anos fez partidas na internazionale anos meses no vas \n",
      "mais um dia de absoluto crash do mercado financeiro cryptolobopt\n",
      "e mais uma vez o mercado fechou na semana httpstcodwznksm\n",
      "rt autopapo vw nivus novo suv da marca tem detalhes do interior revelados suv cupê derivado do polo chegará ao mercado brasileiro no i \n",
      "igortep a questão agora é sobrevivencia não é econômica erraram feio enquanto adiaram a prevenção por estas questões de mercado o mundo está vulnerável e cada segundo se isola mais em quarentenas olha o mundo da bola quase parado nestes dias\n",
      "crlleandro eu tô pensando em tirar o cpa agora no segundo semestre no mais tardar ano que vem vou entrar no mercado financeiro mas caralho que perda escrota tem bilionário que quase quebrou com isso\n",
      "o bom é que eu to aprendendo sobre mercado finaceiro né\n",
      "o jovem tuiteiro no mercado de trabalho e o impacto dos memes kkk o gênero merece ser estudado meus parceiros httpstcohbnysldvyy\n",
      "rt mlaudeauser circuit breaker é quando a mão invisível do mercado segura no puta que pariu do carro desgovernado achando que vai frear\n",
      "felicidade reinando quando a encomenda chega extremamente rápido mercado livre eu te amo\n",
      "rt vcanedo época boa para fazer uma lista de seriados e filmes para assistir dar play no bola quadrada começar um save no football mana \n",
      "rt eduardogayer no mercado acionário ibovespa futuro trava e no câmbio dólar abre a mais de r lá fora negociações dos futuros d \n",
      "rt vladschuler ojudeuateu o poder da mão invisível do mercado não pode ser guiado muito menos parado por força alguma e tentar fazêlo \n",
      "o mercado descendo a ladeira hoje e tem uns babacas subindo a tag diavaisergigante vao tomar no cu e vao estudar deixem de ser massa de manobra o governo precisa agir e nao ter seu ego massageado\n",
      "rafafl eles foram bem sinceros falando que vamos entrar numa recessão por conta do coronavirus e tá afetando o mercado mas que podemos ficar tranquilos pois não haverá cortes e que vão queimar as reservas para manter a empresa e que a previsão é de meses para a retomada\n",
      "marcoabreuu luz giratória de carros de polícia urgente quintafeira de pânico no mercado com dois momentos de circuitbreaker na boficial às h o ibovespa apresentava queda de chegando à marca dos pontos agora o pregão será suspenso pelo período de uma hora\n",
      "chinaina no mercado ele não mexe não suspendeu o transporte marítimo\n",
      "labhoro informa b tem o double circut breaker antes do meio dia o mercado ficará fechado por mais h\n",
      "tio a rússia e a arábia saudita tão de sacanagem tbm a porra do mercado internacional fudido a demanda de petróleo só caindo pq q vcs querem fuder mais alguém me explica\n",
      "rt folha pessoal é o dólar bateu r httpstcopjnrwoksr\n",
      "rt luizaerundina o efeito em cascata promovido pelo coronavírus e pelas políticas ultraliberais resulta em verdadeiro pânico no mercado g \n",
      "rt uolnoticias bolsa brasileira abre cai e paralisa negócios httpstcodevccnsu\n",
      "rt eibode alguém sabe me dizer quando custa um rim no mercado negro americano tenho um disponível pra vender\n",
      "emersonanomia para de ser idiota a cotação do dólar e culpa do mercado de ações e não do governo idiota \n",
      "isso enquanto ainda tem coisa p comprar no mercado\n",
      "esta na hora do mercado e agentes financeiros interferirem na loucura do maia esses bilhões de rombo nas contas é o prenúncio do fim a irresponsabilidade de um político sem voto mas ambicioso pode transformar isso num caos sem precedentes\n",
      "palestra do dia das mulheres com mulheres fodas da comunicação falando sobre assedio no mercado de trabalho entre outros pontos e caiu bem no dia da minha folga seria muita sorte\n",
      "bc jogando bi em dólar a vista no mercado\n",
      "rt bkerkali g que apoia paulo guedes fazendo um esforço para tranquilizar o mercado dólar bate r pela ª vez na história ma \n",
      "rt profeborto e os manipuladores de mercado continuam agindo bolsa de valores do brasil despenca e paralisa negócios renova míd \n",
      "bc está entrando forte no mercado financeiro para deter aumento do dólar economia neoliberal livre mercado financeiro oferta e procura neoliberal sos para bcb httpstcopfsnmqhni\n",
      "bolsa perdeu só hoje um banco itaú em valores de mercado dalhe neoliberalismo jegue paulo globonews edicao httpstcooynqqsy\n",
      "tava pensando aqui sobre como é bom estar cercado de pessoas boas painho fez amizade com um cliente qdo trabalhou numa empresa por anos esse cliente deu trabalho p painho depois de um tempo q ele já tava fora do mercado e ainda arrumou psiquiatra pra mim mesmo sem obrigação\n",
      "agora tá kkkkkkkkk essa medida do paulo guedes pra flutuação cambial tá complicada minha teoria é de que isso é pra fortalecer o mercado interno mas mesmo assim todo mundo paga a conta pq tudo vai subir devido a alta exportação e o valor pra importar httpstcoexummhebp\n",
      "º circuit breaker em uma semana º circuit breaker do dia httpstcogqweqboo\n",
      "vou melhorar seu dia cupom ifood app gt eehzal código rappi gt q uber gt rjefc r picpay gt hjswz gt sbdga desconto uber eats gt eatsrjefc ofertas da amazon airbnb recargapay mercado livre e pagseguro visite perfil httpstcodrsejiqian\n",
      "rt estevamreboucas bolsa brasileira abre cai mais de e paralisa negócios httpstcogxeabgvo\n",
      "rafaellibt beetlemoney ouro físico talvez no mercado financeiro definitivamente não\n",
      "rt cryptolobopt o mercado está em pânico total nem os bonds escapam à liquidação\n",
      "arthrrrrr mas é que o covid não começou com essa sopa foi no mercado de peixe de wuhan o primeiro caso mesmo foi do começo de bem depois de quando a notícia estourou aqui\n",
      "rt thylemoos já disse e vou repetir toda vez que o mercado abraçar um candidato desconfie e toda vez que o mercado se assustar com \n",
      "eduardarosa onde vou com você amo esse mercado kkkk\n",
      "iasmimnifany brumarquezine dantinhas eu sou ativo na luta contra o racismo e a inclusão de jovens negros no mercado de trabalho torço para a thelma e sei da realidade do babu o que justificaria ganhar o prêmio mas mostrar os erros dele não é racismo e quem diz isso só enfraquece a luta real contra o racismo\n",
      "maduchgs na itália voce tem que assinar documentos avisando o governo q vc vai pro mercado imagina mano aaaaa\n",
      "rt lelispatricia eu fico sempre desapontada com o movimento feminista brasileiro na maioria dos casos é briga de egobriga partidária \n",
      "fomos ao mercado hoje de máscaras ele morrendo de vergonha mas chegando lá não éramos os únicos covid covidpt\n",
      "larianja mas as pessoas estão indo ao mercado loucamente e comprando papel higiênico\n",
      "rt uolesporte lateral direita vira preocupação e flamengo pode mudar postura no mercado httpstcoklubwxp\n",
      "bolsa brasileira cai mais de e aciona º circuit breaker do dia acompanhe a movimentação do mercado financeiro httpstcofdutityxz\n",
      "nathaliaarcuri mepoupenaweb não dá nem tempo de comprar que fecham mercado poxa\n",
      "bibigamino nathaliaarcuri concordo contigo também opero no mini indice um stop normal de semanas atrás era de pontos um stop racional como um mercado dos últimos dias é de pontos fora a margem que precisa para operar contrato só\n",
      "poxa httpstcoabcyrnki\n",
      "cryptolobopt sim não sei se é o mercado forçando quebra do governo\n",
      "a mão invisível do mercado tá trabalhando bastante essa semana né\n",
      "cômico como uma demonstração de fragilidade do mercado o bc tem que intervir né sdds mão invisível hehehehehehehehehehehe\n",
      "g que apoia paulo guedes fazendo um esforço para tranquilizar o mercado dólar bate r pela ª vez na história mas reduz alta após atuação do bc lembrando aos economistas da globonews q o dólar está às httpstcosyzetiler\n",
      "acho q já entendi é q os profissionais do mercado financeiro querem pegar uma folga hj tudo faz mais sentido kkkkk\n",
      "rapaz bolsa brasileira cai mais de e aciona º circuit breaker do dia httpstcowyvwpo\n",
      "mano como que pode foi só o kevinfaguiar entrar no mercado de ações que a ibovespa caiu mil pontos inacreditável\n",
      "rt umup vê bolsominion liberal pedindo a intervenção do governo nessa situação é tão bonito o guedes não tem que falar nada não me \n",
      "a gente brinca pra tentar amenizar mas os impactos do vírus vão mto além da saúde entraremos num período de recessão econômica talvez até maior que a crise de o mercado sofrerá bastante os efeitos\n",
      "renatorovai isso não ta certo é óbvio que tem a ver com o coronavirus já que a quebradeira de bolsas ao redor do mundo tem tudo a ver com o coronavirus vocês vão ficar insistindo nessa tese de que o mercado reage mal ao bolsonaro o que é mentira e é fácil de desconstruir\n",
      "encontrei a olga no mercado e puta merda melhor pessoaprofissional que o zezao já teve\n",
      "bolsa brasileira cai mais de e aciona º circuit breaker do dia httpstcofochejxydx\n",
      "meu gato deve ta fazendo mercado negro de isqueiro pq todo dia ele dá um jeito de sumir com o meu\n",
      "santosgxbx a expectativa é essa porém na realidade esquece de comprar as coisas e dá preguiça de ir no mercado é mais fácil pedir algo no delivery kkkkk\n",
      "rt folhamercado guedes diz que vai acionar stf contra votação que eleva gasto em r bilhões httpstcogwhuhnw\n",
      "dólar sobe o brasileiro médio imediatamente usa a situação pra fazer propaganda do seu politico de estimação ainda que o fator pra que o mercado chegasse a esse ponto seja justamente consequência de medidas aplicadas por políticos inconsequentes\n",
      "rt vinisantucci fui ao mercado comprar café e o coronavírus subiu no meu pé eu sacudi sacudi sacudi mas o coronavírus não parava de sub \n",
      "estherlisboam é terek pren pren vai faltar aí no mercado\n"
     ]
    }
   ],
   "source": [
    "for i in dados.tcl:\n",
    "    print(i)"
   ]
  },
  {
   "cell_type": "code",
   "execution_count": 63,
   "metadata": {},
   "outputs": [
    {
     "data": {
      "text/html": [
       "<div>\n",
       "<style scoped>\n",
       "    .dataframe tbody tr th:only-of-type {\n",
       "        vertical-align: middle;\n",
       "    }\n",
       "\n",
       "    .dataframe tbody tr th {\n",
       "        vertical-align: top;\n",
       "    }\n",
       "\n",
       "    .dataframe thead th {\n",
       "        text-align: right;\n",
       "    }\n",
       "</style>\n",
       "<table border=\"1\" class=\"dataframe\">\n",
       "  <thead>\n",
       "    <tr style=\"text-align: right;\">\n",
       "      <th></th>\n",
       "      <th>Treinamento</th>\n",
       "      <th>relevância</th>\n",
       "      <th>tcl</th>\n",
       "      <th>aaa</th>\n",
       "    </tr>\n",
       "  </thead>\n",
       "  <tbody>\n",
       "    <tr>\n",
       "      <th>0</th>\n",
       "      <td>nunca vi um mercado tão cheio</td>\n",
       "      <td>Irrelevante</td>\n",
       "      <td>nunca vi um mercado tão cheio</td>\n",
       "      <td>nunca vi um mercado tão cheio</td>\n",
       "    </tr>\n",
       "    <tr>\n",
       "      <th>1</th>\n",
       "      <td>rt @folha: guedes diz que vai acionar stf cont...</td>\n",
       "      <td>Relevante</td>\n",
       "      <td>rt folha guedes diz que vai acionar stf contra...</td>\n",
       "      <td>rt folha guedes diz que vai acionar stf contra...</td>\n",
       "    </tr>\n",
       "    <tr>\n",
       "      <th>2</th>\n",
       "      <td>deixando tudo mais barato:\\ncupom ifood (app) ...</td>\n",
       "      <td>Irrelevante</td>\n",
       "      <td>deixando tudo mais barato cupom ifood app gt e...</td>\n",
       "      <td>deixando tudo mais barato cupom ifood app gt e...</td>\n",
       "    </tr>\n",
       "    <tr>\n",
       "      <th>3</th>\n",
       "      <td>rt @reporterlacerda: inovação no grenal\\n\\npre...</td>\n",
       "      <td>Irrelevante</td>\n",
       "      <td>rt reporterlacerda inovação no grenal prefeitu...</td>\n",
       "      <td>rt reporterlacerda inovação no grenal prefeitu...</td>\n",
       "    </tr>\n",
       "    <tr>\n",
       "      <th>4</th>\n",
       "      <td>@ericat_lol mercado a vista vai ficar parado p...</td>\n",
       "      <td>Relevante</td>\n",
       "      <td>ericatlol mercado a vista vai ficar parado por...</td>\n",
       "      <td>ericatlol mercado a vista vai ficar parado por...</td>\n",
       "    </tr>\n",
       "  </tbody>\n",
       "</table>\n",
       "</div>"
      ],
      "text/plain": [
       "                                         Treinamento   relevância  \\\n",
       "0                      nunca vi um mercado tão cheio  Irrelevante   \n",
       "1  rt @folha: guedes diz que vai acionar stf cont...    Relevante   \n",
       "2  deixando tudo mais barato:\\ncupom ifood (app) ...  Irrelevante   \n",
       "3  rt @reporterlacerda: inovação no grenal\\n\\npre...  Irrelevante   \n",
       "4  @ericat_lol mercado a vista vai ficar parado p...    Relevante   \n",
       "\n",
       "                                                 tcl  \\\n",
       "0                      nunca vi um mercado tão cheio   \n",
       "1  rt folha guedes diz que vai acionar stf contra...   \n",
       "2  deixando tudo mais barato cupom ifood app gt e...   \n",
       "3  rt reporterlacerda inovação no grenal prefeitu...   \n",
       "4  ericatlol mercado a vista vai ficar parado por...   \n",
       "\n",
       "                                                 aaa  \n",
       "0                      nunca vi um mercado tão cheio  \n",
       "1  rt folha guedes diz que vai acionar stf contra...  \n",
       "2  deixando tudo mais barato cupom ifood app gt e...  \n",
       "3  rt reporterlacerda inovação no grenal prefeitu...  \n",
       "4  ericatlol mercado a vista vai ficar parado por...  "
      ]
     },
     "execution_count": 63,
     "metadata": {},
     "output_type": "execute_result"
    }
   ],
   "source": [
    "#Classificando como categoria\n",
    "dados.loc[:,'relevância'] = dados['relevância'].astype('category')\n",
    "#Níveis da categoria\n",
    "dados.relevância.cat.categories = ['Irrelevante', 'Relevante']\n",
    "\n",
    "\n",
    "dados.head(5)"
   ]
  },
  {
   "cell_type": "code",
   "execution_count": 64,
   "metadata": {},
   "outputs": [
    {
     "name": "stdout",
     "output_type": "stream",
     "text": [
      "Probabilidade de ser relevante: 0.59\n",
      "Probabilidade de ser irrelevante: 0.41\n"
     ]
    }
   ],
   "source": [
    "#Dividindo a porcentagem em relevante e irrelevante\n",
    "base = dados.relevância.value_counts(True, sort=False)\n",
    "irrelevante = base[0]\n",
    "relevante = base[1]\n",
    "print(f\"Probabilidade de ser relevante: {relevante}\")\n",
    "print(f\"Probabilidade de ser irrelevante: {irrelevante}\")\n"
   ]
  },
  {
   "cell_type": "markdown",
   "metadata": {},
   "source": [
    "Criando o classificar"
   ]
  },
  {
   "cell_type": "code",
   "execution_count": 65,
   "metadata": {},
   "outputs": [
    {
     "data": {
      "text/plain": [
       "0                        nunca vi um mercado tão cheio\n",
       "1    rt folha guedes diz que vai acionar stf contra...\n",
       "2    deixando tudo mais barato cupom ifood app gt e...\n",
       "3    rt reporterlacerda inovação no grenal prefeitu...\n",
       "4    ericatlol mercado a vista vai ficar parado por...\n",
       "Name: tcl, dtype: object"
      ]
     },
     "execution_count": 65,
     "metadata": {},
     "output_type": "execute_result"
    }
   ],
   "source": [
    "dados.tcl.head(5)"
   ]
  },
  {
   "cell_type": "code",
   "execution_count": 67,
   "metadata": {},
   "outputs": [
    {
     "name": "stdout",
     "output_type": "stream",
     "text": [
      "['rt folha guedes diz que vai acionar stf contra votação que eleva gasto em r bilhões httpstcokqpnqaxfv', 'ericatlol mercado a vista vai ficar parado por h agora depois volta mas se atingir queda de vai parar e não tem previsão de volta', 'cabe a mão invisível do mercado pagar meu almoço e me fazer carinho', 'circuit breaker acionado pela terceira vez na semana e dólar acima de r pelo visto além do donald trump o pessoal do mercado financeiro também não leu o artigo do bernardo küster', 'rt bitencourtbas guedes chamou o mercado para brigar nos dólar mercado socou r na frente dele e fez o que ele dizia querer infel ', 'rt alessandromolon o governo se recusa a reconhecer a gravidade do coronavírus momentos de seriedade exigem autoridades responsáveis e m ', 'pronto pessoal mais novo no mercado que está fazendo curso intensivo de cb já tem história pra contar ', 'rt farialimaelevat estagiários filhos do bullmarket bem vindos ao mercado financeiro', 'na verdade o mercado já está sofrendo tivemos o circuit breaker em semana o dólar ultrapassou os r e o euro chegou acima dos r ', 'é difícil dizer isso mas eu preciso a agradecer o bolsonaro em menos de dois anos eu aprendi mais como funciona o judiciário o legislativo e agora o mercado financeiro nunca imaginei que a burrice do presidente fosse me fazer estudar e aprender coisas novas fora da minha área', 'rt leandroruschel no mundo inteiro o mercado desaba mas a culpa é do bolsonaro como é poderoso esse presidente consegue derrubar o me ', 'rt ecantanhede procurase alguém para explicar por que o presidente decidiu tumultuar ainda mais o ambiente com a história de fraude nas ', 'bolsa brasileira cai mais de e aciona º circuit breaker do dia httpstcobrphzrfyd', 'acionado segundo circuit breaker do dia no mercado à vista agora o pregão é paralisado por hora', 'o maior buy and hold do mercado se chama clearcorretora você não consegue fazer trade nem se quiser', 'imagina o tanto de cocaina que esses malucos do mercado financeiro não tão usando hoje', 'rt glaucos dolar reais é prova final do fracasso do golpe contra dilma e o pt que tipos como rodrigo constantino da escola ', 'seokjinsface o preço do dólar é feito por aquela coisa de ofertademanda quando a procura pelo dólar é alta mas tem pouca moeda circulando no mercado o valor sobe quando a oferta é alta mas tem muita moeda circulando o valor da moeda abaixa', 'rt bchartsnet após feat com o coronavírus dólar lança a shallow da carreira atinge um novo ápice e ultrapassa a marca dos r pela ', 'fcnfreire um bom vira lata caramelo é mais confiável que o mercado financeiro', 'rt renatorovai escrevi isso ontem só reafirmando o pior ainda não chegou os analistas de mercado não estão informando os riscos tão ', 'rt guimaraespt o dólar está chegando na casa dos r o mercado está impaciente com o bolsonaro perceberam o caminho errado que es ', 'rt rammpl conexaopolitica recessão local transformada em recessão mundial planejada e executada com sucesso qdo a economia chinesa apr ', 'albertocalmeida o triste é ver o mercado financeiro se aproveitando da situação e tocando lenha na especulação putin aproveitando criando uma lei que o consolida eternamente no poder pergunta que faço cadê a a áfrica ninguém fala ', 'no dia que o nubank virar corretora eu migro os investimentos pra lá sei que vão fazer o home broker funcional do mercado', 'allicymaria o dólar subiu tanto porque é uma moeda que não tem tanto risco de cair como não sabem se o mercado vai movimentar estão investindo em dólares pois não tem quase nenhum risco de perder esse dinheiro e não se sabe quando esse surto será sanado', 'rt folha bolsa abre em alta de e bate r httpstcopjnrwoksr', 'bolsa brasileira cai mais de e aciona º circuit breaker do dia httpstcohujspweh', 'a mão invisível do mercado na bunda dos yuppie mequetrefe', 'brunnoh esse corona vírus veio pra fuder meio mundo afetou em grande partes a china que é o maior país em atividade no mercado financeiro consequentemente afetou a todos estão comprando pouco e assim a moeda dólar se valorizou mas creio em deus que tudo vai voltar ao normal ', 'rt pastormalafaia é só o mercado perceber que existe possibilidade de impeachment o dólar cai e bolsa sobedilma ñ possui nenhuma possib ', 'a bolsa rompeu e tá pra nascer o filho que o mercado n queria ter kkkkkkkkkkkkkkkkkk httpstcopwlkspjpo', 'no ano em que eu entro a fundo no mercado financeiro já acontece circuit breaker crl irmão', 'rt markomello cadê o menas estado agora cês tem que rezar pro deus mercado se autorregular bando de cu de ampola httpstcocuxjhfb ', 'rt mariosbessa e o dólar chegou a r juros futuros já começam a sinalizar altas na selic dia muito tenso no mercado global', 'rt oofaka bolsas continuam caindo hje com projeções de níveis ainda piores pela frente algumas projeções dão conta de níveis entre ', 'é muito engraçado essa galera avaliando o governo através do valor do dólar kkkkkk n entendem um alfinete sobre o mercado ', 'o mercado global tá fdd nada de negócios ok vão fazer merda vão ah foi o corona foi o cacete quer um brasil mais qualificado e desenvolvido investe e retrai sabemos que aqui só tá um caos pela gestão a gente ainda nem foi atingido em cheio', 'dólar a reais e circuit breaker desligamento das operações na bolsa em uma semana isso ocorre para amortecer os movimentos atípico no mercado ou seja para tentar conter a queda livre das ações em outras palavras a bolsa quebrou vezes só nessa semana', 'mano tesouro tá suspenso segundo circuito breaker com h de mercado aberto kkkkkk o brasil vai quebrar', 'a frase da moda agora é circuit breaker a bolsa de valores de são paulo nunca em toda na história usou tanto esse dispositivo para se proteger da volatividade do mercado financeiro parabéns aos envolvidos guedesbolsonaro', 'rt movimentopoema a bolsa rompeu e tá pra nascer o filho que o mercado n queria ter kkkkkkkkkkkkkkkkkk httpstcopwlkspjpo', 'rt samiabomfim estão quebrando a petrobrás httpstcooshuhxfj', 'rt pablospyer o cenário mudou em anos de mercado nunca vi dar tanto circuit breaker aqui e mundo afora comentou pablo spyer di ', 'em meio a última thread a bolsa atingiu um novo patamar negativo ao atingir o circuit breaker foi novamente ativado suspendendo o mercado de ações o dia vai ser longo httpstcobsozomjbi', 'rt folha bolsa brasileira pode ter terceiro circuit breaker na semana httpstcodqbmdeql', 'rt lookingforale hm quer dizer que os liberais tão pedindo uma mãozinho do estado pra conter a alta do dolar pq aparentemente a mão invis ', 'rt zehdeabreu congresso impõe derrota ao governo e eleva gasto de benefício assistencial em r bi por ano httpstcowskqbqncv', 'o mercado brasileiro enxerga as verdades não com ceticismo mas com o olho do c a medida do trump tem haver com características únicas dos eua a china parou mas a maior caraterística da economia da china é o poder de recuperação mas o brasileiro prefere gritar no twitter', 'sallummig que ibov até onde eu sei o mercado nem abriu hoje ', 'rt folha dólar nas alturas moeda americana abre em alta e bate r acompanhe a movimentação do mercado financeiro httpstco ', 'rt canalmynews urgente quintafeira de pânico no mercado com dois momentos de circuitbreaker na boficial às h o ibovespa apr ', 'belpetit é quando a bolsa brasileira cai aí as negociações param por minutos para ver se o mercado de acalma caso volte e a queda alcance ocorre um novo cb por h se o mercado no desespero cair no dia aí para por tempo indeterminado para tomar uma água', 'pdruxo jairbolsonaro cara o governo é ridículo abaixo da crítica mas há de haver justiça inclusive qdo criticamos o dólar a cinco hoje não tem nada a ver com política econômica do guedes neste momento infelizmente independe de quem tá no ministério da economia é só ver o mercado no exterior', 'nclhdd beetlemoney essa cotação do ouro caindo é só do financeiro não entendo de mercado', 'rt jlbraga você não vai acertar o fundo do mercado com essa do trump declaro hoje oficialmente que entramos no modo pânico na live co ', 'rt sunoresearch o mercado reage a novas medidas para conter o avanço do coronavírus com o novo circuit breaker o pregão fica suspenso p ', 'rt andersonrosavaz ecantanhede camposmello não seria o caso de essas manifestações do dia serem contra a bolsa talvez contra o merc ', 'saiba como funciona o circuit breaker na bolsa de valores httpstcocjiddyril', 'a bolsa de valores dando circuit breaker duas vezes antes do meio dia é a mão invisível do mercado todinha socada no seu cu', 'sugestão para o mercado financeiro férias coletivas voltem daqui a dias', ' circuit breaker bixo pegando hora de mercado paralisado httpstcogmieukicfb', 'guedes diz que vai acionar stf contra votação que eleva gasto em r bilhões httpstcogwhuhnw', 'rt danielcarvalho bolsa brasileira cai mais de e aciona º circuit breaker do dia httpstcofochejxydx', 'rt maryogurte bolsominion culpando o dólar tá r por conta de pandemia é o auge quando o real foi a moeda que mais desvalorizou no ', 'jakethemagee abriu o mercado de futuros as h em cb não voltou até agora daí as h abriu o mercado à vista e logo entrou em cb deu meia hora de pausa e voltou agora atingiu o segundo cb do dia no mercado à vista', 'dolarbipolar é nem sextou e varou os o mercado tá oficialmente em pânico httpstcoufogazu', 'tesouronacional e tesourodireto expectativa para abertura do mercado', 'queria converter cada circuit breaker que o mercado tá tendo essa semana por uma pessoa me massageando até o presente momento preciso de voluntários', 'arrombaram o cu do brasilzao por anos coronavirus mercado tá uma merda vamos ignorar tudo isso e fazer piada com o bonoro', 'a mão invisível do mercado inteiramente enfiada no ', 'rt bmvmercados apertura de mercado bmv samppbmv ipc dólar spot ', 'rt thiagonigro circuit breaker bixo pegando hora de mercado paralisado httpstcogmieukicfb', 'vou mete o loco e entrar no mercado de ações é isso fodase', 'pandemia dólar em quase reais mercado de ações derretendo tempos difíceis estão por vir e alguns ainda eufóricos achando que as ações estão em liquidação será mesmo', 'leitadasln corona pra mim preço bem abaixo do mercado pro resto do mundo e viva ao coelhinho da páscoa china está se recuperando agora justamente quando os preços no mundo inteiro estão desabando tudo muito coincidente', 'belém debaixo dágua corona vírus matando todo mundo mercado financeiro em colapso ', 'ecantanhede camposmello não seria o caso de essas manifestações do dia serem contra a bolsa talvez contra o mercado todo mundo com cartaz fora dólar ', 'galera do mercado financeiro hoje tá mais ocupado que tabelião da herança do gugu', 'felipejsch fernandoulrich o mais provavel é que vá ser jogado pra cima mesmo inclusive o mercado está precificado dessa forma basta ver a expectativa de juros futuros de títulos do tesouro', 'o mercado financeiro todo desabando por causa do corona virus e a culpa é do paulo guedes tem maluco que força demais', 'rt profeborto que tal os manipuladores de mercado conseguiram espalhar o pânico seus bolsos ficaram abarrotados pânico com coronavír ', 'seokjinsface e também tem fatores internos e externos q influenciam no valor do dólar por exemplo o pib o pib do brasil não está rendendo ou seja o não está interessante para os investidores com issoj os investidores pulam fora do mercado e faz com que tenha menos moeda circulando', 'peagavargas valorinveste jairbolsonaro tá vendo você é um fanático político e não um analista de mercado tu só faz ataques e não analisa o real cenário do que tá acontecendo', 'rt rcasara a reação dos governos neoliberais ao coronavírus levará à eliminação das pessoas que menos interessam ao mercado pobres e ido ', 'rt anarcobs º circuit breaker da semana pede música mercado financeiro httpstcoseyezbhg', 'queda brusca no mercado de ações prejudica trabalhadores contratados sob o regime stock options httpstcopgsoaqkqe', 'e hj q em apenas minutos de o mercado ter aberto caiu suficiente para fazer com q o mercado fechace por minutos isto aconteceu umas vezes em anos e so está semana aconteceu vezes', 'dia bolsa brasileira cai mais de e aciona º circuit breaker do dia httpstcoxrvwovyhti', 'giordannonader lauraabcarvalho e não encontrará o neoliberalismo econômico propõe ações minimas do estado a lógica de mercado não consegue lidar com pandemias pois se pressupõe que o mercado sozinho é capaz de se auto organizar é um tipo de seleção natural que os mais fortes sobrevivam ao virus', 'rt camaradacae vou tirar uma soneca antiquado faz vc parecer preguiçoso todo mundo usa entrarei em circuit break mostra que está ', 'rt folha bolsa brasileira abre cai e paralisa negócios httpstcofdutityxz', ' pesquisa sobre o dia vermelho no mercado de criptomoedas e btc quanto você acha que o bitcoin estará valendo até o final do dia de negociação dê sua razão em um comentário e compartilhe a enquete', 'corneteirobfr albuquerqueaf vale o minério de ferro teve alta recorde no mercado internacional e isto vai repercutir nos lucros da empresa', 'e impressao minha ou tá rolando um movimento linguístico de mimetizar no no mercado o efeito do vírus nas pessoas para que fiquemos com mais medo do efeito deste no mercado do que nas pessoas', 'não é por nada não mas avisei mercado não aceita desaforo ou arrogância httpstcolobnwfjor', 'santosrejes albuquerquedavy conexaopolitica quem falou em pt amigo já olhou o índice sampp hoje nem o mercado anda otimista mais se acha que discurso político não gera nada nem conversa dica semiótica e no brasil não é o corona mas a falta de articulação pt e corona tchau colega', 'rt gtmacalossi circuit breaker acionado pela terceira vez na semana e dólar acima de r pelo visto além do donald trump o pessoal ', 'o circuit breaker do dia meu deus o mercado financeiro não está para amadores', 'dolar chegando á terceiro circuit breakerparalização do mercadobolsa pela terceira vez em uma semana dois elementos que nunca aconteceram na historia desse país pânico no mercado e não tem um pingo de comida aqui em casa tô começando a ficar desesperada sim', 'o mercado está totalmente histérico já dizia o poeta o mercado é maníaco depressivo tem empresa sendo negociada de graça httpstcoohwyjgsq', 'guuksugad joonielay eu quero estudar sobre mercado de ações e investimentos acho muito interessante', 'acho divertido ver o caos no mercado financeiro', 'a mão invisível do mercado vai até o circuit breaker', 'guedes diz que vai acionar stf contra votação que eleva gasto em r bilhões httpstcokqpnqaxfv', 'zattarrafael razão em um momento em que a insensatez predomina no mercado você vem me falar em racionalidade', 'rt diariodanovaera dia bolsa brasileira cai mais de e aciona º circuit breaker do dia httpstcoxrvwovyhti', 'rt boficial b aciona circuit breaker novamente mecanismo que protege os investidores nos momentos de volatilidade excessiva nos merca ', 'rt pforquesato o mercado aloca bens eficientemente no sentido de alocálos a quem tem maior disposição a pagar mas o problema é que e ', 'folha deem uma olhada nas criptomoedas pra ver como a turma ta chorando mais ainda das empresas perderam valor de mercado', 'segundo circuit breaker do dia o mercado tá ficando previsível ou eu tô muito boa nas apostas e vamos de terceiro circuit breaker do dia no período da tarde vigia', 'fmunizb pior de tudo é que a netflix realmente tá indo na contramão do mercado ação subiu mais de tá acima de trezentos dólares ficar em casa tá valorizado fia kkkkkk', 'guedes diz que vai acionar stf contra votação que eleva gasto em r bilhões httpstcomunvvs', 'visando sempre disponibilizar diagnóstico de qualidade ao mercado brasileiro o teste malária pfpan eco teste da eco diagnóstica foi recentemente préqualificado pela oms através do fornecedor de matériaprima confira na notícia httpstcoerwnmppgu httpstcobzqhwfln', 'lucasit como a cvm não faz nada incrivel um cara desses ainda estar no mercado', 'investidor xiure faveladoinvest mas ele sabia disso antes do mercado fechar pq ele ia comprar e lembrou q ia cair mais mas o ponto não eh esse enfim a noite o mundo todo sabia já', 'terceiro circuit breaker agora é só aguardar o pior momento do mercado pra ir às compras ', 'raphaelfaraco o mercado está ajudando quem precisa por este preço quem precisa ainda tem chance de comprar o problema é o povo que quando viu comprou de uma vez zerando os estoques nos próximos meses monitore o lixo da comcap e entenderá o que estou falando', 'vanessitabsb o fato das escolhas de alguns ministro do bolsonaro ele é um bom nome ele é melhor que levy por exemplo é um cara de mercado que parecia mexer com as expectativas positivas do empresário dar um choque liberal positivo aumentar competitividade', 'filipep peixeafogado jairbolsonaro monicabergamo o dólar hoje passa de reais porque o mercado que já estava especulando por conta do coronavírus hoje vislumbra que o governo não vai respeitar o teto de gastos ou seja são uns irresponsáveis', 'é fácil presidente é só taxar os rendimentos do mercado financeiro que é isento de impostos os bancos tiveram um lucro de bilhões em e não pagaram tostão sequer de imposto por que só o pobre paga a conta o senhor acha isso justo httpstcoixliacyf', 'catarinajabs eu acho que é uma parada muito nova no mercado e ainda não tem muito informações sobre ele algumas pessoas se dão bem outras não eu achei que o meu cicatrizou bem com ele minha pele aceitou de boas mas na hora de tirar foi foda', 'bovespa fecha novamente pela terceira vez essa semana mercado mundial em pânico httpstcobuphdmga', 'rt pablovillaca são anticiência estão acostumados à ideia de que apenas os mais pobres se fodem e não entenderam que o coronavir ', 'rt folha bolsa brasileira cai mais de e aciona º circuit breaker do dia acompanhe a movimentação do mercado financeiro httpstc ', 'a mão invisível do mercado tá metendo o dedo no cu te todo mundo e de uma forma não prazerosa', 'para mais informações sobre o mercado cambial e cotação acesse o nosso boletim diário em httpstcofuwvmhjhu httpstcohumattcmzd', 'apanhando da mão invisível do mercado', 'eu ainda não to operando por falta de tempo trabalho e estudo quando o mercado ta aberto mas quando eu chego em casa e faço minhas análises eu fico com um quentinho no coração de ver que to acertando', 'mas hoje aconteceu pela primeira vez na história o dólar chegou à cotação de r reais as reformas enfraquecem a economia brasileira enfraquecem o seu mercado interno e desestimulam a entrada de investimentos produtivos de longo prazo', 'rt bibigamino acionado segundo circuit breaker do dia no mercado à vista agora o pregão é paralisado por hora', 'que o mercado financeiro exploda que a bolsa de valores despenque e que esses mega empresários entrem na falência vamos roubar o dinheiro roubado da burguesia ', 'ivensnt elecefab felipeufo ingridvianac o problema aqui começou no mercado financeiro um cara da xp voltou da itália e foi direto pra uma reunião depois disso um saiu contaminando o outro na empresa onde trabalho estamos fazendo home office até não sei quando há três casos confirmados', 'mais um dia de absoluto crash do mercado financeiro cryptolobopt', 'e mais uma vez o mercado fechou na semana httpstcodwznksm', 'igortep a questão agora é sobrevivencia não é econômica erraram feio enquanto adiaram a prevenção por estas questões de mercado o mundo está vulnerável e cada segundo se isola mais em quarentenas olha o mundo da bola quase parado nestes dias', 'crlleandro eu tô pensando em tirar o cpa agora no segundo semestre no mais tardar ano que vem vou entrar no mercado financeiro mas caralho que perda escrota tem bilionário que quase quebrou com isso', 'o bom é que eu to aprendendo sobre mercado finaceiro né', 'rt mlaudeauser circuit breaker é quando a mão invisível do mercado segura no puta que pariu do carro desgovernado achando que vai frear', 'rt eduardogayer no mercado acionário ibovespa futuro trava e no câmbio dólar abre a mais de r lá fora negociações dos futuros d ', 'rt vladschuler ojudeuateu o poder da mão invisível do mercado não pode ser guiado muito menos parado por força alguma e tentar fazêlo ', 'o mercado descendo a ladeira hoje e tem uns babacas subindo a tag diavaisergigante vao tomar no cu e vao estudar deixem de ser massa de manobra o governo precisa agir e nao ter seu ego massageado', 'rafafl eles foram bem sinceros falando que vamos entrar numa recessão por conta do coronavirus e tá afetando o mercado mas que podemos ficar tranquilos pois não haverá cortes e que vão queimar as reservas para manter a empresa e que a previsão é de meses para a retomada', 'marcoabreuu luz giratória de carros de polícia urgente quintafeira de pânico no mercado com dois momentos de circuitbreaker na boficial às h o ibovespa apresentava queda de chegando à marca dos pontos agora o pregão será suspenso pelo período de uma hora', 'labhoro informa b tem o double circut breaker antes do meio dia o mercado ficará fechado por mais h', 'tio a rússia e a arábia saudita tão de sacanagem tbm a porra do mercado internacional fudido a demanda de petróleo só caindo pq q vcs querem fuder mais alguém me explica', 'rt folha pessoal é o dólar bateu r httpstcopjnrwoksr', 'rt luizaerundina o efeito em cascata promovido pelo coronavírus e pelas políticas ultraliberais resulta em verdadeiro pânico no mercado g ', 'rt uolnoticias bolsa brasileira abre cai e paralisa negócios httpstcodevccnsu', 'emersonanomia para de ser idiota a cotação do dólar e culpa do mercado de ações e não do governo idiota ', 'esta na hora do mercado e agentes financeiros interferirem na loucura do maia esses bilhões de rombo nas contas é o prenúncio do fim a irresponsabilidade de um político sem voto mas ambicioso pode transformar isso num caos sem precedentes', 'bc jogando bi em dólar a vista no mercado', 'rt bkerkali g que apoia paulo guedes fazendo um esforço para tranquilizar o mercado dólar bate r pela ª vez na história ma ', 'rt profeborto e os manipuladores de mercado continuam agindo bolsa de valores do brasil despenca e paralisa negócios renova míd ', 'bc está entrando forte no mercado financeiro para deter aumento do dólar economia neoliberal livre mercado financeiro oferta e procura neoliberal sos para bcb httpstcopfsnmqhni', 'bolsa perdeu só hoje um banco itaú em valores de mercado dalhe neoliberalismo jegue paulo globonews edicao httpstcooynqqsy', 'agora tá kkkkkkkkk essa medida do paulo guedes pra flutuação cambial tá complicada minha teoria é de que isso é pra fortalecer o mercado interno mas mesmo assim todo mundo paga a conta pq tudo vai subir devido a alta exportação e o valor pra importar httpstcoexummhebp', 'º circuit breaker em uma semana º circuit breaker do dia httpstcogqweqboo', 'rt estevamreboucas bolsa brasileira abre cai mais de e paralisa negócios httpstcogxeabgvo', 'rafaellibt beetlemoney ouro físico talvez no mercado financeiro definitivamente não', 'rt cryptolobopt o mercado está em pânico total nem os bonds escapam à liquidação', 'bolsa brasileira cai mais de e aciona º circuit breaker do dia acompanhe a movimentação do mercado financeiro httpstcofdutityxz', 'nathaliaarcuri mepoupenaweb não dá nem tempo de comprar que fecham mercado poxa', 'bibigamino nathaliaarcuri concordo contigo também opero no mini indice um stop normal de semanas atrás era de pontos um stop racional como um mercado dos últimos dias é de pontos fora a margem que precisa para operar contrato só', 'cryptolobopt sim não sei se é o mercado forçando quebra do governo', 'a mão invisível do mercado tá trabalhando bastante essa semana né', 'cômico como uma demonstração de fragilidade do mercado o bc tem que intervir né sdds mão invisível hehehehehehehehehehehe', 'g que apoia paulo guedes fazendo um esforço para tranquilizar o mercado dólar bate r pela ª vez na história mas reduz alta após atuação do bc lembrando aos economistas da globonews q o dólar está às httpstcosyzetiler', 'acho q já entendi é q os profissionais do mercado financeiro querem pegar uma folga hj tudo faz mais sentido kkkkk', 'rapaz bolsa brasileira cai mais de e aciona º circuit breaker do dia httpstcowyvwpo', 'mano como que pode foi só o kevinfaguiar entrar no mercado de ações que a ibovespa caiu mil pontos inacreditável', 'rt umup vê bolsominion liberal pedindo a intervenção do governo nessa situação é tão bonito o guedes não tem que falar nada não me ', 'a gente brinca pra tentar amenizar mas os impactos do vírus vão mto além da saúde entraremos num período de recessão econômica talvez até maior que a crise de o mercado sofrerá bastante os efeitos', 'renatorovai isso não ta certo é óbvio que tem a ver com o coronavirus já que a quebradeira de bolsas ao redor do mundo tem tudo a ver com o coronavirus vocês vão ficar insistindo nessa tese de que o mercado reage mal ao bolsonaro o que é mentira e é fácil de desconstruir', 'bolsa brasileira cai mais de e aciona º circuit breaker do dia httpstcofochejxydx', 'rt folhamercado guedes diz que vai acionar stf contra votação que eleva gasto em r bilhões httpstcogwhuhnw', 'dólar sobe o brasileiro médio imediatamente usa a situação pra fazer propaganda do seu politico de estimação ainda que o fator pra que o mercado chegasse a esse ponto seja justamente consequência de medidas aplicadas por políticos inconsequentes']\n",
      "['rt folha guedes diz que vai acionar stf contra votação que eleva gasto em r bilhões httpstcokqpnqaxfv', 'ericatlol mercado a vista vai ficar parado por h agora depois volta mas se atingir queda de vai parar e não tem previsão de volta', 'cabe a mão invisível do mercado pagar meu almoço e me fazer carinho', 'circuit breaker acionado pela terceira vez na semana e dólar acima de r pelo visto além do donald trump o pessoal do mercado financeiro também não leu o artigo do bernardo küster', 'rt bitencourtbas guedes chamou o mercado para brigar nos dólar mercado socou r na frente dele e fez o que ele dizia querer infel ']\n",
      "['nunca vi um mercado tão cheio', 'deixando tudo mais barato:\\ncupom ifood (app) =&gt; ee6hz487al\\ncódigo rappi =&gt; 82q38640354\\nuber -&gt; rjefc5\\nr$ 10,00 picpay =&gt; hjsw1z\\n99 -&gt; s53bdg5a\\n desconto uber eats =&gt; eats-rjefc5\\nofertas da amazon, airbnb, recargapay, mercado livre e pagseguro no nosso perfil https://t.co/vrih0hbnul', 'rt @reporterlacerda: inovação no grenal\\n\\nprefeitura vai disponibilizar dois ônibus exclusivos para o transporte das mulheres até arena. saí…', 'vou passar no mercado dps do trampo pra fazer a mão das geladas pro grenal 🇪🇪💙🇪🇪', 'fui ao mercado comprar algo pra fazer almoço e chegando lá desisti. poxa é pedir mto pedir pra ter uma cabeça normal?']\n"
     ]
    }
   ],
   "source": [
    "#Novas folhas de dados criadas a partir da relevancia\n",
    "dados_relev = dados[dados.relevância == 'Relevante'].copy()\n",
    "dados_irrelev = dados[dados.relevância == 'Irrelevante'].copy()\n",
    "\n",
    "\n",
    "\n",
    "import csv\n",
    "frases_ttrelev = dados_relev.tcl.tolist()\n",
    "print(frases_ttrelev)\n",
    "clean_relev = []\n",
    "\n",
    "\n",
    "output=open('relev2.txt','w',encoding=\"utf-8-sig\")\n",
    "for lista in frases_ttrelev:\n",
    "    output.write(lista)\n",
    "\n",
    "for i in frases_ttrelev:\n",
    "    palavra = cleanup(i)\n",
    "\n",
    "print(frases_ttrelev[0:5])\n",
    "\n",
    "\n",
    "#Irrelevante\n",
    "frases_ttirrelev = dados_irrelev.Treinamento.tolist()\n",
    "clean_irrelev = []\n",
    "\n",
    "\n",
    "output1=open('irrelev.txt','w',encoding=\"utf-8-sig\")\n",
    "for el in frases_ttirrelev:\n",
    "    output1.write(el)\n",
    "\n",
    "for i in frases_ttirrelev:\n",
    "    palavra = cleanup(i)\n",
    "\n",
    "print(frases_ttirrelev[0:5])"
   ]
  },
  {
   "cell_type": "code",
   "execution_count": null,
   "metadata": {},
   "outputs": [],
   "source": [
    "\n"
   ]
  },
  {
   "cell_type": "code",
   "execution_count": null,
   "metadata": {},
   "outputs": [],
   "source": [
    "with open(\"relev.txt\", \"r\", encoding=\"utf-8-sig\") as arquivo_texto:\n",
    "    relev_raw = arquivo_texto.read()\n",
    "    \n",
    "print(relev_raw[0:1000])\n",
    "\n",
    "#Irrelevante\n",
    "with open(\"irrelev.txt\", \"r\", encoding=\"utf-8-sig\") as arquivo_texto:\n",
    "    irrelev_raw = arquivo_texto.read()\n",
    "\n",
    "print(irrelev_raw[0:10])"
   ]
  },
  {
   "cell_type": "markdown",
   "metadata": {},
   "source": [
    "### CLEANUP "
   ]
  },
  {
   "cell_type": "code",
   "execution_count": null,
   "metadata": {},
   "outputs": [],
   "source": [
    "relev_c = cleanup(relev_raw.lower())\n",
    "print(relev_c[:1000])\n",
    "\n",
    "#Irrelevante\n",
    "irrelev_c = cleanup(irrelev_raw.lower())\n",
    "print(irrelev_c)"
   ]
  },
  {
   "cell_type": "markdown",
   "metadata": {},
   "source": [
    "### SPLITZADA"
   ]
  },
  {
   "cell_type": "code",
   "execution_count": null,
   "metadata": {},
   "outputs": [],
   "source": [
    "relevzada = relev_c.split()\n",
    "relevzada[:10]\n",
    "\n",
    "#Irrelevante\n",
    "irrelevzada = irrelev_c.split()\n",
    "irrelevzada[:10]"
   ]
  },
  {
   "cell_type": "code",
   "execution_count": null,
   "metadata": {},
   "outputs": [],
   "source": [
    "serie_relev = pd.Series(relevzada)\n",
    "tabela_relev = serie_relev.value_counts(True)\n",
    "tabela_relev\n",
    "\n",
    "#Irrelevante\n",
    "serie_irrelev = pd.Series(irrelevzada)\n",
    "tabela_irrelev = serie_irrelev.value_counts(True)\n",
    "#tabela_irrelev\n",
    "\n",
    "tabela_relev"
   ]
  },
  {
   "cell_type": "markdown",
   "metadata": {},
   "source": [
    "___\n",
    "### Verificando a performance do Classificador\n",
    "\n",
    "Agora você deve testar o seu classificador com a base de Testes."
   ]
  },
  {
   "cell_type": "code",
   "execution_count": null,
   "metadata": {},
   "outputs": [],
   "source": [
    "tudo = relev_c + irrelev_c"
   ]
  },
  {
   "cell_type": "code",
   "execution_count": null,
   "metadata": {},
   "outputs": [],
   "source": [
    "s_tudo = pd.Series(tudo.split())\n",
    "trel_tudo = s_tudo.value_counts(True)\n",
    "trel_tudo"
   ]
  },
  {
   "cell_type": "markdown",
   "metadata": {},
   "source": [
    "### Probabilidade segundo relevância"
   ]
  },
  {
   "cell_type": "code",
   "execution_count": null,
   "metadata": {},
   "outputs": [],
   "source": [
    "p_relev = len(serie_relev)/len(s_tudo)\n",
    "p_irrelev = len(serie_irrelev)/len(s_tudo)"
   ]
  },
  {
   "cell_type": "markdown",
   "metadata": {},
   "source": [
    "## Frase"
   ]
  },
  {
   "cell_type": "code",
   "execution_count": null,
   "metadata": {},
   "outputs": [],
   "source": [
    "frase = \"a vitamina bacate \"\n",
    "frase = cleanup(frase.lower())\n",
    "frase_split = frase.split()\n",
    "print(len(relevzada))\n",
    "tabela_relev\n"
   ]
  },
  {
   "cell_type": "code",
   "execution_count": null,
   "metadata": {},
   "outputs": [],
   "source": [
    "print(frase_split)\n",
    "\n",
    "for p in frase_split:\n",
    "    if p not in tabela_relev:\n",
    "        relevzada.append(p)\n",
    "        serie_relev = pd.Series(relevzada)\n",
    "        tabela_relev = serie_relev.value_counts(True)\n",
    "\n",
    "        \n",
    "        \n",
    "    if p not in tabela_irrelev:\n",
    "        irrelevzada.append(p)\n",
    "        serie_irrelev = pd.Series(irrelevzada)\n",
    "        tabela_irrelev = serie_irrelev.value_counts(True)\n",
    "\n",
    "\n",
    "        \n",
    "pf_dado_r = tabela_relev[frase_split].prod()\n",
    "pf_dado_i = tabela_irrelev[frase_split].prod()\n",
    "\n",
    "print(len(relevzada))\n",
    "tabela_relev\n",
    "tabela_relev[\"bacate\"]"
   ]
  },
  {
   "cell_type": "code",
   "execution_count": null,
   "metadata": {},
   "outputs": [],
   "source": [
    "pr_dado_f = pf_dado_r * p_relev\n",
    "pi_dado_f = pf_dado_i * p_irrelev\n",
    "\n",
    "print(pr_dado_f)\n",
    "print(pi_dado_f)"
   ]
  },
  {
   "cell_type": "markdown",
   "metadata": {},
   "source": [
    "___\n",
    "### Concluindo"
   ]
  },
  {
   "cell_type": "code",
   "execution_count": null,
   "metadata": {},
   "outputs": [],
   "source": [
    "print(f'pr dado f: {pr_dado_f:.20f}, pi dado f: {pi_dado_f:.20f}\\n')\n",
    "pr = (pr_dado_f>pi_dado_f)\n",
    "if pr:\n",
    "    print('Eu acho que é relevante')\n",
    "else:\n",
    "    print('nem gasta tempo lendo')"
   ]
  },
  {
   "cell_type": "code",
   "execution_count": null,
   "metadata": {},
   "outputs": [],
   "source": [
    "dados.head(10)"
   ]
  },
  {
   "cell_type": "code",
   "execution_count": null,
   "metadata": {},
   "outputs": [],
   "source": [
    "for i in dados.Treinamento:\n",
    "    if (pr_dado_f > pi_dado_f):\n",
    "        dados.loc[dados.Treinamento==i,'Classificador'] = 'Relevante'\n",
    "    else:\n",
    "        dados.loc[dados.Treinamento==i,'Classificador'] = 'Irrelevante'"
   ]
  },
  {
   "cell_type": "code",
   "execution_count": null,
   "metadata": {},
   "outputs": [],
   "source": [
    "dados.head(10)"
   ]
  },
  {
   "cell_type": "code",
   "execution_count": null,
   "metadata": {},
   "outputs": [],
   "source": [
    "for i in dados.Treinamento:\n",
    "    \n",
    "    frase = i\n",
    "    frase = cleanup(frase.lower())\n",
    "    frase_split = frase.split()\n",
    "\n",
    "    \n",
    "    for p in frase_split:\n",
    "        if p not in tabela_relev:\n",
    "            relevzada.append(p)\n",
    "            serie_relev = pd.Series(relevzada)\n",
    "            tabela_relev = serie_relev.value_counts(True)\n",
    "\n",
    "        if p not in tabela_irrelev:\n",
    "            irrelevzada.append(p)\n",
    "            serie_irrelev = pd.Series(irrelevzada)\n",
    "            tabela_irrelev = serie_irrelev.value_counts(True)\n",
    "\n",
    "            \n",
    "    pf_dado_r = tabela_relev[frase_split].prod()\n",
    "    pf_dado_i = tabela_irrelev[frase_split].prod()\n",
    "    \n",
    "    \n",
    "    if (pr_dado_f > pi_dado_f):\n",
    "        dados.loc[dados.Treinamento==i,'Classificador'] = 'Relevante'\n",
    "    else:\n",
    "        dados.loc[dados.Treinamento==i,'Classificador'] = 'Irrelevante'\n",
    "\n",
    "dados.head(10)"
   ]
  },
  {
   "cell_type": "markdown",
   "metadata": {},
   "source": [
    "___\n",
    "## Aperfeiçoamento:\n",
    "\n",
    "Os trabalhos vão evoluir em conceito dependendo da quantidade de itens avançados:\n",
    "\n",
    "* Limpar: \\n, :, \", ', (, ), etc SEM remover emojis\n",
    "* Corrigir separação de espaços entre palavras e emojis ou entre emojis e emojis\n",
    "* Propor outras limpezas e transformações que não afetem a qualidade da informação ou classificação\n",
    "* Criar categorias intermediárias de relevância baseadas na probabilidade: ex.: muito relevante, relevante, neutro, irrelevante, muito irrelevante (3 categorias: C, mais categorias conta para B)\n",
    "* Explicar por que não posso usar o próprio classificador para gerar mais amostras de treinamento\n",
    "* Propor diferentes cenários para Naïve Bayes fora do contexto do projeto\n",
    "* Sugerir e explicar melhorias reais com indicações concretas de como implementar (indicar como fazer e indicar material de pesquisa)\n",
    "* Montar um dashboard que periodicamente realiza análise de sentimento e visualiza estes dados"
   ]
  },
  {
   "cell_type": "markdown",
   "metadata": {},
   "source": [
    "___\n",
    "## Referências"
   ]
  },
  {
   "cell_type": "markdown",
   "metadata": {},
   "source": [
    "[Naive Bayes and Text Classification](https://arxiv.org/pdf/1410.5329.pdf)  **Mais completo**\n",
    "\n",
    "[A practical explanation of a Naive Bayes Classifier](https://monkeylearn.com/blog/practical-explanation-naive-bayes-classifier/) **Mais simples**"
   ]
  },
  {
   "cell_type": "code",
   "execution_count": null,
   "metadata": {},
   "outputs": [],
   "source": []
  }
 ],
 "metadata": {
  "kernelspec": {
   "display_name": "Python 3",
   "language": "python",
   "name": "python3"
  },
  "language_info": {
   "codemirror_mode": {
    "name": "ipython",
    "version": 3
   },
   "file_extension": ".py",
   "mimetype": "text/x-python",
   "name": "python",
   "nbconvert_exporter": "python",
   "pygments_lexer": "ipython3",
   "version": "3.7.3"
  }
 },
 "nbformat": 4,
 "nbformat_minor": 4
}
