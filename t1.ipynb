{
 "cells": [
  {
   "cell_type": "markdown",
   "metadata": {},
   "source": [
    "# Projeto 1 - Ciência dos Dados"
   ]
  },
  {
   "cell_type": "markdown",
   "metadata": {},
   "source": [
    "Nome: Barbara Martins Damasceno\n",
    "\n",
    "Nome: Daniel Delattre"
   ]
  },
  {
   "cell_type": "markdown",
   "metadata": {},
   "source": [
    "Atenção: Serão permitidos grupos de três pessoas, mas com uma rubrica mais exigente. Grupos deste tamanho precisarão fazer um questionário de avaliação de trabalho em equipe"
   ]
  },
  {
   "cell_type": "markdown",
   "metadata": {},
   "source": [
    "___\n",
    "Carregando algumas bibliotecas:"
   ]
  },
  {
   "cell_type": "code",
   "execution_count": 20,
   "metadata": {},
   "outputs": [],
   "source": [
    "%matplotlib inline\n",
    "import pandas as pd\n",
    "import matplotlib.pyplot as plt\n",
    "import numpy as np\n",
    "import os\n",
    "import string\n"
   ]
  },
  {
   "cell_type": "code",
   "execution_count": 21,
   "metadata": {
    "scrolled": false
   },
   "outputs": [
    {
     "name": "stdout",
     "output_type": "stream",
     "text": [
      "Esperamos trabalhar no diretório\n",
      "C:\\Users\\User\\Documents\\2 Semestre ENG\\Ciência dos Dados\\cdadosproj1\n"
     ]
    }
   ],
   "source": [
    "print('Esperamos trabalhar no diretório')\n",
    "print(os.getcwd())"
   ]
  },
  {
   "cell_type": "markdown",
   "metadata": {},
   "source": [
    "Carregando a base de dados com os tweets classificados como relevantes e não relevantes:"
   ]
  },
  {
   "cell_type": "code",
   "execution_count": 22,
   "metadata": {},
   "outputs": [],
   "source": [
    "dados = pd.read_excel('t1.xlsx')\n"
   ]
  },
  {
   "cell_type": "code",
   "execution_count": 23,
   "metadata": {},
   "outputs": [
    {
     "name": "stdout",
     "output_type": "stream",
     "text": [
      "<class 'pandas.core.frame.DataFrame'>\n",
      "RangeIndex: 300 entries, 0 to 299\n",
      "Data columns (total 2 columns):\n",
      "Treinamento    300 non-null object\n",
      "relevância     300 non-null int64\n",
      "dtypes: int64(1), object(1)\n",
      "memory usage: 4.8+ KB\n"
     ]
    }
   ],
   "source": [
    "dados.info()"
   ]
  },
  {
   "cell_type": "markdown",
   "metadata": {},
   "source": [
    "___\n",
    "## Classificador automático de sentimento\n"
   ]
  },
  {
   "cell_type": "markdown",
   "metadata": {},
   "source": [
    "Faça aqui uma descrição do seu produto e o que considerou como relevante ou não relevante na classificação dos tweets.\n",
    "\n",
    "ESCREVA AQUI..."
   ]
  },
  {
   "cell_type": "markdown",
   "metadata": {},
   "source": [
    "___\n",
    "### Montando um Classificador Naive-Bayes\n",
    "\n",
    "Considerando apenas as mensagens da planilha Treinamento, ensine  seu classificador."
   ]
  },
  {
   "cell_type": "code",
   "execution_count": 24,
   "metadata": {},
   "outputs": [
    {
     "data": {
      "text/html": [
       "<div>\n",
       "<style scoped>\n",
       "    .dataframe tbody tr th:only-of-type {\n",
       "        vertical-align: middle;\n",
       "    }\n",
       "\n",
       "    .dataframe tbody tr th {\n",
       "        vertical-align: top;\n",
       "    }\n",
       "\n",
       "    .dataframe thead th {\n",
       "        text-align: right;\n",
       "    }\n",
       "</style>\n",
       "<table border=\"1\" class=\"dataframe\">\n",
       "  <thead>\n",
       "    <tr style=\"text-align: right;\">\n",
       "      <th></th>\n",
       "      <th>Treinamento</th>\n",
       "      <th>relevância</th>\n",
       "      <th>tcl</th>\n",
       "    </tr>\n",
       "  </thead>\n",
       "  <tbody>\n",
       "    <tr>\n",
       "      <th>0</th>\n",
       "      <td>nunca vi um mercado tão cheio</td>\n",
       "      <td>0</td>\n",
       "      <td>nunca vi um mercado tão cheio</td>\n",
       "    </tr>\n",
       "    <tr>\n",
       "      <th>1</th>\n",
       "      <td>rt @folha: guedes diz que vai acionar stf cont...</td>\n",
       "      <td>3</td>\n",
       "      <td>rt folha guedes diz que vai acionar stf contra...</td>\n",
       "    </tr>\n",
       "    <tr>\n",
       "      <th>2</th>\n",
       "      <td>deixando tudo mais barato:\\ncupom ifood (app) ...</td>\n",
       "      <td>0</td>\n",
       "      <td>deixando tudo mais barato cupom ifood app gt e...</td>\n",
       "    </tr>\n",
       "    <tr>\n",
       "      <th>3</th>\n",
       "      <td>rt @reporterlacerda: inovação no grenal\\n\\npre...</td>\n",
       "      <td>0</td>\n",
       "      <td>rt reporterlacerda inovação no grenal prefeitu...</td>\n",
       "    </tr>\n",
       "    <tr>\n",
       "      <th>4</th>\n",
       "      <td>@ericat_lol mercado a vista vai ficar parado p...</td>\n",
       "      <td>3</td>\n",
       "      <td>ericatlol mercado a vista vai ficar parado por...</td>\n",
       "    </tr>\n",
       "  </tbody>\n",
       "</table>\n",
       "</div>"
      ],
      "text/plain": [
       "                                         Treinamento  relevância  \\\n",
       "0                      nunca vi um mercado tão cheio           0   \n",
       "1  rt @folha: guedes diz que vai acionar stf cont...           3   \n",
       "2  deixando tudo mais barato:\\ncupom ifood (app) ...           0   \n",
       "3  rt @reporterlacerda: inovação no grenal\\n\\npre...           0   \n",
       "4  @ericat_lol mercado a vista vai ficar parado p...           3   \n",
       "\n",
       "                                                 tcl  \n",
       "0                      nunca vi um mercado tão cheio  \n",
       "1  rt folha guedes diz que vai acionar stf contra...  \n",
       "2  deixando tudo mais barato cupom ifood app gt e...  \n",
       "3  rt reporterlacerda inovação no grenal prefeitu...  \n",
       "4  ericatlol mercado a vista vai ficar parado por...  "
      ]
     },
     "execution_count": 24,
     "metadata": {},
     "output_type": "execute_result"
    }
   ],
   "source": [
    "import re \n",
    "def cleanup(text):\n",
    "    \"\"\"\n",
    "        Função de limpeza muito simples que troca alguns sinais básicos por espaços\n",
    "    \"\"\"\n",
    "    #import string\n",
    "    punctuation = '[!-.:?;@/…|]' # Note que os sinais [] são delimitadores de um conjunto.\n",
    "    pattern = re.compile(punctuation)\n",
    "    text_subbed = re.sub(pattern, '', text)\n",
    "    text_s = re.sub(r\"http\\S+\", \"\", text_subbed)\n",
    "    ttt = re.sub(r'''((?:https?://|www\\d{0,3}[.]|[a-z0-9.-]+[.][a-z]{2,4}/)(?:[^\\s()<>]+|(([^\\s()<>]+|(([^\\s()<>]+)))))+(?:(([^\\s()<>]+|(([^\\s()<>]+))))|[^\\s`!()[]{};:'\".,<>?«»“”‘’]))''', \" \", text_s)\n",
    "    return ttt\n",
    "\n",
    "#limpa aqui \n",
    "\n",
    "def remove_punct(text):\n",
    "    text  = \"\".join([char for char in text if char not in string.punctuation])\n",
    "    text = re.sub('[0-9]+', '', text)\n",
    "    text = re.split('\\W+', text)\n",
    "    str1 = ' '.join(text)\n",
    "    return str1\n",
    "\n",
    "\n",
    "\n",
    "dados['tcl'] = dados['Treinamento'].apply(lambda x: remove_punct(x))\n",
    "dados.head()"
   ]
  },
  {
   "cell_type": "code",
   "execution_count": 25,
   "metadata": {},
   "outputs": [],
   "source": [
    "tira = ['rt', '', '°' ,'http', 'httpstcokqpnqaxfv', 'httpstcovrihhbnul', 'httpstcogmobfrofwm', 'httpstcolpqyzpipv', 'httpstcoyhzejspd', 'httpstcolpqyzpipv', 'httpstcobrphzrfyd', 'httpstcotbsootjxe', 'httpstcokyrjivho', 'httpstcobhdwadk', 'httpstcocufqpbil', 'httpstcopjnrwoksr', 'httpstcohujspweh', 'httpstcorzsjgqk', 'httpstcopwlkspjpo', 'httpstcocuxjhfb', 'httpstcocxlzubldy', 'httpstcopwlkspjpo', 'httpstcooshuhxfj', 'httpstcofmnrqc', 'httpstcobsozomjbi', 'httpstcodqbmdeql', 'httpstcowskqbqncv', 'httpstco', 'httpstcocilmcin', 'httpstcozexyuuq', 'httpstcocjiddyril', 'httpstcogmieukicfb', 'httpstcogwhuhnw', 'httpstcooaxhcrnm', 'httpstcofochejxydx', 'httpstcoiyrlwhlky', 'httpstcoufogazu', 'httpstcowpxgjsh', 'httpstcoonxnxceb', 'httpstcogmieukicfb', 'httpstcovkrqnitiyf', 'httpstcomlwbdcxghh', 'httpstcoatnhkcwhy', 'httpstcolpqyzpipv', 'httpstcoseyezbhg', 'httpstcopgsoaqkqe', 'httpstcogeaaybfhi', 'httpstcoxrvwovyhti', 'httpstcoegatfkkzrl', 'httpstcofdutityxz', 'httpstcolobnwfjor', 'httpstcoohwyjgsq', 'httpstcoludlcyul', 'httpstcoqcadahjt', 'httpstcopvcmnkgdw', 'httpstcokqpnqaxfv', 'httpstcoxrvwovyhti', 'httpstcomunvvs', 'httpstcoylaqoyfwd', 'httpstcoapytzybg', 'httpstcovajjxjvdb', 'httpstcoerwnmppgu', 'httpstcobzqhwfln', 'httpstcorhrrojnzz', 'httpstcoonwmibew', 'httpstcoixliacyf', 'httpstcobuphdmga', 'httpstc', 'httpstcofuwvmhjhu', 'httpstcohumattcmzd', 'httpstcozfhomprp', 'httpstcodwznksm', 'httpstcohbnysldvyy', 'httpstcopjnrwoksr', 'httpstcodevccnsu', 'httpstcopfsnmqhni', 'httpstcooynqqsy', 'httpstcoexummhebp', 'httpstcogqweqboo', 'httpstcodrsejiqian', 'httpstcogxeabgvo', 'httpstcoklubwxp', 'httpstcofdutityxz', 'httpstcoabcyrnki', 'httpstcosyzetiler', 'httpstcowyvwpo', 'httpstcofochejxydx', 'httpstcogwhuhnw']\n",
    "#tira = ['rt']"
   ]
  },
  {
   "cell_type": "code",
   "execution_count": 26,
   "metadata": {},
   "outputs": [],
   "source": [
    "for lista in dados['tcl']:\n",
    "    for i in lista:\n",
    "        if i in tira:\n",
    "            lista.remove(i)"
   ]
  },
  {
   "cell_type": "code",
   "execution_count": null,
   "metadata": {},
   "outputs": [],
   "source": []
  },
  {
   "cell_type": "code",
   "execution_count": 27,
   "metadata": {},
   "outputs": [
    {
     "data": {
      "text/html": [
       "<div>\n",
       "<style scoped>\n",
       "    .dataframe tbody tr th:only-of-type {\n",
       "        vertical-align: middle;\n",
       "    }\n",
       "\n",
       "    .dataframe tbody tr th {\n",
       "        vertical-align: top;\n",
       "    }\n",
       "\n",
       "    .dataframe thead th {\n",
       "        text-align: right;\n",
       "    }\n",
       "</style>\n",
       "<table border=\"1\" class=\"dataframe\">\n",
       "  <thead>\n",
       "    <tr style=\"text-align: right;\">\n",
       "      <th></th>\n",
       "      <th>Treinamento</th>\n",
       "      <th>relevância</th>\n",
       "      <th>tcl</th>\n",
       "      <th>aaa</th>\n",
       "    </tr>\n",
       "  </thead>\n",
       "  <tbody>\n",
       "    <tr>\n",
       "      <th>0</th>\n",
       "      <td>nunca vi um mercado tão cheio</td>\n",
       "      <td>Irrelevante</td>\n",
       "      <td>nunca vi um mercado tão cheio</td>\n",
       "      <td>nunca vi um mercado tão cheio</td>\n",
       "    </tr>\n",
       "    <tr>\n",
       "      <th>1</th>\n",
       "      <td>rt @folha: guedes diz que vai acionar stf cont...</td>\n",
       "      <td>Relevante</td>\n",
       "      <td>rt folha guedes diz que vai acionar stf contra...</td>\n",
       "      <td>rt folha guedes diz que vai acionar stf contra...</td>\n",
       "    </tr>\n",
       "    <tr>\n",
       "      <th>2</th>\n",
       "      <td>deixando tudo mais barato:\\ncupom ifood (app) ...</td>\n",
       "      <td>Irrelevante</td>\n",
       "      <td>deixando tudo mais barato cupom ifood app gt e...</td>\n",
       "      <td>deixando tudo mais barato cupom ifood app gt e...</td>\n",
       "    </tr>\n",
       "    <tr>\n",
       "      <th>3</th>\n",
       "      <td>rt @reporterlacerda: inovação no grenal\\n\\npre...</td>\n",
       "      <td>Irrelevante</td>\n",
       "      <td>rt reporterlacerda inovação no grenal prefeitu...</td>\n",
       "      <td>rt reporterlacerda inovação no grenal prefeitu...</td>\n",
       "    </tr>\n",
       "    <tr>\n",
       "      <th>4</th>\n",
       "      <td>@ericat_lol mercado a vista vai ficar parado p...</td>\n",
       "      <td>Relevante</td>\n",
       "      <td>ericatlol mercado a vista vai ficar parado por...</td>\n",
       "      <td>ericatlol mercado a vista vai ficar parado por...</td>\n",
       "    </tr>\n",
       "  </tbody>\n",
       "</table>\n",
       "</div>"
      ],
      "text/plain": [
       "                                         Treinamento   relevância  \\\n",
       "0                      nunca vi um mercado tão cheio  Irrelevante   \n",
       "1  rt @folha: guedes diz que vai acionar stf cont...    Relevante   \n",
       "2  deixando tudo mais barato:\\ncupom ifood (app) ...  Irrelevante   \n",
       "3  rt @reporterlacerda: inovação no grenal\\n\\npre...  Irrelevante   \n",
       "4  @ericat_lol mercado a vista vai ficar parado p...    Relevante   \n",
       "\n",
       "                                                 tcl  \\\n",
       "0                      nunca vi um mercado tão cheio   \n",
       "1  rt folha guedes diz que vai acionar stf contra...   \n",
       "2  deixando tudo mais barato cupom ifood app gt e...   \n",
       "3  rt reporterlacerda inovação no grenal prefeitu...   \n",
       "4  ericatlol mercado a vista vai ficar parado por...   \n",
       "\n",
       "                                                 aaa  \n",
       "0                      nunca vi um mercado tão cheio  \n",
       "1  rt folha guedes diz que vai acionar stf contra...  \n",
       "2  deixando tudo mais barato cupom ifood app gt e...  \n",
       "3  rt reporterlacerda inovação no grenal prefeitu...  \n",
       "4  ericatlol mercado a vista vai ficar parado por...  "
      ]
     },
     "execution_count": 27,
     "metadata": {},
     "output_type": "execute_result"
    }
   ],
   "source": [
    "dados['aaa'] = dados.tcl\n",
    "\n",
    "#Classificando como categoria\n",
    "dados.loc[:,'relevância'] = dados['relevância'].astype('category')\n",
    "#Níveis da categoria\n",
    "dados.relevância.cat.categories = ['Irrelevante', 'Relevante']\n",
    "\n",
    "\n",
    "dados.head(5)"
   ]
  },
  {
   "cell_type": "code",
   "execution_count": 28,
   "metadata": {},
   "outputs": [
    {
     "name": "stdout",
     "output_type": "stream",
     "text": [
      "Probabilidade de ser relevante: 0.59\n",
      "Probabilidade de ser irrelevante: 0.41\n"
     ]
    }
   ],
   "source": [
    "#Dividindo a porcentagem em relevante e irrelevante\n",
    "base = dados.relevância.value_counts(True, sort=False)\n",
    "irrelevante = base[0]\n",
    "relevante = base[1]\n",
    "print(f\"Probabilidade de ser relevante: {relevante}\")\n",
    "print(f\"Probabilidade de ser irrelevante: {irrelevante}\")\n"
   ]
  },
  {
   "cell_type": "markdown",
   "metadata": {},
   "source": [
    "Criando o classificar"
   ]
  },
  {
   "cell_type": "code",
   "execution_count": 29,
   "metadata": {},
   "outputs": [
    {
     "data": {
      "text/plain": [
       "0                        nunca vi um mercado tão cheio\n",
       "1    rt folha guedes diz que vai acionar stf contra...\n",
       "2    deixando tudo mais barato cupom ifood app gt e...\n",
       "3    rt reporterlacerda inovação no grenal prefeitu...\n",
       "4    ericatlol mercado a vista vai ficar parado por...\n",
       "Name: tcl, dtype: object"
      ]
     },
     "execution_count": 29,
     "metadata": {},
     "output_type": "execute_result"
    }
   ],
   "source": [
    "dados.tcl.head(5)"
   ]
  },
  {
   "cell_type": "code",
   "execution_count": 30,
   "metadata": {},
   "outputs": [
    {
     "name": "stdout",
     "output_type": "stream",
     "text": [
      "['nunca vi um mercado tão cheio', 'deixando tudo mais barato:\\ncupom ifood (app) =&gt; ee6hz487al\\ncódigo rappi =&gt; 82q38640354\\nuber -&gt; rjefc5\\nr$ 10,00 picpay =&gt; hjsw1z\\n99 -&gt; s53bdg5a\\n desconto uber eats =&gt; eats-rjefc5\\nofertas da amazon, airbnb, recargapay, mercado livre e pagseguro no nosso perfil https://t.co/vrih0hbnul', 'rt @reporterlacerda: inovação no grenal\\n\\nprefeitura vai disponibilizar dois ônibus exclusivos para o transporte das mulheres até arena. saí…', 'vou passar no mercado dps do trampo pra fazer a mão das geladas pro grenal 🇪🇪💙🇪🇪', 'fui ao mercado comprar algo pra fazer almoço e chegando lá desisti. poxa é pedir mto pedir pra ter uma cabeça normal?']\n"
     ]
    }
   ],
   "source": [
    "#Novas folhas de dados criadas a partir da relevancia\n",
    "dados_relev = dados[dados.relevância == 'Relevante'].copy()\n",
    "dados_irrelev = dados[dados.relevância == 'Irrelevante'].copy()\n",
    "\n",
    "import csv\n",
    "frases_ttrelev = dados_relev.Treinamento.tolist()\n",
    "clean_relev = []\n",
    "\n",
    "\n",
    "output=open('11relev.txt','w',encoding=\"utf-8-sig\")\n",
    "\n",
    "for i in frases_ttrelev:\n",
    "    palavra = cleanup(i)\n",
    "    output.write(palavra)\n",
    "\n",
    "\n",
    "#Irrelevante\n",
    "frases_ttirrelev = dados_irrelev.Treinamento.tolist()\n",
    "clean_irrelev = []\n",
    "\n",
    "\n",
    "output1=open('irrelev.txt','w',encoding=\"utf-8-sig\")\n",
    "for el in frases_ttirrelev:\n",
    "    output1.write(el)\n",
    "\n",
    "for i in frases_ttirrelev:\n",
    "    palavra = cleanup(i)\n",
    "\n",
    "print(frases_ttirrelev[0:5])"
   ]
  },
  {
   "cell_type": "code",
   "execution_count": null,
   "metadata": {},
   "outputs": [],
   "source": [
    "\n"
   ]
  },
  {
   "cell_type": "code",
   "execution_count": 31,
   "metadata": {},
   "outputs": [
    {
     "name": "stdout",
     "output_type": "stream",
     "text": [
      "rt @folha: guedes diz que vai acionar stf contra votação que eleva gasto em r$ 20 bilhões https://t.co/kqpnqaxfv3@ericat_lol mercado a vista vai ficar parado por 1h agora. depois volta. mas se atingir queda de 20% vai parar e não tem previsão de volta.cabe a mão invisível do mercado pagar meu almoço e me fazer carinhocircuit breaker acionado pela terceira vez na semana e dólar acima de r$ 5.00. pelo visto, além do donald trump, o pessoal do mercado financeiro também não leu o artigo do bernardo küster.rt @bitencourtbas: guedes chamou o mercado para brigar nos 5 (dólar). mercado socou r$ na frente dele e fez o que ele dizia querer. \n",
      "\n",
      "infel…rt @alessandromolon: o governo se recusa a reconhecer a gravidade do coronavírus. momentos de seriedade exigem autoridades responsáveis e m…pronto , pessoal mais novo no mercado que está fazendo curso intensivo de cb já tem história pra contar !!!!!rt @farialimaelevat: estagiários filhos do bullmarket, bem vindos ao mercado financeiro!na verdade o mer\n",
      "nunca vi u\n"
     ]
    }
   ],
   "source": [
    "with open(\"relev.txt\", \"r\", encoding=\"utf-8-sig\") as arquivo_texto:\n",
    "    relev_raw = arquivo_texto.read()\n",
    "    \n",
    "print(relev_raw[0:1000])\n",
    "\n",
    "#Irrelevante\n",
    "with open(\"irrelev.txt\", \"r\", encoding=\"utf-8-sig\") as arquivo_texto:\n",
    "    irrelev_raw = arquivo_texto.read()\n",
    "\n",
    "print(irrelev_raw[0:10])"
   ]
  },
  {
   "cell_type": "markdown",
   "metadata": {},
   "source": [
    "### CLEANUP "
   ]
  },
  {
   "cell_type": "code",
   "execution_count": 32,
   "metadata": {},
   "outputs": [
    {
     "name": "stdout",
     "output_type": "stream",
     "text": [
      "rt folha guedes diz que vai acionar stf contra votação que eleva gasto em r 20 bilhões  mercado a vista vai ficar parado por 1h agora depois volta mas se atingir queda de 20 vai parar e não tem previsão de voltacabe a mão invisível do mercado pagar meu almoço e me fazer carinhocircuit breaker acionado pela terceira vez na semana e dólar acima de r 500 pelo visto além do donald trump o pessoal do mercado financeiro também não leu o artigo do bernardo küsterrt bitencourtbas guedes chamou o mercado para brigar nos 5 dólar mercado socou r na frente dele e fez o que ele dizia querer \n",
      "\n",
      "infelrt alessandromolon o governo se recusa a reconhecer a gravidade do coronavírus momentos de seriedade exigem autoridades responsáveis e mpronto  pessoal mais novo no mercado que está fazendo curso intensivo de cb já tem história pra contar rt farialimaelevat estagiários filhos do bullmarket bem vindos ao mercado financeirona verdade o mercado já está sofrendo tivemos o 3° circuit breaker em 1 semana o dóla\n",
      "nunca vi um mercado tão cheiodeixando tudo mais barato\n",
      "cupom ifood app =gt ee6hz487al\n",
      "código rappi =gt 82q38640354\n",
      "uber gt rjefc5\n",
      "r 1000 picpay =gt hjsw1z\n",
      "99 gt s53bdg5a\n",
      " desconto uber eats =gt eatsrjefc5\n",
      "ofertas da amazon airbnb recargapay mercado livre e pagseguro no nosso perfil  reporterlacerda inovação no grenal\n",
      "\n",
      "prefeitura vai disponibilizar dois ônibus exclusivos para o transporte das mulheres até arena saívou passar no mercado dps do trampo pra fazer a mão das geladas pro grenal 🇪🇪💙🇪🇪fui ao mercado comprar algo pra fazer almoço e chegando lá desisti poxa é pedir mto pedir pra ter uma cabeça normalé bizarro porque eu já trabalho em casa e só saio umas duas vezes por semana pra ir no mercado já fazia quarentena antes de ser modinha hipsterdaquarentenaafirmamos com tranquilidade o melhor lixocar em tnt do mercado é da naimatec\n",
      "⠀\n",
      "corte preciso e elegante solda ultrasônica perfeita tnt de qualidade 100 biodegradável e cores incríveis😊\n",
      "⠀\n",
      "faça um teste entre em contato pelo whatsapp 11 947868870 😉  na italia agr é ir no mercadoo bolsonarismo é antes de tudo uma mistura de burrice com desonestidade   realmente  iron_fall minha maior preocupação não é nem a queda do ab que aparentemente pode vir a ocorrer e não seria absurda time não evolui mrt mariaquinolucas vem cá rapidinho vcs precisam parar de achar q a gente fica montada 24h se vc me ver no mercado padaria madureiracleidim_ guilhermepiu pessoal vocês parecem que não entendem a situação do clube não tiago nunes é outro patamar de técnico no país mesmo se for demitido do corinthians tem mercado em times de ponta do país tranquilamente acordemiphone 7 128gb rose seminovo \n",
      "valor r1499 à vista \n",
      "ou 12x r155 💳 via mercado livre \n",
      "acompanha caixa carregador e cabo usb \n",
      "bateria com 72 \n",
      "garantia de 3 meses nunca sofreu manutenção possui somente marcas de  mercado pernambucano de dubladores nunca esteve tão perdido quanto neste trabalho\n",
      "\n",
      "\n",
      "catchbackrt arrigo entrei no mercado as prateleiras vazias produtos esgotados sujeira abandono cara de saqueado pensei poxa o corona vírusfui no mercado q calor do crlrt favchump look das noah go solo já tá pronto no mercado livre  quero ver agora vocês falarem menos estado mais mercado \n",
      "\n",
      "quando a coisa aperta é sempre o estado que fica na linha de frente ou será que os hospitais privados vão oferecer leitos gratuitos para o povonão consigo tankar com esses homi estranho q fica me encarando como se fossem vender meus órgão no mercado negroto melhorando de uma gripe ainda to com uma leve tosse eu comecei a tossir no mercado mais uma vez  não ficou uma pessoa na mesma sessão que eu mas não é corona não irmãos amémbaileyhug olá dewa\n",
      "\n",
      "como entrou na página mercado libre vamos te direcionar para nossa equipe do mercado pago brasil\n",
      "\n",
      "para oferecer a melhor experiência para você pedimos que acesse  selecione o motivo para contato e nos conte a sua dúvidart eutheux o jovem tuiteiro no mercado de trabalho e o impacto dos memes kkk o gênero merece ser estudado meus parceiroshighwindrigo eu concordo é justamente por isso que  estão surgindo mais e mais novos estúdios pequenos pra desenvolver jogos deles problema é que precisa de financiamento né são bem poucas as empresas que conseguem ficar no mercado depois do primeiro jogomichellegf__ amiga sabe o que eu fiz com 02 dólares hj \n",
      "comprei café e pão de queijo na cantina  legumes e temperos no mercado tá baratinho o dólar o mercado de viagens foi de longe o mais afetado com viagens de lazer e negócios canceladasrt edupanzi problema do cruzeiro não se resume a joão lucas adilson batista ou ocimar tá muito claro pra mim q é uma soma disso e muio auge foi minha mãe ter comprado o mercado inteiro aqui pra casa\n",
      "\n",
      "ta parecendo filme do fim do mundo \n",
      "\n",
      "o carro dela tava tão lotado q quando a gente abria a porta as coisas caía kkkkrt driccos primeiro grenal de libertadores o mercado financeiro vindo abaixo colapso na saúde mundial tudo sendo cancelado adiado poa mulher do mercado eu vou é beber álcool em gel pra proteger do corona\n",
      "eu passei do lado tossido e bem ouvi ela falando\n",
      "mainha falou que a bixa me olhou como se fosse me exterminarrt dicasdocartola mercado da bola começou agitado \n",
      "\n",
      "via uolesporte  letcia_anselmo atenção ai\n",
      "\n",
      "precisando fazer frete alexandre fretes\n",
      "\n",
      "querendo instalar um som maneiro completo no carro ou alarme prart escotilha livro do escritor ian mcewan máquinas como eu’ cialetras 2019 discute as consequências da inserção da inteligência arte o barata voa no governo segue firme me encanta a candise de alguns risiliente no mercadoquase derrubei a prateleira do mercado com o carrinho agrcomo eu explico pros meus amigos que querem ser fotógrafos em maceió que desde que eu comecei a acompanhar o mercado criativo por 2009 quem ganhou dinheiro até agora foi quem fotografou casamento e formaturabcbigode dudamel tá livre no mercado 😂twitter com story é isso mesmo kkkk daqui a pouco até mercado livrenetflix vai ter story 🤔 kkkfascista\n",
      "n sabes o q significapapagaio de pirata\n",
      "tds minhas posições politicas são exatamente opostas ao fascismo\n",
      "defendo estado mínimo desburocratizaçãomercado livre menos poder nas mãos do estado tudo q o governo defende mas os esquerdiotas boicotam\n",
      "cala a boca burro  que igual medida seja adotada no centro da cidade  especialmente no entorno da pça do codócel gurgel mercado central vias estas onde concentram maior núm de ambulantes afinal os ambulantes ñ podem determinar medidasregras e desorganizar o tráfego ficaadicafalei q queria comer hambúrguer minha mãe agr foi no mercado comprou carne e tá fazendo pra mim 🥰🥰🥰imroger7 o problema que o mercado que mais percebo é nba msm kkk ou seja fodeuo estado que tem que cuidar do dinheiro o mercado capitalista não consegue\n",
      "\n",
      "mama essa então estadista  mão do mercado te bateu uma punhetinhatitanicsrising isso é coisa de rihanna que eu sei a fanty  falindo e agr ela quer entrar no mercado do álcool em gel por causa do corona vírus marqueteirart braian é bizarro porque eu já trabalho em casa e só saio umas duas vezes por semana pra ir no mercado já fazia quarentena antes de semeu maior medo era de estar num mercado de trabalho que não fosse minha cara mas sinceramente olha essa sala cheio de egirl e povo de humanas legalize  dormir 230 ontem e acordei agora atrasado pra ir no mercadoeu amo acordar cedo meu deus ja lavei louça fui pro mercado e ainda sao 1130confira nossa executiva gisselle ruiz lanza falando sobre diversidade e inclusão iamintel  da minha cidade comer uma tapioquinha no mercado central bem cedinho com mainha ♥️  uoleconomia uol é o mercado a funcionarmano eu tava de boas comendo miojo uma comida que eu não como faz um tempo e tava mó feliz sabe sem me sentir uma merda ambulante ai vem o meu pai ai a moça do mercado falou que é pra você parar de comer miojo ela disse que já parou porque tava engordando falou pra paravou correr no mercado pra comprar cervejaeu odeio esse mercado  eu odeio vim no mercado💲você sabia que tem muita gente ganhando dinheiro de forma online usando um laptop ou até mesmo um celular com conexão à internet faço minhas operações no mercado de capitais sem sair de casa e já estou ganhando dinheiro quer saber como se inscreva  indo no mercado vamos ver como tá a situaçãoo mercado farmacêutico adora também sto errada e por quê  é o que todos os que estão com autoridade estão pensando\n",
      "não deixe que uma boa crise seja desperdiçada\n",
      "haverá muitas mudanças e elas serão principalmente para beneficiar os que estão no poder folha_mercado gi1 elonmusknão vivo sem descontinhos\n",
      "cupom ifood app =gt ee6hz487al\n",
      "código rappi =gt 82q38640354\n",
      "uber gt rjefc5\n",
      "r 1000 picpay =gt hjsw1z\n",
      "99 gt s53bdg5a\n",
      " desconto uber eats =gt eatsrjefc5\n",
      "ofertas da amazon airbnb recargapay mercado livre e pagseguro visite o nosso perfil  esperto e coma com o descontinho\n",
      "cupom ifood app =gt ee6hz487al\n",
      "código rappi =gt 82q38640354\n",
      "uber gt rjefc5\n",
      "r 1000 picpay =gt hjsw1z\n",
      "99 gt s53bdg5a\n",
      " desconto uber eats =gt eatsrjefc5\n",
      "ofertas amazon airbnb recargapay mercado livre pagseguro lá no perfil  chupa seu burro  mercado_ingles aweonaoiguinho_siillva kkkkk fui no mercado e falei p mulher do caixa “to esquecendo alguma coisa já já vou voltar” mas só lembrei 4 hr da manhã kkko povo anda no mercado como se o mundo fosse acabar uma senhora até veio me dizer que isso era uma guerra kkkeu falei mae vamo no mercado estocar comida e ela nao me levou a seriort iron_fall antes de sugerirem um nome pesquisem o histórico e verão que o mercado está escasso apostar em técnico jovem também é um tnão tem por aí uma migalhinha de mercado livre  que comprar no mercado alguma coisa pra acabar com um leite que tinha aqui \n",
      "comprei sucrilhos\n",
      "meu paladar infantil me obrigaeu acho q se minha mãe pudesse ela morava no mercado todo dia cr kkkballetjovemminasgerais forma dançarinos para o mercado de trabalho e  prepara jovens com  de 15 anos p ciasdedança e também para a vida o batepapo tá no geracaoalmg deste sáb 19h na tvalmg  veja  agenda  minas300 souminasdemais\n",
      "culturamg  para que possamos te ajudar pedimos que inicie uma reclamação se sua compra foi no mercado livre acesse compras gt compras gt três pontinhos gt preciso de ajuda\n",
      "\n",
      "se sua compra foi no mercado pago acesse atividades e na negociação correspondente em preciso de ajudaenfrentar a fila do mercado hj já tô vendo o estresseayecompay felippe_hermes na atual situação para o bem do mercado interno faça como os europeus jogue a batata quente para a responsa de outro assim seus atos falhos vão ser só uma cortina esquecida era covid19 e do nada booom crise do petróleo o mundo vai além do nosso umbigo brrt a_corinthians fala fiel no dia 213 a casa do povo recebe discussão sobre o aumento do interesse do futebol feminino a adesão de me eu que briguei com uma mulher no mercado e meu namorado dizendo depois  isso mesmo amor dale kkkkkkmaria me deu um prejuízo no mercado kkkkkkk nunca mais levojeep renegade já vendeu 250 mil unidades no brasil   fascista\n",
      "n sabes o q significapapagaio de pirata\n",
      "tds minhas posições politicas são exatamente opostas ao fascismo\n",
      "defendo estado mínimo desburocratizaçãomercado livre menos poder nas mãos do estado tudo q o governo defende mas os esquerdiotas boicotam\n",
      "cala a boca burroa smpedsp participou da plenária da câmara paulista para inclusão da pessoa com deficiência no mercado de trabalho formal a pauta foi sobre o índice de funcionalidade brasileiro modificado e resultados da pesquisa realizada pelo mptibope sobre os trabalhadores com deficiência  o ticket alimentação da minha mae eh todinho p eu comprar salgado no mercado todo dia eu indo lá e gastando 7 reais em coxinha vo morrert rodp13 novolauropro doce_vicio por isso também que os eua estão putos com o sucesso das armas russas no mercado como os s400 o sisatenção ai\n",
      "\n",
      "precisando fazer frete alexandre fretes\n",
      "\n",
      "querendo instalar um som maneiro completo no carro ou alarme pra se proteger dos bandido leonardo som\n",
      "\n",
      "querendo comprar comida pra encher o buchinho mercado dois amigos \n",
      "\n",
      "obg pela atenção 😗✌🏻arrigo o único dia que fui que parecia um mercado decente arrumado tudo com preço bonitinho foi na mooca perto da faculdade de resto parece mercado de filme de zumbiacho que vou andando lá no públic compra um chocolate lá é mais barato q nos mercado aqui da avenidaalefp_ to no mercado agora e olha isso aqui  óbvio que existe um limite de produção de vacinas em cuba na china se salvaram mil e quinhentos a itália já demanda\n",
      "imagina se cuba cobrar pelo preço de mercado\n",
      "a china comunista cobraria só que cuba é socialista\n",
      "salve a revolução cubana\n",
      "cubalibre \n",
      "cá\n",
      "gotohomeyankeconsumo onthego reciclagem e economia circular são tendências para embalagens de proteína animal  lácteos mercado laticínios cooperativas indústria comércio queijo marketing  \n",
      "facebook – marão mercado imobiliário\n",
      "skype   marão mercado imobiliário\n",
      "youtube – josé ricardo marão \n",
      "vivo –  63 999797445\n",
      "oi        63 984108384\n",
      "fixo teto  – 63 33224144\n",
      "q 104 norte rua ne 1lt 17  galeria victoria  palmas – to \n",
      "vídeos e produções  catbrasa a yolanda tati a fazer stories a dizer ao pessoal pra não ser louco e correr pro supermercado enquanto mostra a sua lista deuolesporte mercado tá sem opçãonovolauropro doce_vicio por isso também que os eua estão putos com o sucesso das armas russas no mercado como os s400 o sistema pantsir os tanques t40 e até os velhos e conhecidos kalashnikovsrt bikedebigode é agora que eu falo pra me segui no insta neh\n",
      "\n",
      "eu vendo produtinhos sex shop com preços abaixo do mercado segue lá\n",
      "\n",
      "tevocê conhece o “cada um por si” da sociedade quando o mercado ta lotado e as prateleiras vaziasoff semana q vem vou mexer nas coisas dela e procurar fotos das viagens egito grécia havaí cuba mais de 20x na frança fazia mercado de mês em buenos aires ughlollapalooza brasil será adiado por causa de coronavírus  via propmark  rr_vasco colombiano\n",
      "jogou no boca jnrs\n",
      "fez ~120 jogos no porto4 anos\n",
      "fez ~150 partidas na internazionale4 anos\n",
      "\n",
      "3 meses no vasrt autopapo vw nivus novo suv da marca tem detalhes do interior revelados suv cupê derivado do polo chegará ao mercado brasileiro no io jovem tuiteiro no mercado de trabalho e o impacto dos memes kkk o gênero merece ser estudado meus parceiros  reinando quando a encomenda chega extremamente rápido mercado livre eu te amort vcanedo época boa para fazer uma lista de seriados e filmes para assistir dar play no bola quadrada começar um save no football manachinaina no mercado ele não mexe não suspendeu o transporte marítimort eibode alguém sabe me dizer quando custa um rim no mercado negro americano\n",
      "\n",
      "tenho um disponível pra venderisso enquanto ainda tem coisa p comprar no mercadopalestra do dia das mulheres com mulheres fodas da comunicação \n",
      "falando sobre assedio no mercado de trabalho entre outros pontos e caiu bem no dia da minha folga seria muita sortetava pensando aqui sobre como é bom estar cercado de pessoas boas\n",
      "\n",
      "painho fez amizade com um cliente qdo trabalhou numa empresa por anos\n",
      "\n",
      "esse cliente deu trabalho p painho depois de um tempo q ele já tava fora do mercado e ainda arrumou psiquiatra pra mim mesmo sem obrigaçãovou melhorar seu dia\n",
      "cupom ifood app =gt ee6hz487al\n",
      "código rappi =gt 82q38640354\n",
      "uber gt rjefc5\n",
      "r 1000 picpay =gt hjsw1z\n",
      "99 gt s53bdg5a\n",
      " desconto uber eats =gt eatsrjefc5\n",
      "ofertas da amazon airbnb recargapay mercado livre e pagseguro visite perfil  mas é que o covid 19 não começou com essa sopa foi no mercado de peixe de wuhan o primeiro caso mesmo foi do começo de 2019 bem depois de quando a notícia estourou aquirt thylemoos já disse e vou repetir toda vez que o mercado abraçar um candidato desconfie e toda vez que o mercado se assustar comeduardarosa_1 onde vou com você amo esse mercado kkkkiasmimnifany brumarquezine dantinhas eu sou ativo na luta contra o racismo e a inclusão de jovens negros no mercado de trabalho \n",
      "\n",
      "torço para a thelma e sei da realidade do babu o que justificaria ganhar o prêmio \n",
      "\n",
      "mas mostrar os erros dele não é racismo e quem diz isso só enfraquece a luta real contra o racismomaduchgs na itália voce tem que assinar documentos avisando o governo q vc vai pro mercado\n",
      "imagina mano\n",
      "aaaaart lelispatricia eu fico sempre desapontada com o ‘movimento feminista brasileiro’ na maioria dos casos é briga de egobriga partidáriafomos ao mercado hoje de máscaras ele morrendo de vergonha mas chegando lá não éramos os únicos covid_19 covid19ptlarianja_ mas as pessoas estão indo ao mercado loucamente e comprando papel higiênicort uolesporte lateral direita vira preocupação e flamengo pode mudar postura no mercado \n",
      "\n",
      "  a olga no mercado e puta merda melhor pessoaprofissional que o zezao já tevemeu gato deve ta fazendo mercado negro de isqueiro pq todo dia ele dá um jeito de sumir com o meusantosgxbx a expectativa é essa porém na realidade esquece de comprar as coisas e dá preguiça de ir no mercado é mais fácil pedir algo no delivery kkkkkrt vinisantucci fui ao mercado comprar café\n",
      "e o coronavírus subiu no meu pé\n",
      "eu sacudi sacudi sacudi\n",
      "mas o coronavírus não parava de subestherlisboam é terek pren pren vai faltar aí no mercado\n"
     ]
    }
   ],
   "source": [
    "relev_c = cleanup(relev_raw.lower())\n",
    "print(relev_c[:1000])\n",
    "\n",
    "#Irrelevante\n",
    "irrelev_c = cleanup(irrelev_raw.lower())\n",
    "print(irrelev_c)"
   ]
  },
  {
   "cell_type": "markdown",
   "metadata": {},
   "source": [
    "### SPLITZADA"
   ]
  },
  {
   "cell_type": "code",
   "execution_count": 33,
   "metadata": {},
   "outputs": [
    {
     "data": {
      "text/plain": [
       "['nunca',\n",
       " 'vi',\n",
       " 'um',\n",
       " 'mercado',\n",
       " 'tão',\n",
       " 'cheiodeixando',\n",
       " 'tudo',\n",
       " 'mais',\n",
       " 'barato',\n",
       " 'cupom']"
      ]
     },
     "execution_count": 33,
     "metadata": {},
     "output_type": "execute_result"
    }
   ],
   "source": [
    "relevzada = relev_c.split()\n",
    "relevzada[:10]\n",
    "\n",
    "#Irrelevante\n",
    "irrelevzada = irrelev_c.split()\n",
    "irrelevzada[:10]"
   ]
  },
  {
   "cell_type": "code",
   "execution_count": 34,
   "metadata": {},
   "outputs": [
    {
     "data": {
      "text/plain": [
       "o                 0.043181\n",
       "mercado           0.034887\n",
       "de                0.033179\n",
       "do                0.026348\n",
       "que               0.023664\n",
       "e                 0.023176\n",
       "a                 0.022688\n",
       "é                 0.013906\n",
       "no                0.013418\n",
       "em                0.012198\n",
       "não               0.011710\n",
       "breaker           0.009027\n",
       "circuit           0.009027\n",
       "mais              0.008051\n",
       "dólar             0.007319\n",
       "um                0.007319\n",
       "com               0.006831\n",
       "por               0.006587\n",
       "dia               0.006587\n",
       "na                0.006343\n",
       "da                0.006343\n",
       "financeiro        0.006343\n",
       "bolsa             0.005855\n",
       "mas               0.005611\n",
       "tem               0.005611\n",
       "para              0.005611\n",
       "tá                0.005611\n",
       "r                 0.005367\n",
       "os                0.005367\n",
       "se                0.004879\n",
       "                    ...   \n",
       "consequência      0.000244\n",
       "virus             0.000244\n",
       "autorregular      0.000244\n",
       "trabalhando       0.000244\n",
       "fodasepandemia    0.000244\n",
       "socou             0.000244\n",
       "bmv               0.000244\n",
       "política          0.000244\n",
       "páscoa            0.000244\n",
       "propõe            0.000244\n",
       "neste             0.000244\n",
       "reafirmando       0.000244\n",
       "ok                0.000244\n",
       "mercadoqueria     0.000244\n",
       "spot              0.000244\n",
       "última            0.000244\n",
       "coletivas         0.000244\n",
       "comcap            0.000244\n",
       "crítica           0.000244\n",
       "semiótica         0.000244\n",
       "mídbc             0.000244\n",
       "circuito          0.000244\n",
       "dando             0.000244\n",
       "encontrará        0.000244\n",
       "sinalizar         0.000244\n",
       "maníaco           0.000244\n",
       "mim               0.000244\n",
       "globalrt          0.000244\n",
       "chama             0.000244\n",
       "3º                0.000244\n",
       "Length: 1443, dtype: float64"
      ]
     },
     "execution_count": 34,
     "metadata": {},
     "output_type": "execute_result"
    }
   ],
   "source": [
    "serie_relev = pd.Series(relevzada)\n",
    "tabela_relev = serie_relev.value_counts(True)\n",
    "tabela_relev\n",
    "\n",
    "#Irrelevante\n",
    "serie_irrelev = pd.Series(irrelevzada)\n",
    "tabela_irrelev = serie_irrelev.value_counts(True)\n",
    "#tabela_irrelev\n",
    "\n",
    "tabela_relev"
   ]
  },
  {
   "cell_type": "markdown",
   "metadata": {},
   "source": [
    "___\n",
    "### Verificando a performance do Classificador\n",
    "\n",
    "Agora você deve testar o seu classificador com a base de Testes."
   ]
  },
  {
   "cell_type": "code",
   "execution_count": 35,
   "metadata": {},
   "outputs": [],
   "source": [
    "tudo = relev_c + irrelev_c"
   ]
  },
  {
   "cell_type": "code",
   "execution_count": 36,
   "metadata": {},
   "outputs": [
    {
     "data": {
      "text/plain": [
       "o                     0.035945\n",
       "mercado               0.035945\n",
       "de                    0.030810\n",
       "e                     0.023327\n",
       "do                    0.021860\n",
       "que                   0.021567\n",
       "a                     0.020246\n",
       "no                    0.018633\n",
       "é                     0.012764\n",
       "não                   0.009977\n",
       "em                    0.009243\n",
       "com                   0.008216\n",
       "um                    0.007629\n",
       "da                    0.007189\n",
       "mais                  0.006455\n",
       "na                    0.006309\n",
       "para                  0.005869\n",
       "por                   0.005722\n",
       "pra                   0.005575\n",
       "uma                   0.005575\n",
       "os                    0.005575\n",
       "circuit               0.005428\n",
       "breaker               0.005428\n",
       "eu                    0.005282\n",
       "dia                   0.005135\n",
       "se                    0.004988\n",
       "mas                   0.004842\n",
       "dólar                 0.004548\n",
       "tá                    0.004548\n",
       "tem                   0.004401\n",
       "                        ...   \n",
       "resulta               0.000147\n",
       "pé                    0.000147\n",
       "atos                  0.000147\n",
       "voto                  0.000147\n",
       "gestão                0.000147\n",
       "interessanteacho      0.000147\n",
       "apostas               0.000147\n",
       "livro                 0.000147\n",
       "debaixo               0.000147\n",
       "104                   0.000147\n",
       "perdido               0.000147\n",
       "loco                  0.000147\n",
       "conseguem             0.000147\n",
       "pros                  0.000147\n",
       "bando                 0.000147\n",
       "madureiracleidim_     0.000147\n",
       "reformas              0.000147\n",
       "demitido              0.000147\n",
       "verdade               0.000147\n",
       "operando              0.000147\n",
       "caralho               0.000147\n",
       "tráfego               0.000147\n",
       "achei                 0.000147\n",
       "mequetrefebrunnoh_    0.000147\n",
       "pele                  0.000147\n",
       "sdds                  0.000147\n",
       "hospitais             0.000147\n",
       "play                  0.000147\n",
       "congresso             0.000147\n",
       "1lt                   0.000147\n",
       "Length: 2322, dtype: float64"
      ]
     },
     "execution_count": 36,
     "metadata": {},
     "output_type": "execute_result"
    }
   ],
   "source": [
    "s_tudo = pd.Series(tudo.split())\n",
    "trel_tudo = s_tudo.value_counts(True)\n",
    "trel_tudo"
   ]
  },
  {
   "cell_type": "markdown",
   "metadata": {},
   "source": [
    "### Probabilidade segundo relevância"
   ]
  },
  {
   "cell_type": "code",
   "execution_count": 37,
   "metadata": {},
   "outputs": [],
   "source": [
    "p_relev = len(serie_relev)/len(s_tudo)\n",
    "p_irrelev = len(serie_irrelev)/len(s_tudo)"
   ]
  },
  {
   "cell_type": "markdown",
   "metadata": {},
   "source": [
    "## Frase"
   ]
  },
  {
   "cell_type": "code",
   "execution_count": 38,
   "metadata": {},
   "outputs": [
    {
     "name": "stdout",
     "output_type": "stream",
     "text": [
      "4099\n"
     ]
    },
    {
     "data": {
      "text/plain": [
       "o                 0.043181\n",
       "mercado           0.034887\n",
       "de                0.033179\n",
       "do                0.026348\n",
       "que               0.023664\n",
       "e                 0.023176\n",
       "a                 0.022688\n",
       "é                 0.013906\n",
       "no                0.013418\n",
       "em                0.012198\n",
       "não               0.011710\n",
       "breaker           0.009027\n",
       "circuit           0.009027\n",
       "mais              0.008051\n",
       "dólar             0.007319\n",
       "um                0.007319\n",
       "com               0.006831\n",
       "por               0.006587\n",
       "dia               0.006587\n",
       "na                0.006343\n",
       "da                0.006343\n",
       "financeiro        0.006343\n",
       "bolsa             0.005855\n",
       "mas               0.005611\n",
       "tem               0.005611\n",
       "para              0.005611\n",
       "tá                0.005611\n",
       "r                 0.005367\n",
       "os                0.005367\n",
       "se                0.004879\n",
       "                    ...   \n",
       "consequência      0.000244\n",
       "virus             0.000244\n",
       "autorregular      0.000244\n",
       "trabalhando       0.000244\n",
       "fodasepandemia    0.000244\n",
       "socou             0.000244\n",
       "bmv               0.000244\n",
       "política          0.000244\n",
       "páscoa            0.000244\n",
       "propõe            0.000244\n",
       "neste             0.000244\n",
       "reafirmando       0.000244\n",
       "ok                0.000244\n",
       "mercadoqueria     0.000244\n",
       "spot              0.000244\n",
       "última            0.000244\n",
       "coletivas         0.000244\n",
       "comcap            0.000244\n",
       "crítica           0.000244\n",
       "semiótica         0.000244\n",
       "mídbc             0.000244\n",
       "circuito          0.000244\n",
       "dando             0.000244\n",
       "encontrará        0.000244\n",
       "sinalizar         0.000244\n",
       "maníaco           0.000244\n",
       "mim               0.000244\n",
       "globalrt          0.000244\n",
       "chama             0.000244\n",
       "3º                0.000244\n",
       "Length: 1443, dtype: float64"
      ]
     },
     "execution_count": 38,
     "metadata": {},
     "output_type": "execute_result"
    }
   ],
   "source": [
    "frase = \"a vitamina bacate \"\n",
    "frase = cleanup(frase.lower())\n",
    "frase_split = frase.split()\n",
    "print(len(relevzada))\n",
    "tabela_relev\n"
   ]
  },
  {
   "cell_type": "code",
   "execution_count": 39,
   "metadata": {},
   "outputs": [
    {
     "name": "stdout",
     "output_type": "stream",
     "text": [
      "['a', 'vitamina', 'bacate']\n",
      "4101\n"
     ]
    },
    {
     "data": {
      "text/plain": [
       "0.000243842965130456"
      ]
     },
     "execution_count": 39,
     "metadata": {},
     "output_type": "execute_result"
    }
   ],
   "source": [
    "print(frase_split)\n",
    "\n",
    "for p in frase_split:\n",
    "    if p not in tabela_relev:\n",
    "        relevzada.append(p)\n",
    "        serie_relev = pd.Series(relevzada)\n",
    "        tabela_relev = serie_relev.value_counts(True)\n",
    "\n",
    "        \n",
    "        \n",
    "    if p not in tabela_irrelev:\n",
    "        irrelevzada.append(p)\n",
    "        serie_irrelev = pd.Series(irrelevzada)\n",
    "        tabela_irrelev = serie_irrelev.value_counts(True)\n",
    "\n",
    "\n",
    "        \n",
    "pf_dado_r = tabela_relev[frase_split].prod()\n",
    "pf_dado_i = tabela_irrelev[frase_split].prod()\n",
    "\n",
    "print(len(relevzada))\n",
    "tabela_relev\n",
    "tabela_relev[\"bacate\"]"
   ]
  },
  {
   "cell_type": "code",
   "execution_count": 40,
   "metadata": {},
   "outputs": [
    {
     "name": "stdout",
     "output_type": "stream",
     "text": [
      "8.108900608193116e-10\n",
      "8.917141789362011e-10\n"
     ]
    }
   ],
   "source": [
    "pr_dado_f = pf_dado_r * p_relev\n",
    "pi_dado_f = pf_dado_i * p_irrelev\n",
    "\n",
    "print(pr_dado_f)\n",
    "print(pi_dado_f)"
   ]
  },
  {
   "cell_type": "markdown",
   "metadata": {},
   "source": [
    "___\n",
    "### Concluindo"
   ]
  },
  {
   "cell_type": "code",
   "execution_count": 41,
   "metadata": {},
   "outputs": [
    {
     "name": "stdout",
     "output_type": "stream",
     "text": [
      "pr dado f: 0.00000000081089006082, pi dado f: 0.00000000089171417894\n",
      "\n",
      "nem gasta tempo lendo\n"
     ]
    }
   ],
   "source": [
    "print(f'pr dado f: {pr_dado_f:.20f}, pi dado f: {pi_dado_f:.20f}\\n')\n",
    "pr = (pr_dado_f>pi_dado_f)\n",
    "if pr:\n",
    "    print('Eu acho que é relevante')\n",
    "else:\n",
    "    print('nem gasta tempo lendo')"
   ]
  },
  {
   "cell_type": "code",
   "execution_count": 42,
   "metadata": {},
   "outputs": [
    {
     "data": {
      "text/html": [
       "<div>\n",
       "<style scoped>\n",
       "    .dataframe tbody tr th:only-of-type {\n",
       "        vertical-align: middle;\n",
       "    }\n",
       "\n",
       "    .dataframe tbody tr th {\n",
       "        vertical-align: top;\n",
       "    }\n",
       "\n",
       "    .dataframe thead th {\n",
       "        text-align: right;\n",
       "    }\n",
       "</style>\n",
       "<table border=\"1\" class=\"dataframe\">\n",
       "  <thead>\n",
       "    <tr style=\"text-align: right;\">\n",
       "      <th></th>\n",
       "      <th>Treinamento</th>\n",
       "      <th>relevância</th>\n",
       "      <th>tcl</th>\n",
       "      <th>aaa</th>\n",
       "    </tr>\n",
       "  </thead>\n",
       "  <tbody>\n",
       "    <tr>\n",
       "      <th>0</th>\n",
       "      <td>nunca vi um mercado tão cheio</td>\n",
       "      <td>Irrelevante</td>\n",
       "      <td>nunca vi um mercado tão cheio</td>\n",
       "      <td>nunca vi um mercado tão cheio</td>\n",
       "    </tr>\n",
       "    <tr>\n",
       "      <th>1</th>\n",
       "      <td>rt @folha: guedes diz que vai acionar stf cont...</td>\n",
       "      <td>Relevante</td>\n",
       "      <td>rt folha guedes diz que vai acionar stf contra...</td>\n",
       "      <td>rt folha guedes diz que vai acionar stf contra...</td>\n",
       "    </tr>\n",
       "    <tr>\n",
       "      <th>2</th>\n",
       "      <td>deixando tudo mais barato:\\ncupom ifood (app) ...</td>\n",
       "      <td>Irrelevante</td>\n",
       "      <td>deixando tudo mais barato cupom ifood app gt e...</td>\n",
       "      <td>deixando tudo mais barato cupom ifood app gt e...</td>\n",
       "    </tr>\n",
       "    <tr>\n",
       "      <th>3</th>\n",
       "      <td>rt @reporterlacerda: inovação no grenal\\n\\npre...</td>\n",
       "      <td>Irrelevante</td>\n",
       "      <td>rt reporterlacerda inovação no grenal prefeitu...</td>\n",
       "      <td>rt reporterlacerda inovação no grenal prefeitu...</td>\n",
       "    </tr>\n",
       "    <tr>\n",
       "      <th>4</th>\n",
       "      <td>@ericat_lol mercado a vista vai ficar parado p...</td>\n",
       "      <td>Relevante</td>\n",
       "      <td>ericatlol mercado a vista vai ficar parado por...</td>\n",
       "      <td>ericatlol mercado a vista vai ficar parado por...</td>\n",
       "    </tr>\n",
       "    <tr>\n",
       "      <th>5</th>\n",
       "      <td>vou passar no mercado dps do trampo pra fazer ...</td>\n",
       "      <td>Irrelevante</td>\n",
       "      <td>vou passar no mercado dps do trampo pra fazer ...</td>\n",
       "      <td>vou passar no mercado dps do trampo pra fazer ...</td>\n",
       "    </tr>\n",
       "    <tr>\n",
       "      <th>6</th>\n",
       "      <td>cabe a mão invisível do mercado pagar meu almo...</td>\n",
       "      <td>Relevante</td>\n",
       "      <td>cabe a mão invisível do mercado pagar meu almo...</td>\n",
       "      <td>cabe a mão invisível do mercado pagar meu almo...</td>\n",
       "    </tr>\n",
       "    <tr>\n",
       "      <th>7</th>\n",
       "      <td>circuit breaker acionado pela terceira vez na ...</td>\n",
       "      <td>Relevante</td>\n",
       "      <td>circuit breaker acionado pela terceira vez na ...</td>\n",
       "      <td>circuit breaker acionado pela terceira vez na ...</td>\n",
       "    </tr>\n",
       "    <tr>\n",
       "      <th>8</th>\n",
       "      <td>rt @bitencourtbas: guedes chamou o mercado par...</td>\n",
       "      <td>Relevante</td>\n",
       "      <td>rt bitencourtbas guedes chamou o mercado para ...</td>\n",
       "      <td>rt bitencourtbas guedes chamou o mercado para ...</td>\n",
       "    </tr>\n",
       "    <tr>\n",
       "      <th>9</th>\n",
       "      <td>fui ao mercado comprar algo pra fazer almoço e...</td>\n",
       "      <td>Irrelevante</td>\n",
       "      <td>fui ao mercado comprar algo pra fazer almoço e...</td>\n",
       "      <td>fui ao mercado comprar algo pra fazer almoço e...</td>\n",
       "    </tr>\n",
       "  </tbody>\n",
       "</table>\n",
       "</div>"
      ],
      "text/plain": [
       "                                         Treinamento   relevância  \\\n",
       "0                      nunca vi um mercado tão cheio  Irrelevante   \n",
       "1  rt @folha: guedes diz que vai acionar stf cont...    Relevante   \n",
       "2  deixando tudo mais barato:\\ncupom ifood (app) ...  Irrelevante   \n",
       "3  rt @reporterlacerda: inovação no grenal\\n\\npre...  Irrelevante   \n",
       "4  @ericat_lol mercado a vista vai ficar parado p...    Relevante   \n",
       "5  vou passar no mercado dps do trampo pra fazer ...  Irrelevante   \n",
       "6  cabe a mão invisível do mercado pagar meu almo...    Relevante   \n",
       "7  circuit breaker acionado pela terceira vez na ...    Relevante   \n",
       "8  rt @bitencourtbas: guedes chamou o mercado par...    Relevante   \n",
       "9  fui ao mercado comprar algo pra fazer almoço e...  Irrelevante   \n",
       "\n",
       "                                                 tcl  \\\n",
       "0                      nunca vi um mercado tão cheio   \n",
       "1  rt folha guedes diz que vai acionar stf contra...   \n",
       "2  deixando tudo mais barato cupom ifood app gt e...   \n",
       "3  rt reporterlacerda inovação no grenal prefeitu...   \n",
       "4  ericatlol mercado a vista vai ficar parado por...   \n",
       "5  vou passar no mercado dps do trampo pra fazer ...   \n",
       "6  cabe a mão invisível do mercado pagar meu almo...   \n",
       "7  circuit breaker acionado pela terceira vez na ...   \n",
       "8  rt bitencourtbas guedes chamou o mercado para ...   \n",
       "9  fui ao mercado comprar algo pra fazer almoço e...   \n",
       "\n",
       "                                                 aaa  \n",
       "0                      nunca vi um mercado tão cheio  \n",
       "1  rt folha guedes diz que vai acionar stf contra...  \n",
       "2  deixando tudo mais barato cupom ifood app gt e...  \n",
       "3  rt reporterlacerda inovação no grenal prefeitu...  \n",
       "4  ericatlol mercado a vista vai ficar parado por...  \n",
       "5  vou passar no mercado dps do trampo pra fazer ...  \n",
       "6  cabe a mão invisível do mercado pagar meu almo...  \n",
       "7  circuit breaker acionado pela terceira vez na ...  \n",
       "8  rt bitencourtbas guedes chamou o mercado para ...  \n",
       "9  fui ao mercado comprar algo pra fazer almoço e...  "
      ]
     },
     "execution_count": 42,
     "metadata": {},
     "output_type": "execute_result"
    }
   ],
   "source": [
    "dados.head(10)"
   ]
  },
  {
   "cell_type": "code",
   "execution_count": 43,
   "metadata": {},
   "outputs": [],
   "source": [
    "for i in dados.Treinamento:\n",
    "    if (pr_dado_f > pi_dado_f):\n",
    "        dados.loc[dados.Treinamento==i,'Classificador'] = 'Relevante'\n",
    "    else:\n",
    "        dados.loc[dados.Treinamento==i,'Classificador'] = 'Irrelevante'"
   ]
  },
  {
   "cell_type": "code",
   "execution_count": 44,
   "metadata": {},
   "outputs": [
    {
     "data": {
      "text/html": [
       "<div>\n",
       "<style scoped>\n",
       "    .dataframe tbody tr th:only-of-type {\n",
       "        vertical-align: middle;\n",
       "    }\n",
       "\n",
       "    .dataframe tbody tr th {\n",
       "        vertical-align: top;\n",
       "    }\n",
       "\n",
       "    .dataframe thead th {\n",
       "        text-align: right;\n",
       "    }\n",
       "</style>\n",
       "<table border=\"1\" class=\"dataframe\">\n",
       "  <thead>\n",
       "    <tr style=\"text-align: right;\">\n",
       "      <th></th>\n",
       "      <th>Treinamento</th>\n",
       "      <th>relevância</th>\n",
       "      <th>tcl</th>\n",
       "      <th>aaa</th>\n",
       "      <th>Classificador</th>\n",
       "    </tr>\n",
       "  </thead>\n",
       "  <tbody>\n",
       "    <tr>\n",
       "      <th>0</th>\n",
       "      <td>nunca vi um mercado tão cheio</td>\n",
       "      <td>Irrelevante</td>\n",
       "      <td>nunca vi um mercado tão cheio</td>\n",
       "      <td>nunca vi um mercado tão cheio</td>\n",
       "      <td>Irrelevante</td>\n",
       "    </tr>\n",
       "    <tr>\n",
       "      <th>1</th>\n",
       "      <td>rt @folha: guedes diz que vai acionar stf cont...</td>\n",
       "      <td>Relevante</td>\n",
       "      <td>rt folha guedes diz que vai acionar stf contra...</td>\n",
       "      <td>rt folha guedes diz que vai acionar stf contra...</td>\n",
       "      <td>Irrelevante</td>\n",
       "    </tr>\n",
       "    <tr>\n",
       "      <th>2</th>\n",
       "      <td>deixando tudo mais barato:\\ncupom ifood (app) ...</td>\n",
       "      <td>Irrelevante</td>\n",
       "      <td>deixando tudo mais barato cupom ifood app gt e...</td>\n",
       "      <td>deixando tudo mais barato cupom ifood app gt e...</td>\n",
       "      <td>Irrelevante</td>\n",
       "    </tr>\n",
       "    <tr>\n",
       "      <th>3</th>\n",
       "      <td>rt @reporterlacerda: inovação no grenal\\n\\npre...</td>\n",
       "      <td>Irrelevante</td>\n",
       "      <td>rt reporterlacerda inovação no grenal prefeitu...</td>\n",
       "      <td>rt reporterlacerda inovação no grenal prefeitu...</td>\n",
       "      <td>Irrelevante</td>\n",
       "    </tr>\n",
       "    <tr>\n",
       "      <th>4</th>\n",
       "      <td>@ericat_lol mercado a vista vai ficar parado p...</td>\n",
       "      <td>Relevante</td>\n",
       "      <td>ericatlol mercado a vista vai ficar parado por...</td>\n",
       "      <td>ericatlol mercado a vista vai ficar parado por...</td>\n",
       "      <td>Irrelevante</td>\n",
       "    </tr>\n",
       "    <tr>\n",
       "      <th>5</th>\n",
       "      <td>vou passar no mercado dps do trampo pra fazer ...</td>\n",
       "      <td>Irrelevante</td>\n",
       "      <td>vou passar no mercado dps do trampo pra fazer ...</td>\n",
       "      <td>vou passar no mercado dps do trampo pra fazer ...</td>\n",
       "      <td>Irrelevante</td>\n",
       "    </tr>\n",
       "    <tr>\n",
       "      <th>6</th>\n",
       "      <td>cabe a mão invisível do mercado pagar meu almo...</td>\n",
       "      <td>Relevante</td>\n",
       "      <td>cabe a mão invisível do mercado pagar meu almo...</td>\n",
       "      <td>cabe a mão invisível do mercado pagar meu almo...</td>\n",
       "      <td>Irrelevante</td>\n",
       "    </tr>\n",
       "    <tr>\n",
       "      <th>7</th>\n",
       "      <td>circuit breaker acionado pela terceira vez na ...</td>\n",
       "      <td>Relevante</td>\n",
       "      <td>circuit breaker acionado pela terceira vez na ...</td>\n",
       "      <td>circuit breaker acionado pela terceira vez na ...</td>\n",
       "      <td>Irrelevante</td>\n",
       "    </tr>\n",
       "    <tr>\n",
       "      <th>8</th>\n",
       "      <td>rt @bitencourtbas: guedes chamou o mercado par...</td>\n",
       "      <td>Relevante</td>\n",
       "      <td>rt bitencourtbas guedes chamou o mercado para ...</td>\n",
       "      <td>rt bitencourtbas guedes chamou o mercado para ...</td>\n",
       "      <td>Irrelevante</td>\n",
       "    </tr>\n",
       "    <tr>\n",
       "      <th>9</th>\n",
       "      <td>fui ao mercado comprar algo pra fazer almoço e...</td>\n",
       "      <td>Irrelevante</td>\n",
       "      <td>fui ao mercado comprar algo pra fazer almoço e...</td>\n",
       "      <td>fui ao mercado comprar algo pra fazer almoço e...</td>\n",
       "      <td>Irrelevante</td>\n",
       "    </tr>\n",
       "  </tbody>\n",
       "</table>\n",
       "</div>"
      ],
      "text/plain": [
       "                                         Treinamento   relevância  \\\n",
       "0                      nunca vi um mercado tão cheio  Irrelevante   \n",
       "1  rt @folha: guedes diz que vai acionar stf cont...    Relevante   \n",
       "2  deixando tudo mais barato:\\ncupom ifood (app) ...  Irrelevante   \n",
       "3  rt @reporterlacerda: inovação no grenal\\n\\npre...  Irrelevante   \n",
       "4  @ericat_lol mercado a vista vai ficar parado p...    Relevante   \n",
       "5  vou passar no mercado dps do trampo pra fazer ...  Irrelevante   \n",
       "6  cabe a mão invisível do mercado pagar meu almo...    Relevante   \n",
       "7  circuit breaker acionado pela terceira vez na ...    Relevante   \n",
       "8  rt @bitencourtbas: guedes chamou o mercado par...    Relevante   \n",
       "9  fui ao mercado comprar algo pra fazer almoço e...  Irrelevante   \n",
       "\n",
       "                                                 tcl  \\\n",
       "0                      nunca vi um mercado tão cheio   \n",
       "1  rt folha guedes diz que vai acionar stf contra...   \n",
       "2  deixando tudo mais barato cupom ifood app gt e...   \n",
       "3  rt reporterlacerda inovação no grenal prefeitu...   \n",
       "4  ericatlol mercado a vista vai ficar parado por...   \n",
       "5  vou passar no mercado dps do trampo pra fazer ...   \n",
       "6  cabe a mão invisível do mercado pagar meu almo...   \n",
       "7  circuit breaker acionado pela terceira vez na ...   \n",
       "8  rt bitencourtbas guedes chamou o mercado para ...   \n",
       "9  fui ao mercado comprar algo pra fazer almoço e...   \n",
       "\n",
       "                                                 aaa Classificador  \n",
       "0                      nunca vi um mercado tão cheio   Irrelevante  \n",
       "1  rt folha guedes diz que vai acionar stf contra...   Irrelevante  \n",
       "2  deixando tudo mais barato cupom ifood app gt e...   Irrelevante  \n",
       "3  rt reporterlacerda inovação no grenal prefeitu...   Irrelevante  \n",
       "4  ericatlol mercado a vista vai ficar parado por...   Irrelevante  \n",
       "5  vou passar no mercado dps do trampo pra fazer ...   Irrelevante  \n",
       "6  cabe a mão invisível do mercado pagar meu almo...   Irrelevante  \n",
       "7  circuit breaker acionado pela terceira vez na ...   Irrelevante  \n",
       "8  rt bitencourtbas guedes chamou o mercado para ...   Irrelevante  \n",
       "9  fui ao mercado comprar algo pra fazer almoço e...   Irrelevante  "
      ]
     },
     "execution_count": 44,
     "metadata": {},
     "output_type": "execute_result"
    }
   ],
   "source": [
    "dados.head(10)"
   ]
  },
  {
   "cell_type": "code",
   "execution_count": 45,
   "metadata": {},
   "outputs": [
    {
     "data": {
      "text/html": [
       "<div>\n",
       "<style scoped>\n",
       "    .dataframe tbody tr th:only-of-type {\n",
       "        vertical-align: middle;\n",
       "    }\n",
       "\n",
       "    .dataframe tbody tr th {\n",
       "        vertical-align: top;\n",
       "    }\n",
       "\n",
       "    .dataframe thead th {\n",
       "        text-align: right;\n",
       "    }\n",
       "</style>\n",
       "<table border=\"1\" class=\"dataframe\">\n",
       "  <thead>\n",
       "    <tr style=\"text-align: right;\">\n",
       "      <th></th>\n",
       "      <th>Treinamento</th>\n",
       "      <th>relevância</th>\n",
       "      <th>tcl</th>\n",
       "      <th>aaa</th>\n",
       "      <th>Classificador</th>\n",
       "    </tr>\n",
       "  </thead>\n",
       "  <tbody>\n",
       "    <tr>\n",
       "      <th>0</th>\n",
       "      <td>nunca vi um mercado tão cheio</td>\n",
       "      <td>Irrelevante</td>\n",
       "      <td>nunca vi um mercado tão cheio</td>\n",
       "      <td>nunca vi um mercado tão cheio</td>\n",
       "      <td>Irrelevante</td>\n",
       "    </tr>\n",
       "    <tr>\n",
       "      <th>1</th>\n",
       "      <td>rt @folha: guedes diz que vai acionar stf cont...</td>\n",
       "      <td>Relevante</td>\n",
       "      <td>rt folha guedes diz que vai acionar stf contra...</td>\n",
       "      <td>rt folha guedes diz que vai acionar stf contra...</td>\n",
       "      <td>Irrelevante</td>\n",
       "    </tr>\n",
       "    <tr>\n",
       "      <th>2</th>\n",
       "      <td>deixando tudo mais barato:\\ncupom ifood (app) ...</td>\n",
       "      <td>Irrelevante</td>\n",
       "      <td>deixando tudo mais barato cupom ifood app gt e...</td>\n",
       "      <td>deixando tudo mais barato cupom ifood app gt e...</td>\n",
       "      <td>Irrelevante</td>\n",
       "    </tr>\n",
       "    <tr>\n",
       "      <th>3</th>\n",
       "      <td>rt @reporterlacerda: inovação no grenal\\n\\npre...</td>\n",
       "      <td>Irrelevante</td>\n",
       "      <td>rt reporterlacerda inovação no grenal prefeitu...</td>\n",
       "      <td>rt reporterlacerda inovação no grenal prefeitu...</td>\n",
       "      <td>Irrelevante</td>\n",
       "    </tr>\n",
       "    <tr>\n",
       "      <th>4</th>\n",
       "      <td>@ericat_lol mercado a vista vai ficar parado p...</td>\n",
       "      <td>Relevante</td>\n",
       "      <td>ericatlol mercado a vista vai ficar parado por...</td>\n",
       "      <td>ericatlol mercado a vista vai ficar parado por...</td>\n",
       "      <td>Irrelevante</td>\n",
       "    </tr>\n",
       "    <tr>\n",
       "      <th>5</th>\n",
       "      <td>vou passar no mercado dps do trampo pra fazer ...</td>\n",
       "      <td>Irrelevante</td>\n",
       "      <td>vou passar no mercado dps do trampo pra fazer ...</td>\n",
       "      <td>vou passar no mercado dps do trampo pra fazer ...</td>\n",
       "      <td>Irrelevante</td>\n",
       "    </tr>\n",
       "    <tr>\n",
       "      <th>6</th>\n",
       "      <td>cabe a mão invisível do mercado pagar meu almo...</td>\n",
       "      <td>Relevante</td>\n",
       "      <td>cabe a mão invisível do mercado pagar meu almo...</td>\n",
       "      <td>cabe a mão invisível do mercado pagar meu almo...</td>\n",
       "      <td>Irrelevante</td>\n",
       "    </tr>\n",
       "    <tr>\n",
       "      <th>7</th>\n",
       "      <td>circuit breaker acionado pela terceira vez na ...</td>\n",
       "      <td>Relevante</td>\n",
       "      <td>circuit breaker acionado pela terceira vez na ...</td>\n",
       "      <td>circuit breaker acionado pela terceira vez na ...</td>\n",
       "      <td>Irrelevante</td>\n",
       "    </tr>\n",
       "    <tr>\n",
       "      <th>8</th>\n",
       "      <td>rt @bitencourtbas: guedes chamou o mercado par...</td>\n",
       "      <td>Relevante</td>\n",
       "      <td>rt bitencourtbas guedes chamou o mercado para ...</td>\n",
       "      <td>rt bitencourtbas guedes chamou o mercado para ...</td>\n",
       "      <td>Irrelevante</td>\n",
       "    </tr>\n",
       "    <tr>\n",
       "      <th>9</th>\n",
       "      <td>fui ao mercado comprar algo pra fazer almoço e...</td>\n",
       "      <td>Irrelevante</td>\n",
       "      <td>fui ao mercado comprar algo pra fazer almoço e...</td>\n",
       "      <td>fui ao mercado comprar algo pra fazer almoço e...</td>\n",
       "      <td>Irrelevante</td>\n",
       "    </tr>\n",
       "  </tbody>\n",
       "</table>\n",
       "</div>"
      ],
      "text/plain": [
       "                                         Treinamento   relevância  \\\n",
       "0                      nunca vi um mercado tão cheio  Irrelevante   \n",
       "1  rt @folha: guedes diz que vai acionar stf cont...    Relevante   \n",
       "2  deixando tudo mais barato:\\ncupom ifood (app) ...  Irrelevante   \n",
       "3  rt @reporterlacerda: inovação no grenal\\n\\npre...  Irrelevante   \n",
       "4  @ericat_lol mercado a vista vai ficar parado p...    Relevante   \n",
       "5  vou passar no mercado dps do trampo pra fazer ...  Irrelevante   \n",
       "6  cabe a mão invisível do mercado pagar meu almo...    Relevante   \n",
       "7  circuit breaker acionado pela terceira vez na ...    Relevante   \n",
       "8  rt @bitencourtbas: guedes chamou o mercado par...    Relevante   \n",
       "9  fui ao mercado comprar algo pra fazer almoço e...  Irrelevante   \n",
       "\n",
       "                                                 tcl  \\\n",
       "0                      nunca vi um mercado tão cheio   \n",
       "1  rt folha guedes diz que vai acionar stf contra...   \n",
       "2  deixando tudo mais barato cupom ifood app gt e...   \n",
       "3  rt reporterlacerda inovação no grenal prefeitu...   \n",
       "4  ericatlol mercado a vista vai ficar parado por...   \n",
       "5  vou passar no mercado dps do trampo pra fazer ...   \n",
       "6  cabe a mão invisível do mercado pagar meu almo...   \n",
       "7  circuit breaker acionado pela terceira vez na ...   \n",
       "8  rt bitencourtbas guedes chamou o mercado para ...   \n",
       "9  fui ao mercado comprar algo pra fazer almoço e...   \n",
       "\n",
       "                                                 aaa Classificador  \n",
       "0                      nunca vi um mercado tão cheio   Irrelevante  \n",
       "1  rt folha guedes diz que vai acionar stf contra...   Irrelevante  \n",
       "2  deixando tudo mais barato cupom ifood app gt e...   Irrelevante  \n",
       "3  rt reporterlacerda inovação no grenal prefeitu...   Irrelevante  \n",
       "4  ericatlol mercado a vista vai ficar parado por...   Irrelevante  \n",
       "5  vou passar no mercado dps do trampo pra fazer ...   Irrelevante  \n",
       "6  cabe a mão invisível do mercado pagar meu almo...   Irrelevante  \n",
       "7  circuit breaker acionado pela terceira vez na ...   Irrelevante  \n",
       "8  rt bitencourtbas guedes chamou o mercado para ...   Irrelevante  \n",
       "9  fui ao mercado comprar algo pra fazer almoço e...   Irrelevante  "
      ]
     },
     "execution_count": 45,
     "metadata": {},
     "output_type": "execute_result"
    }
   ],
   "source": [
    "for i in dados.Treinamento:\n",
    "    \n",
    "    frase = i\n",
    "    frase = cleanup(frase.lower())\n",
    "    frase_split = frase.split()\n",
    "\n",
    "    \n",
    "    for p in frase_split:\n",
    "        if p not in tabela_relev:\n",
    "            relevzada.append(p)\n",
    "            serie_relev = pd.Series(relevzada)\n",
    "            tabela_relev = serie_relev.value_counts(True)\n",
    "\n",
    "        if p not in tabela_irrelev:\n",
    "            irrelevzada.append(p)\n",
    "            serie_irrelev = pd.Series(irrelevzada)\n",
    "            tabela_irrelev = serie_irrelev.value_counts(True)\n",
    "\n",
    "            \n",
    "    pf_dado_r = tabela_relev[frase_split].prod()\n",
    "    pf_dado_i = tabela_irrelev[frase_split].prod()\n",
    "    \n",
    "    \n",
    "    if (pr_dado_f > pi_dado_f):\n",
    "        dados.loc[dados.Treinamento==i,'Classificador'] = 'Relevante'\n",
    "    else:\n",
    "        dados.loc[dados.Treinamento==i,'Classificador'] = 'Irrelevante'\n",
    "\n",
    "dados.head(10)"
   ]
  },
  {
   "cell_type": "markdown",
   "metadata": {},
   "source": [
    "___\n",
    "## Aperfeiçoamento:\n",
    "\n",
    "Os trabalhos vão evoluir em conceito dependendo da quantidade de itens avançados:\n",
    "\n",
    "* Limpar: \\n, :, \", ', (, ), etc SEM remover emojis\n",
    "* Corrigir separação de espaços entre palavras e emojis ou entre emojis e emojis\n",
    "* Propor outras limpezas e transformações que não afetem a qualidade da informação ou classificação\n",
    "* Criar categorias intermediárias de relevância baseadas na probabilidade: ex.: muito relevante, relevante, neutro, irrelevante, muito irrelevante (3 categorias: C, mais categorias conta para B)\n",
    "* Explicar por que não posso usar o próprio classificador para gerar mais amostras de treinamento\n",
    "* Propor diferentes cenários para Naïve Bayes fora do contexto do projeto\n",
    "* Sugerir e explicar melhorias reais com indicações concretas de como implementar (indicar como fazer e indicar material de pesquisa)\n",
    "* Montar um dashboard que periodicamente realiza análise de sentimento e visualiza estes dados"
   ]
  },
  {
   "cell_type": "markdown",
   "metadata": {},
   "source": [
    "___\n",
    "## Referências"
   ]
  },
  {
   "cell_type": "markdown",
   "metadata": {},
   "source": [
    "[Naive Bayes and Text Classification](https://arxiv.org/pdf/1410.5329.pdf)  **Mais completo**\n",
    "\n",
    "[A practical explanation of a Naive Bayes Classifier](https://monkeylearn.com/blog/practical-explanation-naive-bayes-classifier/) **Mais simples**"
   ]
  }
 ],
 "metadata": {
  "kernelspec": {
   "display_name": "Python 3",
   "language": "python",
   "name": "python3"
  },
  "language_info": {
   "codemirror_mode": {
    "name": "ipython",
    "version": 3
   },
   "file_extension": ".py",
   "mimetype": "text/x-python",
   "name": "python",
   "nbconvert_exporter": "python",
   "pygments_lexer": "ipython3",
   "version": "3.7.3"
  }
 },
 "nbformat": 4,
 "nbformat_minor": 4
}
