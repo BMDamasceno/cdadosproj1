{
 "cells": [
  {
   "cell_type": "markdown",
   "metadata": {},
   "source": [
    "# Projeto 1 - Ciência dos Dados"
   ]
  },
  {
   "cell_type": "markdown",
   "metadata": {},
   "source": [
    "Nome: Barbara Martins Damasceno\n",
    "\n",
    "Nome: Daniel Delattre"
   ]
  },
  {
   "cell_type": "markdown",
   "metadata": {},
   "source": [
    "Atenção: Serão permitidos grupos de três pessoas, mas com uma rubrica mais exigente. Grupos deste tamanho precisarão fazer um questionário de avaliação de trabalho em equipe"
   ]
  },
  {
   "cell_type": "markdown",
   "metadata": {},
   "source": [
    "___\n",
    "Carregando algumas bibliotecas:"
   ]
  },
  {
   "cell_type": "code",
   "execution_count": 4,
   "metadata": {},
   "outputs": [],
   "source": [
    "%matplotlib inline\n",
    "import pandas as pd\n",
    "import matplotlib.pyplot as plt\n",
    "import numpy as np\n",
    "import os"
   ]
  },
  {
   "cell_type": "code",
   "execution_count": 5,
   "metadata": {
    "scrolled": false
   },
   "outputs": [
    {
     "name": "stdout",
     "output_type": "stream",
     "text": [
      "Esperamos trabalhar no diretório\n",
      "C:\\Users\\User\\Documents\\2 Semestre ENG\\Ciência dos Dados\\cdadosproj1\n"
     ]
    }
   ],
   "source": [
    "print('Esperamos trabalhar no diretório')\n",
    "print(os.getcwd())"
   ]
  },
  {
   "cell_type": "markdown",
   "metadata": {},
   "source": [
    "Carregando a base de dados com os tweets classificados como relevantes e não relevantes:"
   ]
  },
  {
   "cell_type": "code",
   "execution_count": 6,
   "metadata": {},
   "outputs": [],
   "source": [
    "dados = pd.read_excel('MMMercado.xlsx')\n"
   ]
  },
  {
   "cell_type": "markdown",
   "metadata": {},
   "source": [
    "___\n",
    "## Classificador automático de sentimento\n"
   ]
  },
  {
   "cell_type": "markdown",
   "metadata": {},
   "source": [
    "Faça aqui uma descrição do seu produto e o que considerou como relevante ou não relevante na classificação dos tweets.\n",
    "\n",
    "ESCREVA AQUI..."
   ]
  },
  {
   "cell_type": "markdown",
   "metadata": {},
   "source": [
    "___\n",
    "### Montando um Classificador Naive-Bayes\n",
    "\n",
    "Considerando apenas as mensagens da planilha Treinamento, ensine  seu classificador."
   ]
  },
  {
   "cell_type": "code",
   "execution_count": 7,
   "metadata": {},
   "outputs": [],
   "source": [
    "import re \n",
    "def cleanup(text):\n",
    "    \"\"\"\n",
    "        Função de limpeza muito simples que troca alguns sinais básicos por espaços\n",
    "    \"\"\"\n",
    "    #import string\n",
    "    punctuation = '[!-.:?;@/…|]' # Note que os sinais [] são delimitadores de um conjunto.\n",
    "    pattern = re.compile(punctuation)\n",
    "    text_subbed = re.sub(pattern, ' ', text)\n",
    "    return text_subbed\n",
    "    "
   ]
  },
  {
   "cell_type": "code",
   "execution_count": 8,
   "metadata": {},
   "outputs": [
    {
     "data": {
      "text/html": [
       "<div>\n",
       "<style scoped>\n",
       "    .dataframe tbody tr th:only-of-type {\n",
       "        vertical-align: middle;\n",
       "    }\n",
       "\n",
       "    .dataframe tbody tr th {\n",
       "        vertical-align: top;\n",
       "    }\n",
       "\n",
       "    .dataframe thead th {\n",
       "        text-align: right;\n",
       "    }\n",
       "</style>\n",
       "<table border=\"1\" class=\"dataframe\">\n",
       "  <thead>\n",
       "    <tr style=\"text-align: right;\">\n",
       "      <th></th>\n",
       "      <th>Treinamento</th>\n",
       "      <th>relevância</th>\n",
       "    </tr>\n",
       "  </thead>\n",
       "  <tbody>\n",
       "    <tr>\n",
       "      <th>0</th>\n",
       "      <td>nunca vi um mercado tão cheio</td>\n",
       "      <td>Irrelevante</td>\n",
       "    </tr>\n",
       "    <tr>\n",
       "      <th>1</th>\n",
       "      <td>rt @folha: guedes diz que vai acionar stf cont...</td>\n",
       "      <td>Relevante</td>\n",
       "    </tr>\n",
       "    <tr>\n",
       "      <th>2</th>\n",
       "      <td>deixando tudo mais barato:\\ncupom ifood (app) ...</td>\n",
       "      <td>Irrelevante</td>\n",
       "    </tr>\n",
       "    <tr>\n",
       "      <th>3</th>\n",
       "      <td>rt @reporterlacerda: inovação no grenal\\n\\npre...</td>\n",
       "      <td>Irrelevante</td>\n",
       "    </tr>\n",
       "    <tr>\n",
       "      <th>4</th>\n",
       "      <td>@ericat_lol mercado a vista vai ficar parado p...</td>\n",
       "      <td>Relevante</td>\n",
       "    </tr>\n",
       "  </tbody>\n",
       "</table>\n",
       "</div>"
      ],
      "text/plain": [
       "                                         Treinamento   relevância\n",
       "0                      nunca vi um mercado tão cheio  Irrelevante\n",
       "1  rt @folha: guedes diz que vai acionar stf cont...    Relevante\n",
       "2  deixando tudo mais barato:\\ncupom ifood (app) ...  Irrelevante\n",
       "3  rt @reporterlacerda: inovação no grenal\\n\\npre...  Irrelevante\n",
       "4  @ericat_lol mercado a vista vai ficar parado p...    Relevante"
      ]
     },
     "execution_count": 8,
     "metadata": {},
     "output_type": "execute_result"
    }
   ],
   "source": [
    "#Classificando como categoria\n",
    "dados.loc[:,'relevância'] = dados['relevância'].astype('category')\n",
    "#Níveis da categoria\n",
    "dados.relevância.cat.categories = ['Irrelevante', 'Relevante']\n",
    "\n",
    "\n",
    "dados.head(5)"
   ]
  },
  {
   "cell_type": "code",
   "execution_count": 9,
   "metadata": {},
   "outputs": [
    {
     "name": "stdout",
     "output_type": "stream",
     "text": [
      "Probabilidade de ser relevante: 0.59\n",
      "Probabilidade de ser irrelevante: 0.41\n"
     ]
    }
   ],
   "source": [
    "#Dividindo a porcentagem em relevante e irrelevante\n",
    "base = dados.relevância.value_counts(True, sort=False)\n",
    "irrelevante = base[0]\n",
    "relevante = base[1]\n",
    "print(f\"Probabilidade de ser relevante: {relevante}\")\n",
    "print(f\"Probabilidade de ser irrelevante: {irrelevante}\")\n"
   ]
  },
  {
   "cell_type": "markdown",
   "metadata": {},
   "source": [
    "Criando o classificar"
   ]
  },
  {
   "cell_type": "code",
   "execution_count": 11,
   "metadata": {},
   "outputs": [
    {
     "name": "stdout",
     "output_type": "stream",
     "text": [
      "['rt @folha: guedes diz que vai acionar stf contra votação que eleva gasto em r$ 20 bilhões https://t.co/kqpnqaxfv3', '@ericat_lol mercado a vista vai ficar parado por 1h agora. depois volta. mas se atingir queda de 20% vai parar e não tem previsão de volta.', 'cabe a mão invisível do mercado pagar meu almoço e me fazer carinho', 'circuit breaker acionado pela terceira vez na semana e dólar acima de r$ 5.00. pelo visto, além do donald trump, o pessoal do mercado financeiro também não leu o artigo do bernardo küster.', 'rt @bitencourtbas: guedes chamou o mercado para brigar nos 5 (dólar). mercado socou r$ na frente dele e fez o que ele dizia querer. \\n\\ninfel…']\n"
     ]
    }
   ],
   "source": [
    "#Novas folhas de dados criadas a partir da relevancia\n",
    "dados_relev = dados[dados.relevância == 'Relevante'].copy()\n",
    "dados_irrelev = dados[dados.relevância == 'Irrelevante'].copy()\n",
    "\n",
    "import csv\n",
    "frases_ttrelev = dados_relev.Treinamento.tolist()\n",
    "clean_relev = []\n",
    "\n",
    "\n",
    "output=open('relev.txt','w',encoding=\"utf-8-sig\")\n",
    "for el in frases_ttrelev:\n",
    "    output.write(el)\n",
    "\n",
    "for i in frases_ttrelev:\n",
    "    palavra = cleanup(i)\n",
    "\n",
    "print(frases_ttrelev[0:5])\n",
    "\n",
    "\n",
    "#Irrelevante\n",
    "frases_ttirrelev = dados_irrelev.Treinamento.tolist()\n",
    "clean_irrelev = []\n",
    "\n",
    "\n",
    "output1=open('irrelev.txt','w',encoding=\"utf-8-sig\")\n",
    "for el in frases_ttirrelev:\n",
    "    output1.write(el)\n",
    "\n",
    "for i in frases_ttirrelev:\n",
    "    palavra = cleanup(i)\n",
    "\n",
    "#print(frases_ttirrelev[0:5])"
   ]
  },
  {
   "cell_type": "code",
   "execution_count": 8,
   "metadata": {},
   "outputs": [
    {
     "name": "stdout",
     "output_type": "stream",
     "text": [
      "rt @folha: guedes diz que vai acionar stf contra votação que eleva gasto em r$ 20 bilhões https://t.co/kqpnqaxfv3@ericat_lol mercado a vista vai ficar parado por 1h agora. depois volta. mas se atingir queda de 20% vai parar e não tem previsão de volta.cabe a mão invisível do mercado pagar meu almoço e me fazer carinhocircuit breaker acionado pela terceira vez na semana e dólar acima de r$ 5.00. pelo visto, além do donald trump, o pessoal do mercado financeiro também não leu o artigo do bernardo küster.rt @bitencourtbas: guedes chamou o mercado para brigar nos 5 (dólar). mercado socou r$ na frente dele e fez o que ele dizia querer. \n",
      "\n",
      "infel…rt @alessandromolon: o governo se recusa a reconhecer a gravidade do coronavírus. momentos de seriedade exigem autoridades responsáveis e m…pronto , pessoal mais novo no mercado que está fazendo curso intensivo de cb já tem história pra contar !!!!!rt @farialimaelevat: estagiários filhos do bullmarket, bem vindos ao mercado financeiro!na verdade o mer\n",
      "nunca vi u\n"
     ]
    }
   ],
   "source": [
    "with open(\"relev.txt\", \"r\", encoding=\"utf-8-sig\") as arquivo_texto:\n",
    "    relev_raw = arquivo_texto.read()\n",
    "    \n",
    "print(relev_raw[0:1000])\n",
    "\n",
    "#Irrelevante\n",
    "with open(\"irrelev.txt\", \"r\", encoding=\"utf-8-sig\") as arquivo_texto:\n",
    "    irrelev_raw = arquivo_texto.read()\n",
    "\n",
    "print(irrelev_raw[0:10])"
   ]
  },
  {
   "cell_type": "markdown",
   "metadata": {},
   "source": [
    "### CLEANUP "
   ]
  },
  {
   "cell_type": "code",
   "execution_count": 9,
   "metadata": {},
   "outputs": [
    {
     "name": "stdout",
     "output_type": "stream",
     "text": [
      "rt  folha  guedes diz que vai acionar stf contra votação que eleva gasto em r  20 bilhões https   t co kqpnqaxfv3 ericat_lol mercado a vista vai ficar parado por 1h agora  depois volta  mas se atingir queda de 20  vai parar e não tem previsão de volta cabe a mão invisível do mercado pagar meu almoço e me fazer carinhocircuit breaker acionado pela terceira vez na semana e dólar acima de r  5 00  pelo visto  além do donald trump  o pessoal do mercado financeiro também não leu o artigo do bernardo küster rt  bitencourtbas  guedes chamou o mercado para brigar nos 5  dólar   mercado socou r  na frente dele e fez o que ele dizia querer  \n",
      "\n",
      "infel rt  alessandromolon  o governo se recusa a reconhecer a gravidade do coronavírus  momentos de seriedade exigem autoridades responsáveis e m pronto   pessoal mais novo no mercado que está fazendo curso intensivo de cb já tem história pra contar      rt  farialimaelevat  estagiários filhos do bullmarket  bem vindos ao mercado financeiro na verdade o mer\n",
      "nunca vi um mercado tão cheiodeixando tudo mais barato \n",
      "cupom ifood  app  = gt  ee6hz487al\n",
      "código rappi = gt  82q38640354\n",
      "uber   gt  rjefc5\n",
      "r  10 00 picpay = gt  hjsw1z\n",
      "99   gt  s53bdg5a\n",
      " desconto uber eats = gt  eats rjefc5\n",
      "ofertas da amazon  airbnb  recargapay  mercado livre e pagseguro no nosso perfil https   t co vrih0hbnulrt  reporterlacerda  inovação no grenal\n",
      "\n",
      "prefeitura vai disponibilizar dois ônibus exclusivos para o transporte das mulheres até arena  saí vou passar no mercado dps do trampo pra fazer a mão das geladas pro grenal 🇪🇪💙🇪🇪fui ao mercado comprar algo pra fazer almoço e chegando lá desisti  poxa é pedir mto pedir pra ter uma cabeça normal é bizarro porque eu já trabalho em casa e só saio umas duas vezes por semana pra ir no mercado  já fazia quarentena antes de ser modinha  hipsterdaquarentenaafirmamos com tranquilidade  o melhor lixocar em tnt do mercado é da naimatec \n",
      "⠀\n",
      "corte preciso e elegante  solda ultrasônica perfeita  tnt de qualidade  100  biodegradável e cores incríveis 😊\n",
      "⠀\n",
      "faça um teste  entre em contato pelo whatsapp   11  94786 8870 😉 https   t co gmobfrofwmrole na italia agr é ir no mercadoo bolsonarismo é  antes de tudo  uma mistura de burrice com desonestidade  https   t co lp3qyzpipv https   t co yhze2jsp8d anapaulavolei realmente https   t co lp3qyzpipvrt  iron_fall  minha maior preocupação não é nem a queda do ab que aparentemente pode vir a ocorrer e não seria absurda  time não evolui  m rt  mariaquinolucas  vem cá rapidinho  vcs precisam parar de achar q a gente fica montada 24h   se vc me ver no mercado  padaria  madureira  cleidim_  guilhermepiu pessoal  vocês parecem que não entendem a situação do clube não  tiago nunes é outro patamar de técnico no país  mesmo se for demitido do corinthians  tem mercado em times de ponta do país  tranquilamente  acordem   iphone 7 128gb rose semi novo \n",
      "valor  r 1499 à vista \n",
      "ou 12x r 155 💳 via mercado livre \n",
      "acompanha caixa carregador e cabo usb \n",
      "bateria com 72  \n",
      "garantia de 3 meses  nunca sofreu manutenção  possui somente marcas de  https   t co tbsootj0xeo mercado pernambucano de dubladores nunca esteve tão perdido quanto neste trabalho \n",
      "https   t co kyrj0i2vho\n",
      "https   t co 8bhdw7ad1k\n",
      " catchbackrt  arrigo  entrei no mercado  as prateleiras vazias  produtos esgotados  sujeira  abandono  cara de saqueado  pensei  poxa o corona vírus fui no mercado q calor do crlrt  favchump  look das noah go solo já tá pronto no mercado livre https   t co cuf0qpb4il veramagalhaes quero ver agora vocês falarem  menos estado  mais mercado  \n",
      "\n",
      "quando a coisa aperta é sempre o estado que fica na linha de frente ou será que os hospitais privados vão oferecer leitos gratuitos para o povo não consigo tankar com esses homi estranho q fica me encarando como se fossem vender meus órgão no mercado negroto melhorando de uma gripe ainda  to com uma leve tosse  eu comecei a tossir no mercado mais uma vez   não ficou uma pessoa na mesma sessão que eu  mas não é corona não irmãos  amém  baileyhug olá  dewa \n",
      "\n",
      "como entrou na página mercado libre  vamos te direcionar para nossa equipe do mercado pago brasil \n",
      "\n",
      "para oferecer a melhor experiência para você  pedimos que acesse  https   t co rz8s1jgq0k selecione o motivo para contato e nos conte a sua dúvida rt  eutheux  o jovem tuiteiro no mercado de trabalho e o impacto dos memes kkk o gênero merece ser estudado  meus parceiros highwindrigo eu concordo  é justamente por isso que  estão surgindo mais e mais novos estúdios pequenos pra desenvolver jogos deles  problema é que precisa de financiamento né  são bem poucas as empresas que conseguem ficar no mercado depois do primeiro jogo  michellegf__ amiga  sabe o que eu fiz com 02 dólares hj  \n",
      "comprei café e pão de queijo na cantina   legumes e temperos no mercado  tá baratinho o dólar    o mercado de viagens foi de longe o mais afetado com viagens de lazer e negócios canceladas rt  edupanzi  problema do cruzeiro não se resume a joão lucas  adilson batista ou ocimar  tá muito claro  pra mim  q é uma soma disso e mui o auge foi minha mãe ter comprado o mercado inteiro aqui pra casa\n",
      "\n",
      "ta parecendo filme do fim do mundo \n",
      "\n",
      "o carro dela tava tão lotado q quando a gente abria a porta as coisas caía kkkkrt  driccos  primeiro grenal de libertadores  o mercado financeiro vindo abaixo  colapso na saúde mundial  tudo sendo cancelado  adiado  po a mulher do mercado  eu vou é beber álcool em gel pra proteger do corona \n",
      "eu passei do lado tossido e bem ouvi ela falando\n",
      "mainha falou que a bixa me olhou como se fosse me exterminarrt  dicasdocartola  mercado da bola começou agitado  \n",
      "\n",
      "via   uolesporte https   t co cxl6zubldyrt  letcia_anselmo  atenção ai\n",
      "\n",
      "precisando fazer frete  alexandre fretes\n",
      "\n",
      "querendo instalar um som maneiro completo no carro ou alarme pra rt  escotilha  livro do escritor ian mcewan   máquinas como eu’   cialetras  2019  discute as consequências da inserção da inteligência art e o barata voa no governo segue firme  me encanta a candise de alguns risiliente no mercadoquase derrubei a prateleira do mercado com o carrinho agrcomo eu explico pros meus amigos que querem ser fotógrafos em maceió que desde que eu comecei a acompanhar o mercado criativo  por 2009  quem ganhou dinheiro até agora foi quem fotografou casamento e formatura  bcbigode dudamel tá livre no mercado 😂twitter com story  é isso mesmo  kkkk daqui a pouco até mercado livre netflix vai ter story 🤔 kkkfascista \n",
      "n sabes o q significa papagaio de pirata \n",
      "tds minhas posições politicas são exatamente opostas ao fascismo \n",
      "defendo estado mínimo  desburocratização mercado livre  menos poder nas mãos do estado  tudo q o governo defende mas os esquerdiotas boicotam \n",
      "cala a boca burro  https   t co 4f56m7nrqc prefmossoro que igual medida seja adotada no centro da cidade   especialmente no entorno da pça do codó cel gurgel  mercado central vias estas  onde concentram maior núm de  ambulantes   afinal os ambulantes ñ podem determinar medidas regras e  desorganizar  o tráfego   ficaadicafalei q queria comer hambúrguer minha mãe agr foi no mercado comprou carne e tá fazendo pra mim 🥰🥰🥰 imroger7 o problema que o mercado que mais percebo é nba msm kkk ou seja fodeu o estado que tem que cuidar do dinheiro  o mercado capitalista não consegue    \n",
      "\n",
      "mama essa então estadista https   t co cil17m6cina mão do mercado te bateu uma punhetinha titanicsrising isso é coisa de rihanna que eu sei  a fanty  falindo e agr ela quer entrar no mercado do álcool em gel por causa do corona vírus  marqueteirart  braian  é bizarro porque eu já trabalho em casa e só saio umas duas vezes por semana pra ir no mercado  já fazia quarentena antes de se meu maior medo era de estar num mercado de trabalho que não fosse minha cara mas sinceramente olha essa sala cheio de e girl e povo de humanas legalize https   t co ze22xyuu0qfui dormir 2 30 ontem e acordei agora atrasado pra ir no mercadoeu amo acordar cedo meu deus ja lavei louça fui pro mercado e ainda sao 11 30confira nossa executiva gisselle ruiz lanza  falando sobre  diversidade e  inclusão   iamintel https   t co o3ax4hcrnmsaudades da minha cidade    comer uma tapioquinha no mercado central bem cedinho com mainha    ♥️ https   t co iyrlwhlk3y tabomraphael  uoleconomia  uol é o mercado a funcionarmano  eu tava de boas comendo miojo  uma comida que eu não como faz um tempo e tava mó feliz  sabe  sem me sentir uma merda ambulante  ai vem o meu pai  ai  a moça do mercado falou que é pra você parar de comer miojo  ela disse que já parou porque tava engordando  falou pra para vou correr no mercado pra comprar cervejaeu odeio esse mercado https   t co wp6xg3j5shvéi eu odeio vim no mercado💲você sabia que tem muita gente ganhando dinheiro de forma online usando um laptop ou até mesmo um celular com conexão à internet    faço minhas operações no mercado de capitais sem sair de casa e já estou ganhando dinheiro  quer saber como   se inscreva https   t co 80onxnxcebtô indo no mercado  vamos ver como tá a situaçãoo mercado farmacêutico adora também  sto errada  e por quê  https   t co vkrqnitiyfisto é o que todos os que estão com autoridade estão pensando \n",
      "não deixe que uma boa crise seja desperdiçada \n",
      "haverá muitas mudanças e elas serão principalmente para beneficiar os que estão no poder   folha_mercado  gi1  elonmusknão vivo sem descontinhos \n",
      "cupom ifood  app  = gt  ee6hz487al\n",
      "código rappi = gt  82q38640354\n",
      "uber   gt  rjefc5\n",
      "r  10 00 picpay = gt  hjsw1z\n",
      "99   gt  s53bdg5a\n",
      " desconto uber eats = gt  eats rjefc5\n",
      "ofertas da amazon  airbnb  recargapay  mercado livre e pagseguro visite o nosso perfil  https   t co mlwbdcxghhseja esperto e coma com o descontinho \n",
      "cupom ifood  app  = gt  ee6hz487al\n",
      "código rappi = gt  82q38640354\n",
      "uber   gt  rjefc5\n",
      "r  10 00 picpay = gt  hjsw1z\n",
      "99   gt  s53bdg5a\n",
      " desconto uber eats = gt  eats rjefc5\n",
      "ofertas amazon  airbnb  recargapay  mercado livre  pagseguro lá no perfil  https   t co at0nhkcwhy gfiuza_oficial chupa  seu burro https   t co lp3qyzpipv ivanmanrique07  mercado_ingles aweonao iguinho_siillva kkkkk fui no mercado e falei p mulher do caixa “to esquecendo alguma coisa  já já vou voltar” mas só lembrei 4 hr da manhã kkko povo anda no mercado como se o mundo fosse acabar  uma senhora até veio me dizer que isso era uma guerra kkkeu falei mae vamo no mercado estocar comida e ela nao me levou a seriort  iron_fall  antes de sugerirem um nome  pesquisem o histórico e verão que o mercado está escasso  apostar em técnico jovem também é um t não tem por aí uma migalhinha de mercado livre https   t co geaay4bfhitive que comprar no mercado alguma coisa pra acabar com um leite que tinha aqui    \n",
      "comprei sucrilhos   \n",
      "meu paladar infantil me obrigaeu acho q se minha mãe pudesse ela morava no mercado  todo dia cr kkk balletjovemminasgerais forma  dançarinos para o mercado de trabalho e  prepara jovens com   de 15 anos p   ciasdedança e também para a vida  o bate papo tá no  geracaoalmg deste sáb   19h  na  tvalmg  veja https   t co d6samme1vy   agenda   minas300  souminasdemais\n",
      " culturamg https   t co egatfkkzrl brendharaf para que possamos te ajudar  pedimos que inicie uma reclamação  se sua compra foi no mercado livre  acesse  compras  gt  compras  gt  três pontinhos  gt  preciso de ajuda \n",
      "\n",
      "se sua compra foi no mercado pago  acesse   atividades  e na negociação correspondente em  preciso de ajuda  enfrentar a fila do mercado hj    já tô vendo o estresse ayecompay  felippe_hermes na atual situação para o bem do mercado interno faça como os europeus  jogue a batata quente para a responsa de outro  assim seus atos falhos vão ser só uma cortina esquecida  era covid 19  e do nada  booom  crise do petróleo    o mundo vai além do nosso umbigo brrt  a_corinthians  fala  fiel  no dia 21 3  a casa do povo recebe discussão sobre o aumento do interesse do futebol feminino  a adesão de m e eu que briguei com uma mulher no mercado e meu namorado dizendo depois   isso mesmo amor dale kkkkkkmaria me deu um prejuízo no mercado kkkkkkk nunca mais levojeep renegade já vendeu 250 mil unidades no brasil https   t co l5udlcyu3l https   t co qcad4ah9jt socialdem_br fascista \n",
      "n sabes o q significa papagaio de pirata \n",
      "tds minhas posições politicas são exatamente opostas ao fascismo \n",
      "defendo estado mínimo  desburocratização mercado livre  menos poder nas mãos do estado  tudo q o governo defende mas os esquerdiotas boicotam \n",
      "cala a boca burro a  smpedsp participou da plenária da câmara paulista para inclusão da pessoa com deficiência no mercado de trabalho formal  a pauta foi sobre o índice de funcionalidade brasileiro modificado e resultados da pesquisa realizada pelo mpt ibope sobre os trabalhadores com deficiência  https   t co 9pvcmnkgdwmds o ticket alimentação da minha mae eh todinho p eu comprar salgado no mercado todo dia eu indo lá e gastando 7 reais em coxinha vo morrert  rodp13   novolauropro  doce_vicio por isso também que os eua estão putos com o sucesso das armas russas no mercado  como os s400  o sis atenção ai\n",
      "\n",
      "precisando fazer frete  alexandre fretes\n",
      "\n",
      "querendo instalar um som maneiro completo no carro ou alarme pra se proteger dos bandido  leonardo som\n",
      "\n",
      "querendo comprar comida pra encher o buchinho  mercado dois amigos \n",
      "\n",
      "obg pela atenção 😗✌🏻 arrigo o único dia que fui que parecia um mercado decente  arrumado  tudo com preço bonitinho  foi na mooca  perto da faculdade  de resto parece mercado de filme de zumbiacho que vou andando lá no públic compra um chocolate lá é mais barato q nos mercado aqui da avenida alefp_ to no mercado agora e olha isso aqui https   t co ylaqo7yfwdé óbvio que existe um limite de produção de vacinas em cuba  na china se salvaram mil e quinhentos  a itália já demanda \n",
      "imagina se cuba cobrar pelo preço de mercado \n",
      "a china comunista cobraria  só que cuba é socialista\n",
      "salve a revolução cubana \n",
      " cubalibre \n",
      "cá\n",
      " gotohomeyankeconsumo on the go  reciclagem e economia circular são tendências para embalagens de proteína animal https   t co 1a5pytzybg  lácteos  mercado  laticínios  cooperativas  indústria  comércio  queijo  marketing https   t co vaj0jxjvdbhttps   t co rhr3rojnzz \n",
      "facebook – marão mercado imobiliário\n",
      "skype    marão mercado imobiliário\n",
      "youtube – josé ricardo marão \n",
      "vivo –  63 999797445\n",
      "oi         63 984108384\n",
      "fixo teto  – 63 33224144\n",
      "q 104 norte rua ne 1 lt 17   galeria victoria  palmas – to \n",
      "vídeos e produções https   t co 8onwmi6bewrt  catbrasa  a yolanda tati a fazer stories a dizer ao pessoal pra não ser louco e correr pro supermercado enquanto mostra a sua lista de  uolesporte mercado tá sem opção  novolauropro  doce_vicio por isso também que os eua estão putos com o sucesso das armas russas no mercado  como os s400  o sistema pantsir  os tanques t40 e até os velhos e conhecidos kalashnikovs   rt  bikedebigode  é agora que eu falo pra me segui no insta  neh \n",
      "\n",
      "eu vendo produtinhos sex shop com preços abaixo do mercado  segue lá\n",
      "\n",
      "te você conhece o “cada um por si” da sociedade quando o mercado ta lotado e as prateleiras vaziasoff  semana q vem vou mexer nas coisas dela e procurar fotos das viagens    egito  grécia  havaí  cuba  mais de 20x na frança  fazia mercado de mês em buenos aires     ughlollapalooza brasil será adiado por causa de coronavírus   via  propmark https   t co zf87homprprt  rr_vasco  colombiano \n",
      "jogou no boca jnrs \n",
      "fez ~120 jogos no porto 4 anos  \n",
      "fez ~150 partidas na internazionale 4 anos  \n",
      "\n",
      "3 meses no vas rt  autopapo  vw nivus  novo suv da marca  tem detalhes do interior revelados  suv cupê derivado do polo chegará ao mercado brasileiro no i o jovem tuiteiro no mercado de trabalho e o impacto dos memes kkk o gênero merece ser estudado  meus parceiros https   t co hbnysldvyyfelicidade reinando quando a encomenda chega extremamente rápido  mercado livre eu te amort  vcanedo  época boa para fazer uma lista de seriados e filmes para assistir  dar play no bola quadrada  começar um save no football mana  chinaina no mercado ele não mexe  não suspendeu o transporte marítimo rt  eibode  alguém sabe me dizer quando custa um rim no mercado negro americano \n",
      "\n",
      "tenho um disponível pra venderisso enquanto ainda tem coisa p comprar no mercadopalestra do dia das mulheres com mulheres fodas da comunicação \n",
      "falando sobre assedio no mercado de trabalho entre outros pontos e caiu bem no dia da minha folga  seria muita sorte tava pensando aqui sobre como é bom estar cercado de pessoas boas \n",
      "\n",
      "painho fez amizade com um cliente qdo trabalhou numa empresa por anos \n",
      "\n",
      "esse cliente deu trabalho p painho depois de um tempo q ele já tava fora do mercado  e ainda arrumou psiquiatra pra mim mesmo sem obrigação vou melhorar seu dia \n",
      "cupom ifood  app  = gt  ee6hz487al\n",
      "código rappi = gt  82q38640354\n",
      "uber   gt  rjefc5\n",
      "r  10 00 picpay = gt  hjsw1z\n",
      "99   gt  s53bdg5a\n",
      " desconto uber eats = gt  eats rjefc5\n",
      "ofertas da amazon  airbnb  recargapay  mercado livre e pagseguro visite perfil https   t co drsejiqian arthrrrrr mas é que o covid 19 não começou com essa sopa  foi no mercado de peixe de wuhan  o primeiro caso mesmo foi do começo de 2019  bem depois de quando a notícia estourou aqui rt  thylemoos  já disse e vou repetir  toda vez que o  mercado  abraçar um candidato  desconfie  e toda vez que o  mercado  se assustar com \n"
     ]
    }
   ],
   "source": [
    "relev_c = cleanup(relev_raw.lower())\n",
    "print(relev_c[:1000])\n",
    "\n",
    "#Irrelevante\n",
    "irrelev_c = cleanup(irrelev_raw.lower())\n",
    "print(irrelev_c)"
   ]
  },
  {
   "cell_type": "markdown",
   "metadata": {},
   "source": [
    "### SPLITZADA"
   ]
  },
  {
   "cell_type": "code",
   "execution_count": 10,
   "metadata": {},
   "outputs": [
    {
     "data": {
      "text/plain": [
       "['nunca',\n",
       " 'vi',\n",
       " 'um',\n",
       " 'mercado',\n",
       " 'tão',\n",
       " 'cheiodeixando',\n",
       " 'tudo',\n",
       " 'mais',\n",
       " 'barato',\n",
       " 'cupom']"
      ]
     },
     "execution_count": 10,
     "metadata": {},
     "output_type": "execute_result"
    }
   ],
   "source": [
    "relevzada = relev_c.split()\n",
    "relevzada[:10]\n",
    "\n",
    "#Irrelevante\n",
    "irrelevzada = irrelev_c.split()\n",
    "irrelevzada[:10]"
   ]
  },
  {
   "cell_type": "code",
   "execution_count": 11,
   "metadata": {},
   "outputs": [
    {
     "data": {
      "text/plain": [
       "o              0.040623\n",
       "mercado        0.034055\n",
       "de             0.030406\n",
       "do             0.023595\n",
       "e              0.022865\n",
       "                 ...   \n",
       "linguístico    0.000243\n",
       "poderoso       0.000243\n",
       "anarcobs       0.000243\n",
       "derrota        0.000243\n",
       "falar          0.000243\n",
       "Length: 1432, dtype: float64"
      ]
     },
     "execution_count": 11,
     "metadata": {},
     "output_type": "execute_result"
    }
   ],
   "source": [
    "serie_relev = pd.Series(relevzada)\n",
    "tabela_relev = serie_relev.value_counts(True)\n",
    "tabela_relev\n",
    "\n",
    "#Irrelevante\n",
    "serie_irrelev = pd.Series(irrelevzada)\n",
    "tabela_irrelev = serie_irrelev.value_counts(True)\n",
    "#tabela_irrelev\n",
    "\n",
    "tabela_relev"
   ]
  },
  {
   "cell_type": "markdown",
   "metadata": {},
   "source": [
    "___\n",
    "### Verificando a performance do Classificador\n",
    "\n",
    "Agora você deve testar o seu classificador com a base de Testes."
   ]
  },
  {
   "cell_type": "code",
   "execution_count": 12,
   "metadata": {},
   "outputs": [],
   "source": [
    "tudo = relev_c + irrelev_c"
   ]
  },
  {
   "cell_type": "code",
   "execution_count": 13,
   "metadata": {},
   "outputs": [
    {
     "data": {
      "text/plain": [
       "mercado           0.034089\n",
       "o                 0.033358\n",
       "de                0.027798\n",
       "e                 0.022385\n",
       "do                0.020044\n",
       "                    ...   \n",
       "reinando          0.000146\n",
       "tranquilamente    0.000146\n",
       "máquinas          0.000146\n",
       "drsejiqian        0.000146\n",
       "falar             0.000146\n",
       "Length: 2285, dtype: float64"
      ]
     },
     "execution_count": 13,
     "metadata": {},
     "output_type": "execute_result"
    }
   ],
   "source": [
    "s_tudo = pd.Series(tudo.split())\n",
    "trel_tudo = s_tudo.value_counts(True)\n",
    "trel_tudo"
   ]
  },
  {
   "cell_type": "markdown",
   "metadata": {},
   "source": [
    "### Probabilidade segundo relevância"
   ]
  },
  {
   "cell_type": "code",
   "execution_count": 14,
   "metadata": {},
   "outputs": [],
   "source": [
    "p_relev = len(serie_relev)/len(s_tudo)\n",
    "p_irrelev = len(serie_irrelev)/len(s_tudo)"
   ]
  },
  {
   "cell_type": "markdown",
   "metadata": {},
   "source": [
    "## Frase"
   ]
  },
  {
   "cell_type": "code",
   "execution_count": 15,
   "metadata": {},
   "outputs": [
    {
     "name": "stdout",
     "output_type": "stream",
     "text": [
      "4111\n"
     ]
    },
    {
     "data": {
      "text/plain": [
       "o              0.040623\n",
       "mercado        0.034055\n",
       "de             0.030406\n",
       "do             0.023595\n",
       "e              0.022865\n",
       "                 ...   \n",
       "linguístico    0.000243\n",
       "poderoso       0.000243\n",
       "anarcobs       0.000243\n",
       "derrota        0.000243\n",
       "falar          0.000243\n",
       "Length: 1432, dtype: float64"
      ]
     },
     "execution_count": 15,
     "metadata": {},
     "output_type": "execute_result"
    }
   ],
   "source": [
    "frase = \"a vitamina bacate \"\n",
    "frase = cleanup(frase.lower())\n",
    "frase_split = frase.split()\n",
    "print(len(relevzada))\n",
    "tabela_relev\n"
   ]
  },
  {
   "cell_type": "code",
   "execution_count": 16,
   "metadata": {},
   "outputs": [
    {
     "name": "stdout",
     "output_type": "stream",
     "text": [
      "['a', 'vitamina', 'bacate']\n",
      "4113\n"
     ]
    },
    {
     "data": {
      "text/plain": [
       "0.00024313153415998054"
      ]
     },
     "execution_count": 16,
     "metadata": {},
     "output_type": "execute_result"
    }
   ],
   "source": [
    "print(frase_split)\n",
    "\n",
    "for p in frase_split:\n",
    "    if p not in tabela_relev:\n",
    "        relevzada.append(p)\n",
    "        serie_relev = pd.Series(relevzada)\n",
    "        tabela_relev = serie_relev.value_counts(True)\n",
    "\n",
    "        \n",
    "        \n",
    "    if p not in tabela_irrelev:\n",
    "        irrelevzada.append(p)\n",
    "        serie_irrelev = pd.Series(irrelevzada)\n",
    "        tabela_irrelev = serie_irrelev.value_counts(True)\n",
    "\n",
    "\n",
    "        \n",
    "pf_dado_r = tabela_relev[frase_split].prod()\n",
    "pf_dado_i = tabela_irrelev[frase_split].prod()\n",
    "\n",
    "print(len(relevzada))\n",
    "tabela_relev\n",
    "tabela_relev[\"bacate\"]"
   ]
  },
  {
   "cell_type": "code",
   "execution_count": 17,
   "metadata": {},
   "outputs": [
    {
     "name": "stdout",
     "output_type": "stream",
     "text": [
      "7.520592927861499e-10\n",
      "8.263048849733654e-10\n"
     ]
    }
   ],
   "source": [
    "pr_dado_f = pf_dado_r * p_relev\n",
    "pi_dado_f = pf_dado_i * p_irrelev\n",
    "\n",
    "print(pr_dado_f)\n",
    "print(pi_dado_f)"
   ]
  },
  {
   "cell_type": "markdown",
   "metadata": {},
   "source": [
    "___\n",
    "### Concluindo"
   ]
  },
  {
   "cell_type": "code",
   "execution_count": 18,
   "metadata": {},
   "outputs": [
    {
     "name": "stdout",
     "output_type": "stream",
     "text": [
      "pr dado f: 0.00000000075205929279, pi dado f: 0.00000000082630488497\n",
      "\n",
      "nem gasta tempo lendo\n"
     ]
    }
   ],
   "source": [
    "print(f'pr dado f: {pr_dado_f:.20f}, pi dado f: {pi_dado_f:.20f}\\n')\n",
    "pr = (pr_dado_f>pi_dado_f)\n",
    "if pr:\n",
    "    print('Eu acho que é relevante')\n",
    "else:\n",
    "    print('nem gasta tempo lendo')"
   ]
  },
  {
   "cell_type": "code",
   "execution_count": 19,
   "metadata": {},
   "outputs": [
    {
     "data": {
      "text/html": [
       "<div>\n",
       "<style scoped>\n",
       "    .dataframe tbody tr th:only-of-type {\n",
       "        vertical-align: middle;\n",
       "    }\n",
       "\n",
       "    .dataframe tbody tr th {\n",
       "        vertical-align: top;\n",
       "    }\n",
       "\n",
       "    .dataframe thead th {\n",
       "        text-align: right;\n",
       "    }\n",
       "</style>\n",
       "<table border=\"1\" class=\"dataframe\">\n",
       "  <thead>\n",
       "    <tr style=\"text-align: right;\">\n",
       "      <th></th>\n",
       "      <th>Treinamento</th>\n",
       "      <th>relevância</th>\n",
       "    </tr>\n",
       "  </thead>\n",
       "  <tbody>\n",
       "    <tr>\n",
       "      <th>0</th>\n",
       "      <td>nunca vi um mercado tão cheio</td>\n",
       "      <td>Irrelevante</td>\n",
       "    </tr>\n",
       "    <tr>\n",
       "      <th>1</th>\n",
       "      <td>rt @folha: guedes diz que vai acionar stf cont...</td>\n",
       "      <td>Relevante</td>\n",
       "    </tr>\n",
       "    <tr>\n",
       "      <th>2</th>\n",
       "      <td>deixando tudo mais barato:\\ncupom ifood (app) ...</td>\n",
       "      <td>Irrelevante</td>\n",
       "    </tr>\n",
       "    <tr>\n",
       "      <th>3</th>\n",
       "      <td>rt @reporterlacerda: inovação no grenal\\n\\npre...</td>\n",
       "      <td>Irrelevante</td>\n",
       "    </tr>\n",
       "    <tr>\n",
       "      <th>4</th>\n",
       "      <td>@ericat_lol mercado a vista vai ficar parado p...</td>\n",
       "      <td>Relevante</td>\n",
       "    </tr>\n",
       "    <tr>\n",
       "      <th>5</th>\n",
       "      <td>vou passar no mercado dps do trampo pra fazer ...</td>\n",
       "      <td>Irrelevante</td>\n",
       "    </tr>\n",
       "    <tr>\n",
       "      <th>6</th>\n",
       "      <td>cabe a mão invisível do mercado pagar meu almo...</td>\n",
       "      <td>Relevante</td>\n",
       "    </tr>\n",
       "    <tr>\n",
       "      <th>7</th>\n",
       "      <td>circuit breaker acionado pela terceira vez na ...</td>\n",
       "      <td>Relevante</td>\n",
       "    </tr>\n",
       "    <tr>\n",
       "      <th>8</th>\n",
       "      <td>rt @bitencourtbas: guedes chamou o mercado par...</td>\n",
       "      <td>Relevante</td>\n",
       "    </tr>\n",
       "    <tr>\n",
       "      <th>9</th>\n",
       "      <td>fui ao mercado comprar algo pra fazer almoço e...</td>\n",
       "      <td>Irrelevante</td>\n",
       "    </tr>\n",
       "  </tbody>\n",
       "</table>\n",
       "</div>"
      ],
      "text/plain": [
       "                                         Treinamento   relevância\n",
       "0                      nunca vi um mercado tão cheio  Irrelevante\n",
       "1  rt @folha: guedes diz que vai acionar stf cont...    Relevante\n",
       "2  deixando tudo mais barato:\\ncupom ifood (app) ...  Irrelevante\n",
       "3  rt @reporterlacerda: inovação no grenal\\n\\npre...  Irrelevante\n",
       "4  @ericat_lol mercado a vista vai ficar parado p...    Relevante\n",
       "5  vou passar no mercado dps do trampo pra fazer ...  Irrelevante\n",
       "6  cabe a mão invisível do mercado pagar meu almo...    Relevante\n",
       "7  circuit breaker acionado pela terceira vez na ...    Relevante\n",
       "8  rt @bitencourtbas: guedes chamou o mercado par...    Relevante\n",
       "9  fui ao mercado comprar algo pra fazer almoço e...  Irrelevante"
      ]
     },
     "execution_count": 19,
     "metadata": {},
     "output_type": "execute_result"
    }
   ],
   "source": [
    "dados.head(10)"
   ]
  },
  {
   "cell_type": "code",
   "execution_count": 20,
   "metadata": {},
   "outputs": [],
   "source": [
    "for i in dados.Treinamento:\n",
    "    if (pr_dado_f > pi_dado_f):\n",
    "        dados.loc[dados.Treinamento==i,'Classificador'] = 'Relevante'\n",
    "    else:\n",
    "        dados.loc[dados.Treinamento==i,'Classificador'] = 'Irrelevante'"
   ]
  },
  {
   "cell_type": "code",
   "execution_count": 21,
   "metadata": {},
   "outputs": [
    {
     "data": {
      "text/html": [
       "<div>\n",
       "<style scoped>\n",
       "    .dataframe tbody tr th:only-of-type {\n",
       "        vertical-align: middle;\n",
       "    }\n",
       "\n",
       "    .dataframe tbody tr th {\n",
       "        vertical-align: top;\n",
       "    }\n",
       "\n",
       "    .dataframe thead th {\n",
       "        text-align: right;\n",
       "    }\n",
       "</style>\n",
       "<table border=\"1\" class=\"dataframe\">\n",
       "  <thead>\n",
       "    <tr style=\"text-align: right;\">\n",
       "      <th></th>\n",
       "      <th>Treinamento</th>\n",
       "      <th>relevância</th>\n",
       "      <th>Classificador</th>\n",
       "    </tr>\n",
       "  </thead>\n",
       "  <tbody>\n",
       "    <tr>\n",
       "      <th>0</th>\n",
       "      <td>nunca vi um mercado tão cheio</td>\n",
       "      <td>Irrelevante</td>\n",
       "      <td>Irrelevante</td>\n",
       "    </tr>\n",
       "    <tr>\n",
       "      <th>1</th>\n",
       "      <td>rt @folha: guedes diz que vai acionar stf cont...</td>\n",
       "      <td>Relevante</td>\n",
       "      <td>Irrelevante</td>\n",
       "    </tr>\n",
       "    <tr>\n",
       "      <th>2</th>\n",
       "      <td>deixando tudo mais barato:\\ncupom ifood (app) ...</td>\n",
       "      <td>Irrelevante</td>\n",
       "      <td>Irrelevante</td>\n",
       "    </tr>\n",
       "    <tr>\n",
       "      <th>3</th>\n",
       "      <td>rt @reporterlacerda: inovação no grenal\\n\\npre...</td>\n",
       "      <td>Irrelevante</td>\n",
       "      <td>Irrelevante</td>\n",
       "    </tr>\n",
       "    <tr>\n",
       "      <th>4</th>\n",
       "      <td>@ericat_lol mercado a vista vai ficar parado p...</td>\n",
       "      <td>Relevante</td>\n",
       "      <td>Irrelevante</td>\n",
       "    </tr>\n",
       "    <tr>\n",
       "      <th>5</th>\n",
       "      <td>vou passar no mercado dps do trampo pra fazer ...</td>\n",
       "      <td>Irrelevante</td>\n",
       "      <td>Irrelevante</td>\n",
       "    </tr>\n",
       "    <tr>\n",
       "      <th>6</th>\n",
       "      <td>cabe a mão invisível do mercado pagar meu almo...</td>\n",
       "      <td>Relevante</td>\n",
       "      <td>Irrelevante</td>\n",
       "    </tr>\n",
       "    <tr>\n",
       "      <th>7</th>\n",
       "      <td>circuit breaker acionado pela terceira vez na ...</td>\n",
       "      <td>Relevante</td>\n",
       "      <td>Irrelevante</td>\n",
       "    </tr>\n",
       "    <tr>\n",
       "      <th>8</th>\n",
       "      <td>rt @bitencourtbas: guedes chamou o mercado par...</td>\n",
       "      <td>Relevante</td>\n",
       "      <td>Irrelevante</td>\n",
       "    </tr>\n",
       "    <tr>\n",
       "      <th>9</th>\n",
       "      <td>fui ao mercado comprar algo pra fazer almoço e...</td>\n",
       "      <td>Irrelevante</td>\n",
       "      <td>Irrelevante</td>\n",
       "    </tr>\n",
       "  </tbody>\n",
       "</table>\n",
       "</div>"
      ],
      "text/plain": [
       "                                         Treinamento   relevância  \\\n",
       "0                      nunca vi um mercado tão cheio  Irrelevante   \n",
       "1  rt @folha: guedes diz que vai acionar stf cont...    Relevante   \n",
       "2  deixando tudo mais barato:\\ncupom ifood (app) ...  Irrelevante   \n",
       "3  rt @reporterlacerda: inovação no grenal\\n\\npre...  Irrelevante   \n",
       "4  @ericat_lol mercado a vista vai ficar parado p...    Relevante   \n",
       "5  vou passar no mercado dps do trampo pra fazer ...  Irrelevante   \n",
       "6  cabe a mão invisível do mercado pagar meu almo...    Relevante   \n",
       "7  circuit breaker acionado pela terceira vez na ...    Relevante   \n",
       "8  rt @bitencourtbas: guedes chamou o mercado par...    Relevante   \n",
       "9  fui ao mercado comprar algo pra fazer almoço e...  Irrelevante   \n",
       "\n",
       "  Classificador  \n",
       "0   Irrelevante  \n",
       "1   Irrelevante  \n",
       "2   Irrelevante  \n",
       "3   Irrelevante  \n",
       "4   Irrelevante  \n",
       "5   Irrelevante  \n",
       "6   Irrelevante  \n",
       "7   Irrelevante  \n",
       "8   Irrelevante  \n",
       "9   Irrelevante  "
      ]
     },
     "execution_count": 21,
     "metadata": {},
     "output_type": "execute_result"
    }
   ],
   "source": [
    "dados.head(10)"
   ]
  },
  {
   "cell_type": "code",
   "execution_count": 22,
   "metadata": {},
   "outputs": [
    {
     "data": {
      "text/html": [
       "<div>\n",
       "<style scoped>\n",
       "    .dataframe tbody tr th:only-of-type {\n",
       "        vertical-align: middle;\n",
       "    }\n",
       "\n",
       "    .dataframe tbody tr th {\n",
       "        vertical-align: top;\n",
       "    }\n",
       "\n",
       "    .dataframe thead th {\n",
       "        text-align: right;\n",
       "    }\n",
       "</style>\n",
       "<table border=\"1\" class=\"dataframe\">\n",
       "  <thead>\n",
       "    <tr style=\"text-align: right;\">\n",
       "      <th></th>\n",
       "      <th>Treinamento</th>\n",
       "      <th>relevância</th>\n",
       "      <th>Classificador</th>\n",
       "    </tr>\n",
       "  </thead>\n",
       "  <tbody>\n",
       "    <tr>\n",
       "      <th>0</th>\n",
       "      <td>nunca vi um mercado tão cheio</td>\n",
       "      <td>Irrelevante</td>\n",
       "      <td>Irrelevante</td>\n",
       "    </tr>\n",
       "    <tr>\n",
       "      <th>1</th>\n",
       "      <td>rt @folha: guedes diz que vai acionar stf cont...</td>\n",
       "      <td>Relevante</td>\n",
       "      <td>Irrelevante</td>\n",
       "    </tr>\n",
       "    <tr>\n",
       "      <th>2</th>\n",
       "      <td>deixando tudo mais barato:\\ncupom ifood (app) ...</td>\n",
       "      <td>Irrelevante</td>\n",
       "      <td>Irrelevante</td>\n",
       "    </tr>\n",
       "    <tr>\n",
       "      <th>3</th>\n",
       "      <td>rt @reporterlacerda: inovação no grenal\\n\\npre...</td>\n",
       "      <td>Irrelevante</td>\n",
       "      <td>Irrelevante</td>\n",
       "    </tr>\n",
       "    <tr>\n",
       "      <th>4</th>\n",
       "      <td>@ericat_lol mercado a vista vai ficar parado p...</td>\n",
       "      <td>Relevante</td>\n",
       "      <td>Irrelevante</td>\n",
       "    </tr>\n",
       "    <tr>\n",
       "      <th>5</th>\n",
       "      <td>vou passar no mercado dps do trampo pra fazer ...</td>\n",
       "      <td>Irrelevante</td>\n",
       "      <td>Irrelevante</td>\n",
       "    </tr>\n",
       "    <tr>\n",
       "      <th>6</th>\n",
       "      <td>cabe a mão invisível do mercado pagar meu almo...</td>\n",
       "      <td>Relevante</td>\n",
       "      <td>Irrelevante</td>\n",
       "    </tr>\n",
       "    <tr>\n",
       "      <th>7</th>\n",
       "      <td>circuit breaker acionado pela terceira vez na ...</td>\n",
       "      <td>Relevante</td>\n",
       "      <td>Irrelevante</td>\n",
       "    </tr>\n",
       "    <tr>\n",
       "      <th>8</th>\n",
       "      <td>rt @bitencourtbas: guedes chamou o mercado par...</td>\n",
       "      <td>Relevante</td>\n",
       "      <td>Irrelevante</td>\n",
       "    </tr>\n",
       "    <tr>\n",
       "      <th>9</th>\n",
       "      <td>fui ao mercado comprar algo pra fazer almoço e...</td>\n",
       "      <td>Irrelevante</td>\n",
       "      <td>Irrelevante</td>\n",
       "    </tr>\n",
       "  </tbody>\n",
       "</table>\n",
       "</div>"
      ],
      "text/plain": [
       "                                         Treinamento   relevância  \\\n",
       "0                      nunca vi um mercado tão cheio  Irrelevante   \n",
       "1  rt @folha: guedes diz que vai acionar stf cont...    Relevante   \n",
       "2  deixando tudo mais barato:\\ncupom ifood (app) ...  Irrelevante   \n",
       "3  rt @reporterlacerda: inovação no grenal\\n\\npre...  Irrelevante   \n",
       "4  @ericat_lol mercado a vista vai ficar parado p...    Relevante   \n",
       "5  vou passar no mercado dps do trampo pra fazer ...  Irrelevante   \n",
       "6  cabe a mão invisível do mercado pagar meu almo...    Relevante   \n",
       "7  circuit breaker acionado pela terceira vez na ...    Relevante   \n",
       "8  rt @bitencourtbas: guedes chamou o mercado par...    Relevante   \n",
       "9  fui ao mercado comprar algo pra fazer almoço e...  Irrelevante   \n",
       "\n",
       "  Classificador  \n",
       "0   Irrelevante  \n",
       "1   Irrelevante  \n",
       "2   Irrelevante  \n",
       "3   Irrelevante  \n",
       "4   Irrelevante  \n",
       "5   Irrelevante  \n",
       "6   Irrelevante  \n",
       "7   Irrelevante  \n",
       "8   Irrelevante  \n",
       "9   Irrelevante  "
      ]
     },
     "execution_count": 22,
     "metadata": {},
     "output_type": "execute_result"
    }
   ],
   "source": [
    "for i in dados.Treinamento:\n",
    "    \n",
    "    frase = i\n",
    "    frase = cleanup(frase.lower())\n",
    "    frase_split = frase.split()\n",
    "\n",
    "    \n",
    "    for p in frase_split:\n",
    "        if p not in tabela_relev:\n",
    "            relevzada.append(p)\n",
    "            serie_relev = pd.Series(relevzada)\n",
    "            tabela_relev = serie_relev.value_counts(True)\n",
    "\n",
    "        if p not in tabela_irrelev:\n",
    "            irrelevzada.append(p)\n",
    "            serie_irrelev = pd.Series(irrelevzada)\n",
    "            tabela_irrelev = serie_irrelev.value_counts(True)\n",
    "\n",
    "            \n",
    "    pf_dado_r = tabela_relev[frase_split].prod()\n",
    "    pf_dado_i = tabela_irrelev[frase_split].prod()\n",
    "    \n",
    "    \n",
    "    if (pr_dado_f > pi_dado_f):\n",
    "        dados.loc[dados.Treinamento==i,'Classificador'] = 'Relevante'\n",
    "    else:\n",
    "        dados.loc[dados.Treinamento==i,'Classificador'] = 'Irrelevante'\n",
    "\n",
    "dados.head(10)"
   ]
  },
  {
   "cell_type": "markdown",
   "metadata": {},
   "source": [
    "___\n",
    "## Aperfeiçoamento:\n",
    "\n",
    "Os trabalhos vão evoluir em conceito dependendo da quantidade de itens avançados:\n",
    "\n",
    "* Limpar: \\n, :, \", ', (, ), etc SEM remover emojis\n",
    "* Corrigir separação de espaços entre palavras e emojis ou entre emojis e emojis\n",
    "* Propor outras limpezas e transformações que não afetem a qualidade da informação ou classificação\n",
    "* Criar categorias intermediárias de relevância baseadas na probabilidade: ex.: muito relevante, relevante, neutro, irrelevante, muito irrelevante (3 categorias: C, mais categorias conta para B)\n",
    "* Explicar por que não posso usar o próprio classificador para gerar mais amostras de treinamento\n",
    "* Propor diferentes cenários para Naïve Bayes fora do contexto do projeto\n",
    "* Sugerir e explicar melhorias reais com indicações concretas de como implementar (indicar como fazer e indicar material de pesquisa)\n",
    "* Montar um dashboard que periodicamente realiza análise de sentimento e visualiza estes dados"
   ]
  },
  {
   "cell_type": "markdown",
   "metadata": {},
   "source": [
    "___\n",
    "## Referências"
   ]
  },
  {
   "cell_type": "markdown",
   "metadata": {},
   "source": [
    "[Naive Bayes and Text Classification](https://arxiv.org/pdf/1410.5329.pdf)  **Mais completo**\n",
    "\n",
    "[A practical explanation of a Naive Bayes Classifier](https://monkeylearn.com/blog/practical-explanation-naive-bayes-classifier/) **Mais simples**"
   ]
  },
  {
   "cell_type": "code",
   "execution_count": null,
   "metadata": {},
   "outputs": [],
   "source": []
  }
 ],
 "metadata": {
  "kernelspec": {
   "display_name": "Python 3",
   "language": "python",
   "name": "python3"
  },
  "language_info": {
   "codemirror_mode": {
    "name": "ipython",
    "version": 3
   },
   "file_extension": ".py",
   "mimetype": "text/x-python",
   "name": "python",
   "nbconvert_exporter": "python",
   "pygments_lexer": "ipython3",
   "version": "3.8.2"
  }
 },
 "nbformat": 4,
 "nbformat_minor": 4
}
